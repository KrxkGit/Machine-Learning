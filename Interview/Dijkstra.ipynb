{
 "cells": [
  {
   "cell_type": "code",
   "execution_count": 6,
   "id": "b7e00468",
   "metadata": {},
   "outputs": [],
   "source": [
    "import collections"
   ]
  },
  {
   "cell_type": "code",
   "execution_count": 1,
   "id": "2450138c",
   "metadata": {},
   "outputs": [],
   "source": [
    "inf = float('inf')\n",
    "G = [[0, 1, 12, inf, inf, inf],\n",
    "         [inf, 0, 9, 3, inf, inf],\n",
    "         [inf, inf, 0, inf, 5, inf],\n",
    "         [inf, inf, 4, 0, 13, 15],\n",
    "         [inf, inf, inf, inf, 0, 4],\n",
    "         [inf, inf, inf, inf, inf, 0]]"
   ]
  },
  {
   "cell_type": "code",
   "execution_count": 7,
   "id": "45c167c0",
   "metadata": {},
   "outputs": [],
   "source": [
    "queue = collections.deque()"
   ]
  },
  {
   "cell_type": "code",
   "execution_count": null,
   "id": "1c6f4a9f",
   "metadata": {},
   "outputs": [],
   "source": []
  },
  {
   "cell_type": "code",
   "execution_count": 2,
   "id": "341f0e92",
   "metadata": {},
   "outputs": [
    {
     "data": {
      "text/plain": [
       "[[0, 1, 12, inf, inf, inf],\n",
       " [inf, 0, 9, 3, inf, inf],\n",
       " [inf, inf, 0, inf, 5, inf],\n",
       " [inf, inf, 4, 0, 13, 15],\n",
       " [inf, inf, inf, inf, 0, 4],\n",
       " [inf, inf, inf, inf, inf, 0]]"
      ]
     },
     "execution_count": 2,
     "metadata": {},
     "output_type": "execute_result"
    }
   ],
   "source": [
    "G"
   ]
  },
  {
   "cell_type": "code",
   "execution_count": 8,
   "id": "03cb4d36",
   "metadata": {},
   "outputs": [],
   "source": [
    "def findNearest(queue, origin):\n",
    "    # 查找团周围最近的点，团基于队列维护\n",
    "    return"
   ]
  },
  {
   "cell_type": "code",
   "execution_count": null,
   "id": "2243355b",
   "metadata": {},
   "outputs": [],
   "source": [
    "def Dijkstra(G):\n",
    "    # 每次找到离源点（上面例子的源点就是 1 号顶点）最近的一个顶点，然后以该顶点为中心进行扩展，最终得到源点到其余所有点的最短路径。\n",
    "    # 扩展\n",
    "    target_next = findNearest(queue, G)\n",
    "    queue.append(target_next)\n",
    "    return 0 # 返回距离"
   ]
  }
 ],
 "metadata": {
  "kernelspec": {
   "display_name": "Python 3 (ipykernel)",
   "language": "python",
   "name": "python3"
  },
  "language_info": {
   "codemirror_mode": {
    "name": "ipython",
    "version": 3
   },
   "file_extension": ".py",
   "mimetype": "text/x-python",
   "name": "python",
   "nbconvert_exporter": "python",
   "pygments_lexer": "ipython3",
   "version": "3.9.13"
  }
 },
 "nbformat": 4,
 "nbformat_minor": 5
}
