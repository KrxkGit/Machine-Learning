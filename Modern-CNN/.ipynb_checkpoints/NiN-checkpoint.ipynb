{
 "cells": [
  {
   "cell_type": "code",
   "execution_count": 1,
   "id": "53884ed0",
   "metadata": {},
   "outputs": [],
   "source": [
    "import torch\n",
    "from torch import nn\n",
    "import os\n",
    "os.environ['KMP_DUPLICATE_LIB_OK'] = 'True'\n",
    "from d2l import torch as d2l"
   ]
  },
  {
   "cell_type": "code",
   "execution_count": 2,
   "id": "6217f50d",
   "metadata": {},
   "outputs": [],
   "source": [
    "def nin_block(in_chanels, out_chanels, kernel_size, strides, padding):\n",
    "    return nn.Sequential(nn.Conv2d(in_chanels, out_chanels, kernel_size, strides,padding),\n",
    "                         nn.ReLU(),\n",
    "                        nn.Conv2d(out_chanels, out_chanels,kernel_size=1), nn.ReLU(),\n",
    "                        nn.Conv2d(out_chanels, out_chanels, kernel_size=1),nn.ReLU())"
   ]
  },
  {
   "cell_type": "code",
   "execution_count": 3,
   "id": "607219aa",
   "metadata": {},
   "outputs": [],
   "source": [
    "net = nn.Sequential(nin_block(1, 96, kernel_size=11, strides=4, padding=0),\n",
    "                   nn.MaxPool2d(3, stride=2),\n",
    "                   nin_block(96, 256, kernel_size=5, strides=1, padding=2),\n",
    "                   nn.MaxPool2d(3, stride=2),\n",
    "                   nin_block(256, 384, kernel_size=3, strides=1, padding=1),\n",
    "                   nn.MaxPool2d(3, stride=2),\n",
    "                   nn.Dropout(0.5),\n",
    "                   nin_block(384, 10, kernel_size=3, strides=1, padding=1),\n",
    "                   nn.AdaptiveAvgPool2d((1, 1)),\n",
    "                   nn.Flatten())"
   ]
  },
  {
   "cell_type": "code",
   "execution_count": 5,
   "id": "fb35dfce",
   "metadata": {},
   "outputs": [
    {
     "name": "stdout",
     "output_type": "stream",
     "text": [
      "Sequential output shape:\t torch.Size([1, 96, 54, 54])\n",
      "MaxPool2d output shape:\t torch.Size([1, 96, 26, 26])\n",
      "Sequential output shape:\t torch.Size([1, 256, 26, 26])\n",
      "MaxPool2d output shape:\t torch.Size([1, 256, 12, 12])\n",
      "Sequential output shape:\t torch.Size([1, 384, 12, 12])\n",
      "MaxPool2d output shape:\t torch.Size([1, 384, 5, 5])\n",
      "Dropout output shape:\t torch.Size([1, 384, 5, 5])\n",
      "Sequential output shape:\t torch.Size([1, 10, 5, 5])\n",
      "AdaptiveAvgPool2d output shape:\t torch.Size([1, 10, 1, 1])\n",
      "Flatten output shape:\t torch.Size([1, 10])\n"
     ]
    }
   ],
   "source": [
    "X = torch.rand(size=(1, 1, 224, 224))\n",
    "for layer in net:\n",
    "    X = layer(X)\n",
    "    print(layer.__class__.__name__,'output shape:\\t', X.shape)"
   ]
  },
  {
   "cell_type": "code",
   "execution_count": null,
   "id": "d4390b0a",
   "metadata": {},
   "outputs": [],
   "source": [
    "lr, num_epochs, batch_size = 0.1, 10, 128\n",
    "train_iter, test_iter = d2l.load_data_fashion_mnist(batch_size, resize=224)\n",
    "d2l.train_ch6(net, train_iter, test_iter, num_epochs, lr, d2l.try_gpu())"
   ]
  }
 ],
 "metadata": {
  "kernelspec": {
   "display_name": "Python 3 (ipykernel)",
   "language": "python",
   "name": "python3"
  },
  "language_info": {
   "codemirror_mode": {
    "name": "ipython",
    "version": 3
   },
   "file_extension": ".py",
   "mimetype": "text/x-python",
   "name": "python",
   "nbconvert_exporter": "python",
   "pygments_lexer": "ipython3",
   "version": "3.9.13"
  }
 },
 "nbformat": 4,
 "nbformat_minor": 5
}
