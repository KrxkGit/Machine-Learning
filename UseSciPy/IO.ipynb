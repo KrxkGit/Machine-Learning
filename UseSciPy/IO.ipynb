{
 "cells": [
  {
   "cell_type": "code",
   "execution_count": 2,
   "id": "22146646",
   "metadata": {},
   "outputs": [],
   "source": [
    "from scipy import io as spio\n",
    "import numpy as np"
   ]
  },
  {
   "cell_type": "code",
   "execution_count": 3,
   "id": "72277e19",
   "metadata": {},
   "outputs": [
    {
     "data": {
      "text/plain": [
       "array([[1., 1., 1.],\n",
       "       [1., 1., 1.],\n",
       "       [1., 1., 1.]])"
      ]
     },
     "execution_count": 3,
     "metadata": {},
     "output_type": "execute_result"
    }
   ],
   "source": [
    "a = np.ones((3, 3))\n",
    "a"
   ]
  },
  {
   "cell_type": "code",
   "execution_count": 4,
   "id": "6c156f44",
   "metadata": {},
   "outputs": [],
   "source": [
    "spio.savemat('file.mat', {'a':a})"
   ]
  },
  {
   "cell_type": "code",
   "execution_count": 5,
   "id": "f069daa0",
   "metadata": {},
   "outputs": [],
   "source": [
    "data = spio.loadmat('file.mat',struct_as_record=True)"
   ]
  },
  {
   "cell_type": "code",
   "execution_count": 6,
   "id": "438513df",
   "metadata": {},
   "outputs": [
    {
     "data": {
      "text/plain": [
       "array([[1., 1., 1.],\n",
       "       [1., 1., 1.],\n",
       "       [1., 1., 1.]])"
      ]
     },
     "execution_count": 6,
     "metadata": {},
     "output_type": "execute_result"
    }
   ],
   "source": [
    "data['a']"
   ]
  },
  {
   "cell_type": "code",
   "execution_count": 7,
   "id": "88dfe91c",
   "metadata": {},
   "outputs": [],
   "source": [
    "# 读取图片\n",
    "import matplotlib.pyplot as plt\n",
    "import os\n",
    "os.environ['KMP_DUPLICATE_LIB_OK']='True'"
   ]
  },
  {
   "cell_type": "code",
   "execution_count": 17,
   "id": "f322f6eb",
   "metadata": {},
   "outputs": [],
   "source": [
    "img = plt.imread('image.png')\n",
    "img_shape = img.shape  # 4 通道"
   ]
  },
  {
   "cell_type": "code",
   "execution_count": 18,
   "id": "495a3f88",
   "metadata": {},
   "outputs": [],
   "source": [
    "img = img.reshape(-1, 4)\n",
    "img[:, 3]=0.6  # 设置图透明度为0.6\n",
    "img = img.reshape(img_shape)"
   ]
  },
  {
   "cell_type": "code",
   "execution_count": 19,
   "id": "cba7cb55",
   "metadata": {},
   "outputs": [],
   "source": [
    "plt.imsave('image-out.png', img)"
   ]
  },
  {
   "cell_type": "code",
   "execution_count": 22,
   "id": "100001ea",
   "metadata": {},
   "outputs": [
    {
     "data": {
      "text/plain": [
       "array([[1., 2., 3., 4.],\n",
       "       [2., 3., 4., 5.]])"
      ]
     },
     "execution_count": 22,
     "metadata": {},
     "output_type": "execute_result"
    }
   ],
   "source": [
    "# 载入txt\n",
    "text = np.loadtxt('test.txt')\n",
    "text"
   ]
  },
  {
   "cell_type": "code",
   "execution_count": 23,
   "id": "4b84cbce",
   "metadata": {},
   "outputs": [
    {
     "data": {
      "text/plain": [
       "dtype('float64')"
      ]
     },
     "execution_count": 23,
     "metadata": {},
     "output_type": "execute_result"
    }
   ],
   "source": [
    "text.dtype"
   ]
  },
  {
   "cell_type": "code",
   "execution_count": 25,
   "id": "f51af54d",
   "metadata": {},
   "outputs": [],
   "source": [
    "np.save('out', text)"
   ]
  },
  {
   "cell_type": "code",
   "execution_count": 27,
   "id": "c2c269a1",
   "metadata": {},
   "outputs": [
    {
     "data": {
      "text/plain": [
       "array([[1., 2., 3., 4.],\n",
       "       [2., 3., 4., 5.]])"
      ]
     },
     "execution_count": 27,
     "metadata": {},
     "output_type": "execute_result"
    }
   ],
   "source": [
    "data = np.load('out.npy')\n",
    "data"
   ]
  }
 ],
 "metadata": {
  "kernelspec": {
   "display_name": "Python 3 (ipykernel)",
   "language": "python",
   "name": "python3"
  },
  "language_info": {
   "codemirror_mode": {
    "name": "ipython",
    "version": 3
   },
   "file_extension": ".py",
   "mimetype": "text/x-python",
   "name": "python",
   "nbconvert_exporter": "python",
   "pygments_lexer": "ipython3",
   "version": "3.9.13"
  }
 },
 "nbformat": 4,
 "nbformat_minor": 5
}
