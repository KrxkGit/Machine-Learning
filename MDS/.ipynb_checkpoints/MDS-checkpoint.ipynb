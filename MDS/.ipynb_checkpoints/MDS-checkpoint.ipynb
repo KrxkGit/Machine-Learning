{
 "cells": [
  {
   "cell_type": "markdown",
   "id": "fd45d958",
   "metadata": {},
   "source": [
    "# MDS 作业"
   ]
  },
  {
   "cell_type": "markdown",
   "id": "58f69ff6",
   "metadata": {},
   "source": [
    "## 准备环境"
   ]
  },
  {
   "cell_type": "code",
   "execution_count": 1,
   "id": "de97a684",
   "metadata": {},
   "outputs": [],
   "source": [
    "import numpy as np\n",
    "from sklearn.datasets import fetch_olivetti_faces as face\n",
    "import os\n",
    "os.environ['KMP_DUPLICATE_LIB_OK']='True'\n",
    "import matplotlib.pyplot as plt\n",
    "from IPython import display"
   ]
  },
  {
   "cell_type": "markdown",
   "id": "570a1aeb",
   "metadata": {},
   "source": [
    "## 加载数据集"
   ]
  },
  {
   "cell_type": "code",
   "execution_count": 2,
   "id": "2573218a",
   "metadata": {},
   "outputs": [],
   "source": [
    "data = face(data_home='./data')"
   ]
  },
  {
   "cell_type": "code",
   "execution_count": 3,
   "id": "d4cfd9c1",
   "metadata": {},
   "outputs": [],
   "source": [
    "array = data['images'][0]"
   ]
  },
  {
   "cell_type": "code",
   "execution_count": 4,
   "id": "82a4e615",
   "metadata": {},
   "outputs": [
    {
     "data": {
      "text/plain": [
       "<matplotlib.image.AxesImage at 0x1f2856d8ca0>"
      ]
     },
     "execution_count": 4,
     "metadata": {},
     "output_type": "execute_result"
    },
    {
     "data": {
      "image/png": "[encoded data removed]",
      "text/plain": [
       "<Figure size 640x480 with 1 Axes>"
      ]
     },
     "metadata": {},
     "output_type": "display_data"
    }
   ],
   "source": [
    "plt.imshow(array)"
   ]
  },
  {
   "cell_type": "code",
   "execution_count": 5,
   "id": "df1f00b3",
   "metadata": {},
   "outputs": [
    {
     "data": {
      "text/plain": [
       "dict_keys(['data', 'images', 'target', 'DESCR'])"
      ]
     },
     "execution_count": 5,
     "metadata": {},
     "output_type": "execute_result"
    }
   ],
   "source": [
    "data.keys()"
   ]
  },
  {
   "cell_type": "code",
   "execution_count": 6,
   "id": "8471240f",
   "metadata": {},
   "outputs": [
    {
     "data": {
      "text/plain": [
       "(4096, 64, 0, '.')"
      ]
     },
     "execution_count": 6,
     "metadata": {},
     "output_type": "execute_result"
    }
   ],
   "source": [
    "len(data['data'][0]), len(data['images'][0]), data['target'][0], data['DESCR'][0]"
   ]
  },
  {
   "cell_type": "code",
   "execution_count": 7,
   "id": "e2c2e3c0",
   "metadata": {},
   "outputs": [],
   "source": [
    "res = data['data'][0] - data['data'][1]"
   ]
  },
  {
   "cell_type": "markdown",
   "id": "3e1b134b",
   "metadata": {},
   "source": [
    "## 距离算法"
   ]
  },
  {
   "cell_type": "code",
   "execution_count": 8,
   "id": "2393e540",
   "metadata": {},
   "outputs": [],
   "source": [
    "''' 对于每一张图片，输入为二维已展开为一维的形式 '''\n",
    "class Distance:\n",
    "    def _calcDiff(self, a, b):\n",
    "        # 矩阵运算中间结果\n",
    "        return a - b\n",
    "#     def autoConvert(self, a, b):\n",
    "#         # 自动转换为 tensor\n",
    "#         if not isinstance(a, np.Tensor):\n",
    "#             a = np.tensor(a)\n",
    "#             b = np.tensor(b)\n",
    "#         return a, b\n",
    "    def Euclidean(self, a, b):\n",
    "#         a, b = self.autoConvert(a, b)\n",
    "        # 欧式距离\n",
    "        midRes = self._calcDiff(a, b)\n",
    "        res = np.sqrt(np.sum(midRes ** 2))\n",
    "        return res\n",
    "    \n",
    "    def Manhattan(self, a, b):\n",
    "#         a, b = self.autoConvert(a, b)\n",
    "        # 曼哈顿距离\n",
    "        midRes = self._calcDiff(a, b)\n",
    "        res = np.sum(np.abs(midRes))\n",
    "        return res\n",
    "    \n",
    "    def DefaultDistance(self, a, b):\n",
    "        # 默认算法，提供公共接口\n",
    "#         a, b = self.autoConvert(a, b)\n",
    "        res = self.Euclidean(a, b)\n",
    "        return res"
   ]
  },
  {
   "cell_type": "code",
   "execution_count": 9,
   "id": "47c3c21b",
   "metadata": {},
   "outputs": [],
   "source": [
    "calc_obj = Distance()"
   ]
  },
  {
   "cell_type": "code",
   "execution_count": 10,
   "id": "f3cfc98c",
   "metadata": {},
   "outputs": [
    {
     "data": {
      "text/plain": [
       "(12.699108, 497.8636, 12.699108)"
      ]
     },
     "execution_count": 10,
     "metadata": {},
     "output_type": "execute_result"
    }
   ],
   "source": [
    "element_0 = data['data'][0]\n",
    "element_1 = data['data'][1]\n",
    "calc_obj.Euclidean(element_0, element_1), calc_obj.Manhattan(element_0, element_1), calc_obj.DefaultDistance(element_0, element_1)"
   ]
  },
  {
   "cell_type": "markdown",
   "id": "25fcc55a",
   "metadata": {},
   "source": [
    "## MDS 算法"
   ]
  },
  {
   "cell_type": "markdown",
   "id": "c0b204d7",
   "metadata": {},
   "source": [
    "### 构建原始距离矩阵"
   ]
  },
  {
   "cell_type": "code",
   "execution_count": 12,
   "id": "a461b6ef",
   "metadata": {},
   "outputs": [
    {
     "name": "stdout",
     "output_type": "stream",
     "text": [
      "400\n"
     ]
    }
   ],
   "source": [
    "# 建立矩阵\n",
    "element_count = len(data['data'])\n",
    "print(element_count)\n",
    "distance_matrix = np.zeros((element_count, element_count))"
   ]
  },
  {
   "cell_type": "code",
   "execution_count": 13,
   "id": "dba47f48",
   "metadata": {},
   "outputs": [],
   "source": [
    "# 封装迭代器\n",
    "class DataIterator:\n",
    "    def __init__(self, data):\n",
    "        self.data = data\n",
    "        self.index = 0\n",
    "        \n",
    "    def __iter__(self):\n",
    "        return iter(self.data)\n",
    "    \n",
    "#     def __next__(self):\n",
    "#         if self.index < len(self.data):\n",
    "#             result = self.data[self.index]\n",
    "#             self.index += 1\n",
    "#             return result\n",
    "#         else:\n",
    "#             raise StopIteration()"
   ]
  },
  {
   "cell_type": "code",
   "execution_count": 14,
   "id": "904d33af",
   "metadata": {},
   "outputs": [],
   "source": [
    "# 封装矩阵迭代器\n",
    "class MatrixIterator:\n",
    "    def __init__(self, data):\n",
    "        self.data = data\n",
    "        self.data_iter_Row = DataIterator(data)\n",
    "        self.data_iter_Col = DataIterator(data)\n",
    "    def getRowIter(self):\n",
    "        return self.data_iter_Row\n",
    "    \n",
    "    def getColIter(self):\n",
    "        return self.data_iter_Col"
   ]
  },
  {
   "cell_type": "code",
   "execution_count": 15,
   "id": "621b3d9e",
   "metadata": {},
   "outputs": [],
   "source": [
    "data_iter = MatrixIterator(data['data'])"
   ]
  },
  {
   "cell_type": "code",
   "execution_count": 16,
   "id": "8a7045a4",
   "metadata": {},
   "outputs": [],
   "source": [
    "for index, element in enumerate(data_iter.getRowIter()):\n",
    "    for index2, element2 in enumerate(data_iter.getColIter()):\n",
    "        if index == index2:\n",
    "            distance_matrix[index, index2] = 0\n",
    "        else:\n",
    "            distance_matrix[index, index2] = distance_matrix[index2, index] = calc_obj.DefaultDistance(element, element2)"
   ]
  },
  {
   "cell_type": "code",
   "execution_count": 17,
   "id": "16525d2f",
   "metadata": {},
   "outputs": [
    {
     "name": "stdout",
     "output_type": "stream",
     "text": [
      "[[ 0.         12.69910812  6.58579969 ... 13.59208202 12.73783779\n",
      "  11.59374714]\n",
      " [12.69910812  0.         12.02527332 ... 11.96529388 18.11344719\n",
      "  13.65075207]\n",
      " [ 6.58579969 12.02527332  0.         ... 12.71954441 13.58771992\n",
      "  11.870471  ]\n",
      " ...\n",
      " [13.59208202 11.96529388 12.71954441 ...  0.         14.55029297\n",
      "   9.51640701]\n",
      " [12.73783779 18.11344719 13.58771992 ... 14.55029297  0.\n",
      "  10.56836414]\n",
      " [11.59374714 13.65075207 11.870471   ...  9.51640701 10.56836414\n",
      "   0.        ]]\n"
     ]
    }
   ],
   "source": [
    "print(distance_matrix)"
   ]
  },
  {
   "cell_type": "markdown",
   "id": "9174c56d",
   "metadata": {},
   "source": [
    "## 初始化低维*（2 维）*空间坐标"
   ]
  },
  {
   "cell_type": "code",
   "execution_count": 18,
   "id": "62f95745",
   "metadata": {},
   "outputs": [],
   "source": [
    "# 正太分布随机空间坐标\n",
    "dimension = 2\n",
    "np.random.seed(0)\n",
    "mapping_matrix = np.random.normal(0, 0.01, size=(element_count, dimension))\n",
    "# (size=(element_count, dimension))"
   ]
  },
  {
   "cell_type": "code",
   "execution_count": 19,
   "id": "fd2555f0",
   "metadata": {},
   "outputs": [
    {
     "name": "stdout",
     "output_type": "stream",
     "text": [
      "[[ 0.01764052  0.00400157]\n",
      " [ 0.00978738  0.02240893]\n",
      " [ 0.01867558 -0.00977278]\n",
      " [ 0.00950088 -0.00151357]\n",
      " [-0.00103219  0.00410599]\n",
      " [ 0.00144044  0.01454274]\n",
      " [ 0.00761038  0.00121675]\n",
      " [ 0.00443863  0.00333674]\n",
      " [ 0.01494079 -0.00205158]\n",
      " [ 0.00313068 -0.00854096]]\n"
     ]
    }
   ],
   "source": [
    "# 示例结果\n",
    "print(mapping_matrix[: 10])"
   ]
  },
  {
   "cell_type": "markdown",
   "id": "9f3b0502",
   "metadata": {},
   "source": [
    "### 迭代 —— 计算应力"
   ]
  },
  {
   "cell_type": "code",
   "execution_count": 25,
   "id": "4c2fea7b",
   "metadata": {},
   "outputs": [
    {
     "name": "stdout",
     "output_type": "stream",
     "text": [
      "[[0.         0.02001257 0.01381319 ... 0.02927101 0.02244233 0.02510712]\n",
      " [0.02001257 0.         0.03338656 ... 0.03638096 0.03438977 0.03376345]\n",
      " [0.01381319 0.03338656 0.         ... 0.02727655 0.01795748 0.0229695 ]\n",
      " ...\n",
      " [0.02927101 0.03638096 0.02727655 ... 0.         0.00950406 0.00439753]\n",
      " [0.02244233 0.03438977 0.01795748 ... 0.00950406 0.         0.00557069]\n",
      " [0.02510712 0.03376345 0.0229695  ... 0.00439753 0.00557069 0.        ]]\n"
     ]
    }
   ],
   "source": [
    "# 生成映射距离矩阵\n",
    "mapping_distance = np.zeros((element_count, element_count))\n",
    "\n",
    "def calc_mapping_distance():\n",
    "    mapping_distance_iter = MatrixIterator(mapping_matrix)\n",
    "    for index, element in enumerate(mapping_distance_iter.getRowIter()):\n",
    "        for index2, element2 in enumerate(mapping_distance_iter.getColIter()):\n",
    "            if index == index2:\n",
    "                mapping_distance[index, index2] = 0\n",
    "            else:\n",
    "                mapping_distance[index, index2] = mapping_distance[index2, index] =calc_obj.DefaultDistance(element, element2)\n",
    "\n",
    "calc_mapping_distance()\n",
    "print(mapping_distance)"
   ]
  },
  {
   "cell_type": "code",
   "execution_count": 21,
   "id": "740aff4a",
   "metadata": {},
   "outputs": [],
   "source": [
    "# 应力计算公式\n",
    "def stress():\n",
    "    stress = np.zeros((element_count))\n",
    "    for i in range(element_count):\n",
    "        for j in range(i + 1, element_count):\n",
    "            D = distance_matrix[i, j]\n",
    "            stress[i] += ((mapping_distance[i, j] - D) / D) ** 2\n",
    "#     stress = torch.pow(mapping_distance - distance_matrix, 2)\n",
    "    return stress"
   ]
  },
  {
   "cell_type": "code",
   "execution_count": 22,
   "id": "21daf366",
   "metadata": {},
   "outputs": [
    {
     "data": {
      "text/plain": [
       "array([397.55999963, 396.38995273, 395.44961405, 395.16570155,\n",
       "       394.18898573, 392.91252229, 392.04852544, 391.13927757,\n",
       "       389.8450735 , 389.10428704, 387.13614961, 386.89794221,\n",
       "       385.04717761, 385.19091356, 383.43632574, 383.15641685,\n",
       "       381.47469283, 381.17616982, 379.68867406, 379.16216222,\n",
       "       377.60254762, 376.12955793, 376.08820705, 374.81247279,\n",
       "       373.82098411, 373.07053259, 371.90224488, 371.18286827,\n",
       "       370.0757448 , 369.06036   , 368.0642651 , 366.61674411,\n",
       "       366.14237839, 364.59102635, 364.00897255, 363.12993303,\n",
       "       361.59199169, 361.0396201 , 360.07396581, 359.20589965,\n",
       "       357.66016349, 356.6478697 , 355.21347791, 354.76461737,\n",
       "       353.90665679, 352.94713875, 351.90795815, 351.08850006,\n",
       "       349.66091408, 349.21234696, 347.38961041, 346.83028299,\n",
       "       345.51699496, 345.30126128, 343.67133605, 342.85473707,\n",
       "       341.87164221, 341.29189852, 340.27550717, 339.22532049,\n",
       "       338.11440869, 336.99604976, 336.32900553, 334.79852573,\n",
       "       334.23809529, 333.24714687, 332.32037785, 331.20948709,\n",
       "       330.3353227 , 329.2165294 , 328.10345836, 327.31494792,\n",
       "       325.60154499, 325.24462843, 324.18902005, 322.99694161,\n",
       "       322.35053172, 321.36207836, 320.2202083 , 319.33717327,\n",
       "       317.63727947, 317.05925454, 315.9523002 , 314.75591242,\n",
       "       313.948501  , 313.07683549, 312.07677078, 310.98724246,\n",
       "       310.12422204, 309.24046723, 308.06071704, 306.69414795,\n",
       "       306.07019559, 305.31849185, 303.94656898, 303.19296367,\n",
       "       302.26533299, 301.31693256, 300.25111489, 298.68184719,\n",
       "       298.36932577, 297.09584565, 295.99810035, 295.37402843,\n",
       "       294.41861655, 293.21649851, 292.2817049 , 291.34666388,\n",
       "       290.42420592, 288.76480486, 288.29207131, 287.32894875,\n",
       "       286.1050089 , 285.34819537, 284.37313647, 283.19028139,\n",
       "       282.32835209, 281.18379793, 279.68968592, 279.30923467,\n",
       "       278.24889611, 277.31064022, 276.0088153 , 274.95376011,\n",
       "       273.99542272, 273.28796817, 272.41256835, 271.2160961 ,\n",
       "       270.07611222, 268.98247866, 268.21563312, 267.37963654,\n",
       "       266.00402021, 265.33936269, 264.41141598, 262.67416768,\n",
       "       261.92352794, 261.37275436, 260.39539004, 258.57039845,\n",
       "       258.28766514, 256.90326342, 256.34125912, 255.06146254,\n",
       "       253.96723589, 253.40435609, 251.54961932, 251.2482732 ,\n",
       "       250.2875642 , 249.29486104, 248.06183693, 247.43165926,\n",
       "       246.37239623, 245.2456072 , 244.46823915, 243.35906846,\n",
       "       242.37499247, 241.50130701, 240.50819815, 239.48755905,\n",
       "       238.3990824 , 237.4126964 , 236.33607004, 234.95161456,\n",
       "       234.3370495 , 233.38697503, 232.40390044, 230.94098608,\n",
       "       230.29039106, 229.32534262, 228.38238968, 227.32743332,\n",
       "       226.48403289, 225.45717111, 224.4045057 , 223.30984179,\n",
       "       222.30019065, 221.4491548 , 220.25716646, 219.48591043,\n",
       "       218.48526765, 217.41451927, 216.5360943 , 215.5279912 ,\n",
       "       214.44240923, 213.45985017, 212.45655854, 211.50557628,\n",
       "       210.30511626, 209.4495474 , 208.28187908, 207.05696466,\n",
       "       206.28822562, 205.27799792, 204.31753988, 203.50823251,\n",
       "       202.38553591, 201.54996833, 200.40939412, 199.27226687,\n",
       "       198.34971044, 197.4012319 , 196.18847639, 195.41380778,\n",
       "       194.43502298, 193.21947845, 192.53122646, 191.22698335,\n",
       "       190.4978839 , 189.0807796 , 188.478993  , 187.28842514,\n",
       "       186.6101441 , 185.10056681, 184.59684666, 183.52196389,\n",
       "       182.55122964, 181.54634948, 180.55384818, 179.56044243,\n",
       "       178.48235189, 177.59118747, 176.4533634 , 175.47740197,\n",
       "       174.53373276, 173.42821312, 172.52718486, 171.26460986,\n",
       "       170.36456154, 169.63255023, 168.55223882, 167.61292405,\n",
       "       166.32901728, 165.57551325, 164.31915687, 163.37781723,\n",
       "       162.61096175, 161.35365841, 160.51008231, 159.57132165,\n",
       "       158.42556463, 157.59647901, 156.10776027, 155.38257   ,\n",
       "       154.60899548, 153.57339872, 152.36704805, 151.20648057,\n",
       "       150.60033107, 149.60477108, 148.64785693, 147.55793418,\n",
       "       146.64362008, 145.40415087, 144.47229361, 143.49807389,\n",
       "       142.43051168, 141.66636469, 140.56702843, 139.4701684 ,\n",
       "       138.6644656 , 137.53107641, 136.65178448, 135.50874496,\n",
       "       134.42477052, 133.47288744, 132.61013395, 131.64282657,\n",
       "       130.74968519, 129.74103745, 128.65436354, 127.6080947 ,\n",
       "       126.74334547, 125.45131074, 124.65465353, 123.74886166,\n",
       "       122.69933384, 121.64902643, 120.54881116, 119.68759032,\n",
       "       118.45357076, 117.57800189, 116.71676258, 115.69668886,\n",
       "       114.73786901, 113.59189196, 112.70004209, 111.7442809 ,\n",
       "       110.67947269, 109.672442  , 108.52361251, 107.61243959,\n",
       "       106.74488327, 105.71135775, 104.36242416, 103.70138789,\n",
       "       102.69716933, 101.73475075, 100.74965178,  99.72533289,\n",
       "        98.64437641,  97.75670269,  96.71155639,  95.71320852,\n",
       "        94.80776655,  93.59943435,  92.70827502,  91.78632579,\n",
       "        90.7722819 ,  89.6873575 ,  88.80474338,  87.82882696,\n",
       "        86.77823344,  85.74855351,  84.84061726,  83.84006302,\n",
       "        82.83246425,  81.83252764,  80.81919787,  79.75865538,\n",
       "        78.74622611,  77.76146508,  76.78145979,  75.79548033,\n",
       "        74.70970021,  73.72054436,  72.81935515,  71.82883539,\n",
       "        70.80317269,  69.84113505,  68.78833581,  67.84242573,\n",
       "        66.83324557,  65.82431939,  64.78187411,  63.77657213,\n",
       "        62.79862911,  61.85913107,  60.81991345,  59.82158516,\n",
       "        58.82513146,  57.83883336,  56.70372291,  55.7403244 ,\n",
       "        54.74239555,  53.84290925,  52.79901051,  51.85191492,\n",
       "        50.88993535,  49.85577212,  48.86813988,  47.85693029,\n",
       "        46.79752239,  45.89385521,  44.90423201,  43.89558903,\n",
       "        42.91943568,  41.88391695,  40.91482013,  39.90638348,\n",
       "        38.9100396 ,  37.91683648,  36.86757575,  35.8671133 ,\n",
       "        34.90179191,  33.92540172,  32.91774656,  31.83695191,\n",
       "        30.91773278,  29.93768266,  28.8940855 ,  27.86538811,\n",
       "        26.91341315,  25.92492271,  24.88881708,  23.91444977,\n",
       "        22.89554174,  21.94129027,  20.95154908,  19.94065371,\n",
       "        18.94654401,  17.94893754,  16.94532671,  15.963415  ,\n",
       "        14.93058472,  13.97237205,  12.96160453,  11.96158889,\n",
       "        10.97902142,   9.97546571,   8.95462369,   7.95847512,\n",
       "         6.976883  ,   5.97171497,   4.98691389,   3.99114903,\n",
       "         2.98000226,   1.99777007,   0.99894606,   0.        ])"
      ]
     },
     "execution_count": 22,
     "metadata": {},
     "output_type": "execute_result"
    }
   ],
   "source": [
    "diff = stress()\n",
    "diff"
   ]
  },
  {
   "cell_type": "code",
   "execution_count": 27,
   "id": "0af74a1b",
   "metadata": {},
   "outputs": [
    {
     "name": "stdout",
     "output_type": "stream",
     "text": [
      "[[ 2.96606594e+01  7.31970178e+00]\n",
      " [ 1.71270422e+01  3.66978482e+01]\n",
      " [ 3.12770567e+01 -1.45354354e+01]\n",
      " [ 1.67076399e+01 -1.41981512e+00]\n",
      " [ 2.32527681e-02  7.48156333e+00]\n",
      " [ 3.92999905e+00  2.39716284e+01]\n",
      " [ 1.36538269e+01  2.96987620e+00]\n",
      " [ 8.66784390e+00  6.30250537e+00]\n",
      " [ 2.51352283e+01 -2.14638966e+00]\n",
      " [ 6.66421042e+00 -1.22957718e+01]\n",
      " [-3.80462868e+01  1.12245718e+01]\n",
      " [ 1.51288619e+01 -1.04938212e+01]\n",
      " [ 3.69394039e+01 -2.15471754e+01]\n",
      " [ 2.51194417e+00 -1.93120073e+00]\n",
      " [ 2.54715437e+01  2.36458173e+01]\n",
      " [ 4.25293418e+00  6.84139507e+00]\n",
      " [-1.17634474e+01 -2.93922150e+01]\n",
      " [-3.49258383e+00  3.34885312e+00]\n",
      " [ 2.06223554e+01  1.93322050e+01]\n",
      " [-4.03013526e+00 -3.59915785e+00]\n",
      " [-1.40807727e+01 -2.05884287e+01]\n",
      " [-2.40517658e+01  3.05127982e+01]\n",
      " [-5.95890155e+00 -5.60660919e+00]\n",
      " [-1.71655007e+01  1.27241058e+01]\n",
      " [-2.25964821e+01 -2.16896292e+00]\n",
      " [-1.18200128e+01  6.82567875e+00]\n",
      " [-6.06547790e+00 -1.66246401e+01]\n",
      " [ 1.13525591e+00  7.38110360e+00]\n",
      " [ 2.54438373e+00  5.50830721e+00]\n",
      " [-7.85607172e+00 -4.36345466e+00]\n",
      " [-8.42051936e+00 -4.31627219e+00]\n",
      " [-1.04970423e+01 -2.44891987e+01]\n",
      " [ 4.08418381e+00 -4.99253421e+00]\n",
      " [-2.24517437e+01  7.69925344e+00]\n",
      " [-1.18684879e+01  1.68460182e+00]\n",
      " [ 1.20227904e+01  2.80934954e+00]\n",
      " [ 1.79969058e+01 -1.70477056e+01]\n",
      " [ 7.29480846e+00 -9.06147720e+00]\n",
      " [-1.11402412e+01 -7.52717023e+00]\n",
      " [-3.06474896e+00  1.64244647e+00]\n",
      " [-1.53565502e+01  1.38055670e+01]\n",
      " [ 8.06191415e+00 -2.11907607e+01]\n",
      " [ 2.27053994e+01  2.79573819e+01]\n",
      " [ 1.82861304e+01 -1.68524223e+00]\n",
      " [-1.37472080e+01  1.58922800e+01]\n",
      " [-4.26763347e+00  1.82777855e+01]\n",
      " [ 4.39052579e+00  1.47971721e+01]\n",
      " [ 6.48157663e+00  1.09838420e+01]\n",
      " [ 1.61177804e+00  2.61803483e+01]\n",
      " [ 3.24620354e+00  6.75065727e+00]\n",
      " [ 2.78335440e+01 -1.77458207e+01]\n",
      " [-1.61912103e+01  1.46016739e+01]\n",
      " [-1.48359369e+01  2.81628786e+01]\n",
      " [-4.29401552e+00 -9.18925624e+00]\n",
      " [ 2.80439888e+01  2.16458431e+01]\n",
      " [ 2.72797025e+01  1.37181552e+01]\n",
      " [-1.02683742e+01  2.75334745e+01]\n",
      " [-2.12936407e+00  1.23370851e+01]\n",
      " [ 1.44953290e+01 -7.61056495e-01]\n",
      " [ 9.95085474e+00  1.39321802e+01]\n",
      " [ 6.71876252e+00 -1.35616813e+01]\n",
      " [ 5.65854196e+00  1.93319862e+01]\n",
      " [-7.76419561e+00 -6.23810140e-01]\n",
      " [-4.26729074e+00  2.63213385e+01]\n",
      " [ 1.06168145e+01  6.94352109e+00]\n",
      " [-8.70881061e+00  8.70947165e+00]\n",
      " [-7.43181621e+00  1.93035871e+00]\n",
      " [-6.91917493e+00  1.05164672e+01]\n",
      " [ 9.18198704e+00 -1.23277447e+00]\n",
      " [ 6.79105350e+00 -1.29470333e+01]\n",
      " [-1.81208353e+01  7.28134905e+00]\n",
      " [ 3.69753779e+00  9.85596798e+00]\n",
      " [ 3.27776410e+01  1.39159264e+01]\n",
      " [-1.03336074e+01  1.61727078e+01]\n",
      " [-1.55898382e+01 -4.41224789e+00]\n",
      " [ 6.29817264e-01  2.38618074e+01]\n",
      " [-8.13779402e+00 -9.05375778e+00]\n",
      " [ 2.12431661e-01 -6.94831132e+00]\n",
      " [ 1.59915709e+01 -1.23122288e+01]\n",
      " [-1.32079319e+01 -4.06751763e+00]\n",
      " [-4.89514850e+00  2.62345892e+01]\n",
      " [ 1.35743551e+01  2.73091407e+00]\n",
      " [-1.40898174e+01  1.23575593e+01]\n",
      " [-1.12340256e+01 -1.79366607e+01]\n",
      " [ 1.64253929e+01  5.59540057e+00]\n",
      " [ 1.30590387e+01  5.61789208e+00]\n",
      " [ 1.22548444e+01 -6.56220869e+00]\n",
      " [-1.14213952e+01  1.01221951e+01]\n",
      " [-8.54059719e+00 -6.98968571e+00]\n",
      " [-4.21300531e+00  1.80575427e+00]\n",
      " [-2.95392677e+00 -1.54603833e+01]\n",
      " [-6.53368548e+00 -2.59472483e+01]\n",
      " [ 9.09854472e+00 -1.82922718e+01]\n",
      " [-1.21411249e+01  2.02158338e+00]\n",
      " [-7.67572391e+00  2.02695815e+01]\n",
      " [-1.44259097e+01  4.70282400e+00]\n",
      " [ 8.17551300e-01 -1.27485315e+01]\n",
      " [ 7.63577218e+00 -6.70379843e-01]\n",
      " [ 1.06378200e+01  1.13498300e+01]\n",
      " [ 2.73908226e+01  1.75266365e+01]\n",
      " [-2.99819087e+00 -1.38424901e+00]\n",
      " [ 1.45691527e+01  9.31568017e+00]\n",
      " [ 9.09157809e+00 -1.77691795e+01]\n",
      " [ 1.19782120e+00 -7.32754894e+00]\n",
      " [ 4.80014976e+00  2.48636413e-01]\n",
      " [ 1.22371506e+01  5.14998595e+00]\n",
      " [ 1.07806635e+01 -4.06558884e+00]\n",
      " [-9.50401035e+00 -3.40493943e+00]\n",
      " [ 1.32832348e+00  5.81293326e+00]\n",
      " [ 2.78247973e+01  9.07733812e-01]\n",
      " [-9.47214855e+00 -2.61547183e+00]\n",
      " [-3.78059381e+00  6.95000334e+00]\n",
      " [-1.61899498e+01  2.13211493e+00]\n",
      " [ 3.29509500e+00  4.07130553e+00]\n",
      " [-5.32863563e+00 -1.30667011e+00]\n",
      " [-1.47535268e+01 -4.21820906e+00]\n",
      " [-4.74310124e+00  6.11223334e+00]\n",
      " [-1.16858945e+01  1.02457093e+01]\n",
      " [ 1.82136290e+01 -2.19156363e+01]\n",
      " [ 6.20677088e+00  8.95944165e+00]\n",
      " [-5.70662159e+00 -3.07137266e+00]\n",
      " [-7.57716292e-02 -1.96116542e+00]\n",
      " [-2.03436382e+00 -1.72868932e+01]\n",
      " [ 1.41573336e+01  1.32454030e+01]\n",
      " [-7.54394828e+00 -1.48629108e+01]\n",
      " [ 7.13477221e+00 -5.06591090e+00]\n",
      " [ 2.97970783e+00 -2.25511420e+00]\n",
      " [ 8.98118245e+00  8.81861277e+00]\n",
      " [-6.43725864e+00 -1.37912578e+01]\n",
      " [-1.57308353e+01  7.82091999e+00]\n",
      " [-1.14747806e+01 -4.24479393e+00]\n",
      " [-5.09899402e+00  6.42925938e-01]\n",
      " [-1.94634270e+01  3.23015391e+00]\n",
      " [ 6.81119742e+00  2.15834639e+00]\n",
      " [-2.07083194e+00  2.25387315e+00]\n",
      " [ 5.45445274e+00 -2.81680518e+01]\n",
      " [ 2.18949573e+01  5.22991317e+00]\n",
      " [-5.54457846e+00 -2.98669810e+00]\n",
      " [ 6.46707731e+00 -1.06276006e-01]\n",
      " [-1.98879327e+01  2.26591546e+01]\n",
      " [ 8.15629376e-02  1.17982250e+01]\n",
      " [-5.94287228e+00  1.71461020e+01]\n",
      " [ 4.15414902e+00  7.57395919e+00]\n",
      " [-9.53466870e+00  1.37656182e+01]\n",
      " [ 8.23246377e+00  1.46943958e+01]\n",
      " [-5.21017462e+00 -3.49091237e+00]\n",
      " [ 2.45789886e+01 -9.37343761e+00]\n",
      " [-1.12459313e-01  1.28592631e+01]\n",
      " [ 2.24298134e+00  7.27557127e+00]\n",
      " [-2.74864559e+00  5.13807744e+00]\n",
      " [-1.18194238e+01  1.80188254e+01]\n",
      " [ 1.66697436e-02 -5.27073113e+00]\n",
      " [ 7.79937725e+00 -3.09370364e+00]\n",
      " [-1.19669613e+01 -1.18473611e+01]\n",
      " [ 7.98886988e+00 -1.65863467e-01]\n",
      " [-1.20382303e-01  1.19598455e+01]\n",
      " [-9.81327497e+00 -5.69034889e+00]\n",
      " [-2.60155986e+00  2.32893632e+00]\n",
      " [ 7.15857046e-01 -1.36145509e+00]\n",
      " [ 5.28311320e-01  3.69714581e-01]\n",
      " [-5.78827735e+00 -6.40488746e+00]\n",
      " [ 3.71551698e+00 -7.14982268e+00]\n",
      " [-9.91590081e+00 -1.64133332e+00]\n",
      " [-4.38856264e-01  2.27129360e+01]\n",
      " [-5.60285024e+00  1.03138474e+01]\n",
      " [ 8.04490270e+00 -9.72888599e+00]\n",
      " [ 8.28886776e+00 -9.68148400e+00]\n",
      " [-2.37013352e+01  7.00318153e+00]\n",
      " [-1.53188815e+01  5.56120815e+00]\n",
      " [-5.41471320e+00  1.67288231e+01]\n",
      " [ 1.07084735e+01 -2.71019364e+00]\n",
      " [-5.37966508e+00 -9.67812869e+00]\n",
      " [-3.12780047e+00 -1.16258489e+00]\n",
      " [-2.43564036e+00  2.80591401e+00]\n",
      " [ 6.09102362e+00  4.55018745e+00]\n",
      " [-5.99296517e+00 -1.15368259e+01]\n",
      " [ 1.30799697e+01 -4.83167901e+00]\n",
      " [-4.91011325e+00 -3.33080095e+00]\n",
      " [-1.54842037e+01 -2.94704901e+00]\n",
      " [-3.43162626e+00  6.76220854e+00]\n",
      " [ 6.93576782e+00  1.33623934e+00]\n",
      " [ 8.98027495e+00  4.28129961e+00]\n",
      " [ 7.17809112e-01  2.72009858e+00]\n",
      " [-8.00942484e-01 -2.10405171e+00]\n",
      " [-1.46691406e+00 -8.43856981e+00]\n",
      " [ 3.24739302e+00 -7.27853541e+00]\n",
      " [ 8.05117565e+00 -9.12762749e-01]\n",
      " [ 1.30217452e+00  5.42011369e+00]\n",
      " [ 6.33776374e+00 -1.20865087e+01]\n",
      " [-8.38077371e-01  8.59826291e+00]\n",
      " [-1.33641754e+01  4.45791604e+00]\n",
      " [-1.80245277e+01 -7.32790595e+00]\n",
      " [ 1.06317290e+00 -1.26045187e+01]\n",
      " [-7.41671698e+00 -1.10737115e+01]\n",
      " [ 1.42845233e+01  2.40744569e+00]\n",
      " [ 5.42159717e+00 -7.65157728e-01]\n",
      " [-2.09149456e+00 -1.21385583e+01]\n",
      " [-1.59134815e+00 -5.19610463e+00]\n",
      " [ 7.69872305e+00  1.01768555e+01]\n",
      " [ 1.25923076e+01  7.85691410e+00]\n",
      " [-3.92955365e+00 -7.89067730e+00]\n",
      " [ 6.93837062e+00  3.82795354e+00]\n",
      " [-1.31404263e+01  3.82153022e+00]\n",
      " [ 7.21407288e+00  1.48466734e+00]\n",
      " [-6.22583307e-01 -5.30927343e+00]\n",
      " [-1.04621353e+01  7.23270878e+00]\n",
      " [-1.63575415e+00 -7.89304598e-01]\n",
      " [ 1.41272169e+01  6.29740657e+00]\n",
      " [ 3.66785422e+00  2.13147274e+00]\n",
      " [ 1.24475119e+01  1.41837829e+01]\n",
      " [ 7.95978985e+00  5.53981101e+00]\n",
      " [-1.49024680e+01  2.07353077e+00]\n",
      " [-1.29457211e-01  1.84967026e+00]\n",
      " [ 7.89772754e+00 -1.93458851e+01]\n",
      " [-3.35421703e+00  3.04540142e+00]\n",
      " [-2.59596487e+00 -9.43699604e+00]\n",
      " [ 7.23558961e+00  3.02921018e+00]\n",
      " [-6.23370857e+00  3.30696976e+00]\n",
      " [ 6.81707669e+00  1.05363098e+00]\n",
      " [ 6.66488531e+00  1.58191589e+00]\n",
      " [-1.94482995e+00 -7.32938509e+00]\n",
      " [ 2.69745272e-01  2.36320324e+00]\n",
      " [ 7.11750160e+00  1.60272349e-01]\n",
      " [ 4.15510814e+00 -5.85421983e+00]\n",
      " [-4.57480699e+00  1.59508080e-01]\n",
      " [-6.47880215e+00  6.67396803e+00]\n",
      " [ 4.08479905e+00  2.90754961e+00]\n",
      " [ 3.22515372e+00  1.49618284e+01]\n",
      " [-2.33229227e+00 -1.40888674e+01]\n",
      " [ 2.23795212e+00  6.22862788e-01]\n",
      " [-2.63641871e+00 -5.68907618e+00]\n",
      " [-2.10691115e+00  2.15366145e+00]\n",
      " [-2.53448579e+00  1.71467559e+01]\n",
      " [-5.59183950e+00 -4.26645863e+00]\n",
      " [-1.44105275e+01  2.66969718e+00]\n",
      " [-1.26139189e+01 -2.55050054e+00]\n",
      " [-1.19469018e+00 -3.66749360e+00]\n",
      " [ 1.19401316e+01  7.44338417e+00]\n",
      " [ 9.22024357e+00 -4.71836543e+00]\n",
      " [ 7.99314787e+00  4.15865785e+00]\n",
      " [ 5.70714392e+00  7.57266030e+00]\n",
      " [-4.97873215e+00 -1.67323072e+00]\n",
      " [ 6.21625835e+00 -1.57750560e+01]\n",
      " [ 1.03028558e+01  4.37590124e+00]\n",
      " [ 5.74495810e-01  2.30032493e+00]\n",
      " [-5.52773839e+00 -1.23647139e+00]\n",
      " [ 7.59441448e+00  8.91499508e+00]\n",
      " [ 1.73615655e+01  5.18681656e-01]\n",
      " [-3.03547875e+00 -2.15839889e+00]\n",
      " [-5.20679176e+00  4.77331542e-01]\n",
      " [ 3.19785408e+00  7.39006395e-01]\n",
      " [ 7.45099599e+00 -4.52835789e-01]\n",
      " [-1.09628520e+00 -2.50738763e+00]\n",
      " [-8.65316637e+00 -8.30800320e+00]\n",
      " [-6.00486305e+00  8.44810025e+00]\n",
      " [ 6.02676253e+00  8.87460901e+00]\n",
      " [-6.80347578e+00 -1.03844622e+01]\n",
      " [-2.95874726e+00  1.88175542e+00]\n",
      " [ 3.62293340e+00  6.83558561e+00]\n",
      " [ 2.41365759e+00  1.07536746e+01]\n",
      " [-4.24900381e-01 -4.11851422e+00]\n",
      " [-8.53478607e+00 -3.98447452e+00]\n",
      " [ 2.08202962e+00 -3.98308844e+00]\n",
      " [ 5.88857190e+00  8.62665440e+00]\n",
      " [-1.20978599e+01  5.64403619e+00]\n",
      " [-1.13959525e+01  3.14624866e+00]\n",
      " [ 7.17363148e+00  1.34184246e+00]\n",
      " [-6.15062632e+00 -2.11768603e+00]\n",
      " [-7.75355442e-01  1.11382670e-02]\n",
      " [-4.67512753e-01  3.90315170e-01]\n",
      " [ 1.69764707e+00 -5.32287738e+00]\n",
      " [-6.52732301e-01  8.74759032e+00]\n",
      " [-1.38297534e+00 -1.29834767e+00]\n",
      " [ 6.04826571e+00 -1.20443184e+01]\n",
      " [ 6.56829945e+00 -2.33082265e+00]\n",
      " [ 1.48104931e+00  1.31030292e+00]\n",
      " [ 5.34260546e+00 -4.94720944e-01]\n",
      " [-2.63022453e+00  7.20724650e+00]\n",
      " [-1.08586269e+01  9.72989846e-01]\n",
      " [-5.93998471e+00 -2.81144279e+00]\n",
      " [ 1.01840894e+01  6.30051424e-01]\n",
      " [ 1.53903934e+00 -7.63791354e+00]\n",
      " [-2.82278042e+00  1.69881407e+00]\n",
      " [ 2.24941459e+00  3.66595451e+00]\n",
      " [ 6.43372342e-01  3.24890042e+00]\n",
      " [ 2.69108080e+00 -7.59212482e+00]\n",
      " [ 7.90581375e-01  4.25312643e+00]\n",
      " [ 3.28957230e+00 -8.62434275e-01]\n",
      " [-2.96229605e+00 -4.24238423e+00]\n",
      " [ 3.28058334e-02  5.75379538e+00]\n",
      " [-7.97849456e+00 -2.13527970e+00]\n",
      " [-4.43816739e+00  4.16426303e+00]\n",
      " [-1.90883836e+00 -1.25990814e+00]\n",
      " [-4.64937322e-01  2.66070415e+00]\n",
      " [-1.20880050e+00 -1.21434098e+01]\n",
      " [ 2.72114324e+00  2.49437147e+00]\n",
      " [-4.52324908e-01 -3.84163958e+00]\n",
      " [ 1.90151818e+00  2.18704170e+00]\n",
      " [-1.45147883e+00 -2.44503680e-01]\n",
      " [-3.31037825e+00 -9.04084713e-02]\n",
      " [-5.79146962e+00  2.29322318e+00]\n",
      " [-3.39146864e+00  1.58352912e+00]\n",
      " [-5.20091879e+00 -1.66286120e+00]\n",
      " [-1.74481564e-01 -5.81695280e+00]\n",
      " [ 6.91965584e-01 -8.95792164e-01]\n",
      " [-6.36654989e+00 -4.40735389e+00]\n",
      " [ 2.45996093e+00  3.86012937e+00]\n",
      " [-2.81785918e-01  2.03437505e+00]\n",
      " [ 1.02738219e+00  1.75786415e+00]\n",
      " [ 4.89357340e+00 -4.92743767e+00]\n",
      " [ 2.69928962e+00 -8.77475680e-01]\n",
      " [-5.07272398e-01 -5.93532839e-01]\n",
      " [-1.03839880e+00 -3.84582438e+00]\n",
      " [ 9.05133580e-01  6.23622012e+00]\n",
      " [ 8.13491439e-02  4.83411539e-01]\n",
      " [-2.06461531e+00  8.87072267e-02]\n",
      " [ 1.81102864e+00 -7.60592898e-01]\n",
      " [-1.24327331e+00  1.80745028e+00]\n",
      " [-2.76585170e+00  1.31293152e+00]\n",
      " [ 2.86632638e+00  4.90107573e+00]\n",
      " [-4.79257949e-02  4.92555156e+00]\n",
      " [ 3.50641659e+00 -2.54408766e+00]\n",
      " [-3.52091041e+00 -3.87390773e-01]\n",
      " [ 3.39946152e+00  3.29253249e-01]\n",
      " [-1.55450135e+00  5.26782502e+00]\n",
      " [ 1.10818478e+00 -6.35068735e+00]\n",
      " [ 1.19774295e+00  2.05759193e+00]\n",
      " [ 9.30411196e-01  1.85223267e+00]\n",
      " [ 8.69045176e-02 -3.23991829e+00]\n",
      " [-7.74832122e-01 -2.18122288e+00]\n",
      " [-2.34853546e+00 -3.07009003e+00]\n",
      " [ 1.47469935e+00  6.86171977e-01]\n",
      " [-9.75080772e-01 -1.34630470e+00]\n",
      " [ 1.63228478e-01  3.28616282e+00]\n",
      " [-5.06606401e+00  1.43204275e+00]\n",
      " [-1.27395429e+00 -4.44775940e+00]\n",
      " [-4.85793153e+00 -1.95994538e+00]\n",
      " [ 5.98404325e-01  1.33078761e+00]\n",
      " [-2.27465367e+00  2.87820360e+00]\n",
      " [ 3.48854110e+00  1.36312365e+00]\n",
      " [-1.34598570e+00  3.11112188e+00]\n",
      " [ 1.83245844e+00  2.50457410e+00]\n",
      " [-1.44305530e+00 -6.08397755e+00]\n",
      " [ 4.87996541e+00 -3.29399603e+00]\n",
      " [ 5.82330377e-02  5.64724118e+00]\n",
      " [ 8.64191660e-01  2.49794364e+00]\n",
      " [-3.09503072e+00 -3.39218936e+00]\n",
      " [-1.03927992e+00  2.68885402e+00]\n",
      " [-6.51456960e-01 -1.23274897e+00]\n",
      " [ 4.58745185e-01  2.59545697e+00]\n",
      " [-2.82706979e+00 -1.98949946e+00]\n",
      " [-1.54077874e+00  2.52865602e+00]\n",
      " [ 4.24323557e-01  4.52068489e+00]\n",
      " [ 1.74337705e+00  4.46257548e-01]\n",
      " [ 2.34806014e+00  8.99987177e-01]\n",
      " [-1.19793840e+00  1.74324727e+00]\n",
      " [-1.18281173e+00  3.53926503e-02]\n",
      " [ 2.29865635e+00  3.60671507e-01]\n",
      " [-1.28129611e+00 -2.49262917e-01]\n",
      " [ 1.71159232e+00 -3.93915808e-01]\n",
      " [-5.42265969e-01 -3.26319114e-01]\n",
      " [ 3.48176323e-01 -1.31626466e-01]\n",
      " [-2.36618122e+00 -8.94197062e-01]\n",
      " [-1.37599165e+00  2.25894342e+00]\n",
      " [ 1.13747519e+00  1.31421701e+00]\n",
      " [-7.07770114e-01 -6.50054276e-01]\n",
      " [-7.10706741e-01 -9.71134719e-01]\n",
      " [ 3.25552101e+00 -2.54647756e+00]\n",
      " [ 7.81035434e-01 -1.31669279e+00]\n",
      " [-4.77210790e-02 -9.48970350e-01]\n",
      " [-1.33566364e+00 -1.13160358e+00]\n",
      " [ 2.06616989e+00  3.67575593e-02]\n",
      " [-7.57001059e-01  8.08185992e-01]\n",
      " [ 8.11345704e-02  9.85572531e-01]\n",
      " [-1.82685564e+00  5.52485482e-01]\n",
      " [ 7.70095854e-01 -1.41271671e+00]\n",
      " [ 4.58576284e-01  1.81075196e+00]\n",
      " [ 3.25675348e-02  1.00595837e+00]\n",
      " [ 6.35744310e-01 -3.39483868e-01]\n",
      " [ 1.05869189e-01 -1.06145464e+00]\n",
      " [-2.86986629e-01  4.04691510e-01]\n",
      " [ 6.05560055e-01  2.21473864e-01]\n",
      " [ 6.03315985e-01 -5.90339340e-01]\n",
      " [ 4.45729019e-02  1.72746867e-01]\n",
      " [ 1.29339756e+00  2.33414007e-02]\n",
      " [-1.15767175e-01  1.64652129e-01]\n",
      " [-3.51021387e-01  2.60637599e-01]\n",
      " [-6.29111084e-02 -7.71084728e-01]\n",
      " [ 8.41938510e-02 -6.36681897e-02]\n",
      " [-6.08294319e-01  4.65117436e-02]\n",
      " [ 6.40417386e-01  2.81886905e-01]\n",
      " [ 3.24543029e-01 -3.88721266e-01]\n",
      " [ 2.81333806e-01  8.80615524e-02]\n",
      " [ 2.95934929e-01  1.64831684e-01]\n",
      " [-1.57383302e-01  5.34646197e-02]\n",
      " [-3.70013292e-02  5.17279632e-02]\n",
      " [-5.93261399e-02  2.69736677e-01]\n",
      " [-5.47147152e-02  4.36717416e-03]\n",
      " [ 1.99699884e-02 -9.88537887e-03]\n",
      " [ 0.00000000e+00  0.00000000e+00]]\n"
     ]
    }
   ],
   "source": [
    "# 定义梯度函数\n",
    "def stress_grad():\n",
    "    calc_mapping_distance() # 重新计算 降维距离矩阵\n",
    "    grad = np.zeros((element_count, dimension))\n",
    "    for i in range(element_count):\n",
    "        for j in range(i + 1, element_count):\n",
    "            D = distance_matrix[i, j]\n",
    "            common = ((mapping_distance[i, j] - D) / D) * mapping_distance[i, j] / D\n",
    "            grad[i] += np.array([mapping_matrix[i, 0] - mapping_matrix[j, 0], mapping_matrix[i, 1] - mapping_matrix[j, 1]])\n",
    "    grad *= 4\n",
    "    return grad\n",
    "\n",
    "grad = stress_grad()\n",
    "print(grad)"
   ]
  },
  {
   "cell_type": "markdown",
   "id": "491630eb",
   "metadata": {},
   "source": [
    "### 梯度下降优化"
   ]
  },
  {
   "cell_type": "code",
   "execution_count": 30,
   "id": "c75c94d8",
   "metadata": {},
   "outputs": [],
   "source": [
    "# 定义优化算法\n",
    "def sgd(params, lr, grad):\n",
    "    '''梯度下降'''\n",
    "    for param in params:\n",
    "        param -= lr * grad"
   ]
  },
  {
   "cell_type": "code",
   "execution_count": null,
   "id": "6ce3d1e6",
   "metadata": {},
   "outputs": [],
   "source": [
    "# 学习率\n",
    "lr = 1e-3\n",
    "num_epoches = 100\n",
    "for epoch in range(num_epoches):\n",
    "    grad = stress_grad()\n",
    "    sgd([mapping_matrix], lr, grad)\n",
    "    print(epoch ,'代完成')\n",
    "    \n",
    "print('完成')\n",
    "calc_mapping_distance() \n",
    "print(mapping_matrix)"
   ]
  },
  {
   "cell_type": "markdown",
   "id": "eca24625",
   "metadata": {},
   "source": [
    "## 可视化"
   ]
  },
  {
   "cell_type": "code",
   "execution_count": 34,
   "id": "3acf255a",
   "metadata": {},
   "outputs": [
    {
     "name": "stderr",
     "output_type": "stream",
     "text": [
      "C:\\Users\\12469\\anaconda3\\lib\\site-packages\\IPython\\core\\pylabtools.py:151: UserWarning: Glyph 38477 (\\N{CJK UNIFIED IDEOGRAPH-964D}) missing from current font.\n",
      "  fig.canvas.print_figure(bytes_io, **kw)\n",
      "C:\\Users\\12469\\anaconda3\\lib\\site-packages\\IPython\\core\\pylabtools.py:151: UserWarning: Glyph 32500 (\\N{CJK UNIFIED IDEOGRAPH-7EF4}) missing from current font.\n",
      "  fig.canvas.print_figure(bytes_io, **kw)\n",
      "C:\\Users\\12469\\anaconda3\\lib\\site-packages\\IPython\\core\\pylabtools.py:151: UserWarning: Glyph 21518 (\\N{CJK UNIFIED IDEOGRAPH-540E}) missing from current font.\n",
      "  fig.canvas.print_figure(bytes_io, **kw)\n",
      "C:\\Users\\12469\\anaconda3\\lib\\site-packages\\IPython\\core\\pylabtools.py:151: UserWarning: Glyph 30340 (\\N{CJK UNIFIED IDEOGRAPH-7684}) missing from current font.\n",
      "  fig.canvas.print_figure(bytes_io, **kw)\n",
      "C:\\Users\\12469\\anaconda3\\lib\\site-packages\\IPython\\core\\pylabtools.py:151: UserWarning: Glyph 20154 (\\N{CJK UNIFIED IDEOGRAPH-4EBA}) missing from current font.\n",
      "  fig.canvas.print_figure(bytes_io, **kw)\n",
      "C:\\Users\\12469\\anaconda3\\lib\\site-packages\\IPython\\core\\pylabtools.py:151: UserWarning: Glyph 33080 (\\N{CJK UNIFIED IDEOGRAPH-8138}) missing from current font.\n",
      "  fig.canvas.print_figure(bytes_io, **kw)\n",
      "C:\\Users\\12469\\anaconda3\\lib\\site-packages\\IPython\\core\\pylabtools.py:151: UserWarning: Glyph 25968 (\\N{CJK UNIFIED IDEOGRAPH-6570}) missing from current font.\n",
      "  fig.canvas.print_figure(bytes_io, **kw)\n",
      "C:\\Users\\12469\\anaconda3\\lib\\site-packages\\IPython\\core\\pylabtools.py:151: UserWarning: Glyph 25454 (\\N{CJK UNIFIED IDEOGRAPH-636E}) missing from current font.\n",
      "  fig.canvas.print_figure(bytes_io, **kw)\n"
     ]
    },
    {
     "data": {
      "image/png": "[encoded data removed]",
      "text/plain": [
       "<Figure size 1000x800 with 2 Axes>"
      ]
     },
     "metadata": {},
     "output_type": "display_data"
    }
   ],
   "source": [
    "# 可视化降维后的人脸数据\n",
    "plt.figure(figsize=(10, 8))\n",
    "plt.scatter(mapping_matrix[:, 0], mapping_matrix[:, 1], c=data['target'], cmap='viridis', edgecolor='k', s=40)\n",
    "plt.colorbar()\n",
    "plt.title('MDS降维后的人脸数据')\n",
    "plt.show()"
   ]
  },
  {
   "cell_type": "markdown",
   "id": "34501def",
   "metadata": {},
   "source": [
    "## sklearn 库实现参考"
   ]
  },
  {
   "cell_type": "code",
   "execution_count": null,
   "id": "81ea9009",
   "metadata": {},
   "outputs": [],
   "source": [
    "import sklearn\n",
    "from sklearn.datasets import fetch_olivetti_faces\n",
    "from sklearn.manifold import MDS\n",
    "import matplotlib.pyplot as plt"
   ]
  },
  {
   "cell_type": "code",
   "execution_count": null,
   "id": "8f81ace9",
   "metadata": {},
   "outputs": [],
   "source": [
    "# 设置中文支持的字体\n",
    "plt.rcParams['font.sans-serif'] = ['SimHei']  # 用来正常显示中文标签\n",
    "plt.rcParams['axes.unicode_minus'] = False  # 用来正常显示负号\n",
    "\n",
    "# 加载Olivetti人脸数据集\n",
    "faces = fetch_olivetti_faces(data_home='./data/')\n",
    "X = faces.data\n",
    "\n",
    "# 计算人脸之间的距离矩阵\n",
    "# distances = sklearn.metrics.pairwise.euclidean_distances(X)\n",
    "distances = sklearn.metrics.pairwise.manhattan_distances(X)\n",
    "\n",
    "# 创建MDS模型并拟合数据\n",
    "mds = MDS(n_components=2, dissimilarity='precomputed', random_state=42, max_iter=3000)\n",
    "X_mds = mds.fit_transform(distances)\n",
    "\n",
    "# 可视化降维后的人脸数据\n",
    "plt.figure(figsize=(10, 8))\n",
    "plt.scatter(X_mds[:, 0], X_mds[:, 1], c=faces.target, cmap='viridis', edgecolor='k', s=40)\n",
    "plt.colorbar()\n",
    "plt.title('MDS降维后的人脸数据')\n",
    "plt.show()"
   ]
  }
 ],
 "metadata": {
  "kernelspec": {
   "display_name": "Python 3 (ipykernel)",
   "language": "python",
   "name": "python3"
  },
  "language_info": {
   "codemirror_mode": {
    "name": "ipython",
    "version": 3
   },
   "file_extension": ".py",
   "mimetype": "text/x-python",
   "name": "python",
   "nbconvert_exporter": "python",
   "pygments_lexer": "ipython3",
   "version": "3.9.13"
  }
 },
 "nbformat": 4,
 "nbformat_minor": 5
}
