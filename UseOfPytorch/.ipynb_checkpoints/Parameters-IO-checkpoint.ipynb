{
 "cells": [
  {
   "cell_type": "code",
   "execution_count": 1,
   "id": "4aed31a9",
   "metadata": {},
   "outputs": [],
   "source": [
    "import torch\n",
    "from torch import nn\n",
    "from torch.nn import functional as F"
   ]
  },
  {
   "cell_type": "code",
   "execution_count": 2,
   "id": "6b407468",
   "metadata": {},
   "outputs": [],
   "source": [
    "# 加载和保存张量\n",
    "# 写入张量到文件\n",
    "X = torch.arange(20)\n",
    "torch.save(X, 'x-file')"
   ]
  },
  {
   "cell_type": "code",
   "execution_count": 3,
   "id": "f63f79cd",
   "metadata": {},
   "outputs": [
    {
     "data": {
      "text/plain": [
       "tensor([ 0,  1,  2,  3,  4,  5,  6,  7,  8,  9, 10, 11, 12, 13, 14, 15, 16, 17,\n",
       "        18, 19])"
      ]
     },
     "execution_count": 3,
     "metadata": {},
     "output_type": "execute_result"
    }
   ],
   "source": [
    "# 从文件读出张量\n",
    "X2 = torch.load('x-file')\n",
    "X2"
   ]
  },
  {
   "cell_type": "code",
   "execution_count": 6,
   "id": "f0bd6b41",
   "metadata": {},
   "outputs": [
    {
     "name": "stdout",
     "output_type": "stream",
     "text": [
      "tensor([[0.5085, 0.0034, 0.5633, 0.7671, 0.7847],\n",
      "        [0.3063, 0.6997, 0.5953, 0.7688, 0.2317]])\n"
     ]
    },
    {
     "data": {
      "text/plain": [
       "(tensor([ 0,  1,  2,  3,  4,  5,  6,  7,  8,  9, 10, 11, 12, 13, 14, 15, 16, 17,\n",
       "         18, 19]),\n",
       " tensor([[0.5085, 0.0034, 0.5633, 0.7671, 0.7847],\n",
       "         [0.3063, 0.6997, 0.5953, 0.7688, 0.2317]]))"
      ]
     },
     "execution_count": 6,
     "metadata": {},
     "output_type": "execute_result"
    }
   ],
   "source": [
    "# 保存与加载张量列表\n",
    "Y = torch.rand(2,5)\n",
    "print(Y)\n",
    "torch.save([X, Y], 'x-files')\n",
    "X2, Y2 = torch.load('x-files')\n",
    "(X2, Y2)"
   ]
  },
  {
   "cell_type": "code",
   "execution_count": 7,
   "id": "4aef897b",
   "metadata": {},
   "outputs": [
    {
     "data": {
      "text/plain": [
       "{'x': tensor([ 0,  1,  2,  3,  4,  5,  6,  7,  8,  9, 10, 11, 12, 13, 14, 15, 16, 17,\n",
       "         18, 19]),\n",
       " 'y': tensor([[0.5085, 0.0034, 0.5633, 0.7671, 0.7847],\n",
       "         [0.3063, 0.6997, 0.5953, 0.7688, 0.2317]])}"
      ]
     },
     "execution_count": 7,
     "metadata": {},
     "output_type": "execute_result"
    }
   ],
   "source": [
    "# 保存于加载张量字典\n",
    "mydict = {'x':X, 'y':Y}\n",
    "torch.save(mydict,'mydict')\n",
    "mydict2 = torch.load('mydict')\n",
    "mydict2"
   ]
  },
  {
   "cell_type": "code",
   "execution_count": 8,
   "id": "4a3c542c",
   "metadata": {},
   "outputs": [],
   "source": [
    "# 加载与保存模型参数\n",
    "class MLP(nn.Module):\n",
    "    def __init__(self):\n",
    "        super().__init__()\n",
    "        self.hidden = nn.Linear(20, 256)\n",
    "        self.output = nn.Linear(256, 10)\n",
    "\n",
    "    def forward(self, x):\n",
    "        return self.output(F.relu(self.hidden(x)))\n",
    "\n",
    "net = MLP()\n",
    "X = torch.randn(size=(2, 20))\n",
    "Y = net(X)"
   ]
  },
  {
   "cell_type": "code",
   "execution_count": 11,
   "id": "8f3ac56c",
   "metadata": {},
   "outputs": [
    {
     "name": "stdout",
     "output_type": "stream",
     "text": [
      "tensor([[ 0.6569, -0.6829, -0.7616,  0.6736,  1.3600, -0.1366,  1.0677,  0.4476,\n",
      "          1.0528, -1.2684,  0.7868,  0.1902, -1.5124,  0.3276,  0.9642, -1.0374,\n",
      "          1.5725, -2.3621,  0.1104,  0.7296],\n",
      "        [ 0.3285,  1.1617, -0.2408,  0.4098, -1.0644, -0.6758,  1.4730, -1.0121,\n",
      "         -0.0541, -0.8704,  2.3851, -0.0255, -0.3479, -0.1820, -0.0518, -0.0397,\n",
      "          1.5107,  1.3705, -0.4949,  0.7166]]) tensor([[-0.2320,  0.1236, -0.3712, -0.0728, -0.0411,  0.1813, -0.1527, -0.1292,\n",
      "         -0.1464,  0.1018],\n",
      "        [ 0.0335, -0.0787,  0.0947, -0.0500, -0.1637,  0.3715,  0.1259, -0.0841,\n",
      "          0.1929,  0.2448]], grad_fn=<AddmmBackward0>)\n"
     ]
    }
   ],
   "source": [
    "print(X, Y)\n",
    "torch.save(net.state_dict(), 'mlp.params')"
   ]
  },
  {
   "cell_type": "code",
   "execution_count": 12,
   "id": "7ac5ea51",
   "metadata": {},
   "outputs": [
    {
     "data": {
      "text/plain": [
       "MLP(\n",
       "  (hidden): Linear(in_features=20, out_features=256, bias=True)\n",
       "  (output): Linear(in_features=256, out_features=10, bias=True)\n",
       ")"
      ]
     },
     "execution_count": 12,
     "metadata": {},
     "output_type": "execute_result"
    }
   ],
   "source": [
    "clone = MLP() # 由于只保存了模型参数，加载时需要指定模板（类比Java序列号与反序列化）\n",
    "clone.load_state_dict(torch.load('mlp.params'))\n",
    "clone.eval()"
   ]
  },
  {
   "cell_type": "code",
   "execution_count": 13,
   "id": "38338aa3",
   "metadata": {},
   "outputs": [
    {
     "data": {
      "text/plain": [
       "tensor([[True, True, True, True, True, True, True, True, True, True],\n",
       "        [True, True, True, True, True, True, True, True, True, True]])"
      ]
     },
     "execution_count": 13,
     "metadata": {},
     "output_type": "execute_result"
    }
   ],
   "source": [
    "Y_clone = clone(X)\n",
    "Y_clone == Y"
   ]
  }
 ],
 "metadata": {
  "kernelspec": {
   "display_name": "Python 3 (ipykernel)",
   "language": "python",
   "name": "python3"
  },
  "language_info": {
   "codemirror_mode": {
    "name": "ipython",
    "version": 3
   },
   "file_extension": ".py",
   "mimetype": "text/x-python",
   "name": "python",
   "nbconvert_exporter": "python",
   "pygments_lexer": "ipython3",
   "version": "3.9.13"
  }
 },
 "nbformat": 4,
 "nbformat_minor": 5
}
