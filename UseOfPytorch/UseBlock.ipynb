{
 "cells": [
  {
   "cell_type": "code",
   "execution_count": 3,
   "id": "49587308",
   "metadata": {},
   "outputs": [],
   "source": [
    "import torch\n",
    "from torch import nn\n",
    "from torch.nn import functional as F"
   ]
  },
  {
   "cell_type": "code",
   "execution_count": 4,
   "id": "50fe7e97",
   "metadata": {},
   "outputs": [
    {
     "data": {
      "text/plain": [
       "tensor([[-0.2544, -0.1084,  0.0195,  0.2245,  0.0222],\n",
       "        [-0.2083, -0.0630,  0.0396,  0.1758, -0.0362],\n",
       "        [-0.2834, -0.1736,  0.1390,  0.1383, -0.0330],\n",
       "        [-0.3369, -0.1613,  0.2136,  0.1339, -0.2525],\n",
       "        [-0.2798, -0.1005,  0.0763,  0.1459,  0.0415]],\n",
       "       grad_fn=<AddmmBackward0>)"
      ]
     },
     "execution_count": 4,
     "metadata": {},
     "output_type": "execute_result"
    }
   ],
   "source": [
    "# 使用 nn.Sequential\n",
    "net = nn.Sequential(nn.Linear(10,20), nn.ReLU(), nn.Linear(20,5))\n",
    "X = torch.rand(5,10)\n",
    "net(X)"
   ]
  },
  {
   "cell_type": "code",
   "execution_count": 9,
   "id": "091336d6",
   "metadata": {},
   "outputs": [],
   "source": [
    "# 自定义块\n",
    "class MLP(nn.Module):\n",
    "    def __init__(self):\n",
    "        super().__init__()\n",
    "        self.hidden1 = nn.Linear(10, 20)\n",
    "        self.out = nn.Linear(20,5)\n",
    "    def forward(self, X):\n",
    "        return self.out(F.relu(self.hidden1(X)))"
   ]
  },
  {
   "cell_type": "code",
   "execution_count": 10,
   "id": "05e4ad92",
   "metadata": {},
   "outputs": [
    {
     "data": {
      "text/plain": [
       "tensor([[ 0.1071,  0.1103, -0.0013, -0.0428, -0.0346],\n",
       "        [ 0.1789,  0.0806, -0.0006, -0.0638,  0.0250],\n",
       "        [ 0.0625,  0.0418, -0.0430, -0.0231, -0.0672],\n",
       "        [ 0.1624,  0.0798, -0.0465, -0.0934,  0.0222],\n",
       "        [ 0.2034, -0.0375,  0.0313,  0.0169, -0.0021]],\n",
       "       grad_fn=<AddmmBackward0>)"
      ]
     },
     "execution_count": 10,
     "metadata": {},
     "output_type": "execute_result"
    }
   ],
   "source": [
    "net = MLP()\n",
    "net(X)"
   ]
  },
  {
   "cell_type": "code",
   "execution_count": 11,
   "id": "9c65176c",
   "metadata": {},
   "outputs": [
    {
     "data": {
      "text/plain": [
       "tensor([[-0.0545,  0.2141,  0.0786,  0.1709,  0.1400, -0.1636, -0.2935,  0.0238,\n",
       "         -0.0472,  0.0764],\n",
       "        [-0.0067,  0.1740,  0.0992,  0.0348,  0.1788, -0.1979, -0.2820,  0.1353,\n",
       "         -0.0923,  0.0588],\n",
       "        [ 0.0508,  0.1094, -0.0645,  0.2468,  0.0514, -0.1758, -0.3107,  0.0362,\n",
       "         -0.0713,  0.0437],\n",
       "        [-0.0664,  0.1999,  0.0595,  0.1003,  0.1858, -0.0572, -0.2983,  0.0928,\n",
       "         -0.0480,  0.2859],\n",
       "        [ 0.0281,  0.1836, -0.0096,  0.0194,  0.2142, -0.1727, -0.2571, -0.0041,\n",
       "         -0.0377,  0.0837]], grad_fn=<AddmmBackward0>)"
      ]
     },
     "execution_count": 11,
     "metadata": {},
     "output_type": "execute_result"
    }
   ],
   "source": [
    "# 顺序块\n",
    "class MySequential(nn.Module):\n",
    "    def __init__(self, *args):\n",
    "        super().__init__()\n",
    "        for idx, module in enumerate(args):\n",
    "            self._modules[str(idx)] = module\n",
    "    \n",
    "    def forward(self, X):\n",
    "        for block in self._modules.values():\n",
    "            X = block(X)\n",
    "        return X\n",
    "\n",
    "net = MySequential(nn.Linear(10, 256), nn.ReLU(), nn.Linear(256, 10))\n",
    "net(X)"
   ]
  },
  {
   "cell_type": "code",
   "execution_count": 18,
   "id": "892e54dd",
   "metadata": {},
   "outputs": [
    {
     "data": {
      "text/plain": [
       "tensor(-0.3131, grad_fn=<SumBackward0>)"
      ]
     },
     "execution_count": 18,
     "metadata": {},
     "output_type": "execute_result"
    }
   ],
   "source": [
    "# 在前向传播中执行代码\n",
    "class FixedHiddenMLP(nn.Module):\n",
    "    def __init__(self):\n",
    "        super().__init__()\n",
    "        # 不计算梯度的随机权重参数。因此其在训练期间保持不变\n",
    "        self.rand_weight = torch.rand((20, 20), requires_grad=False)\n",
    "        self.linear = nn.Linear(20, 20)\n",
    "\n",
    "    def forward(self, X):\n",
    "        X = self.linear(X)\n",
    "        # 使用创建的常量参数以及relu和mm函数\n",
    "        X = F.relu(torch.mm(X, self.rand_weight) + 1)\n",
    "        # 复用全连接层。这相当于两个全连接层共享参数\n",
    "        X = self.linear(X)\n",
    "        # 控制流\n",
    "        while X.abs().sum() > 1:\n",
    "            X /= 2\n",
    "        return X.sum()\n",
    "\n",
    "X = torch.randn(20,20)\n",
    "net = FixedHiddenMLP()\n",
    "net(X)"
   ]
  }
 ],
 "metadata": {
  "kernelspec": {
   "display_name": "Python 3 (ipykernel)",
   "language": "python",
   "name": "python3"
  },
  "language_info": {
   "codemirror_mode": {
    "name": "ipython",
    "version": 3
   },
   "file_extension": ".py",
   "mimetype": "text/x-python",
   "name": "python",
   "nbconvert_exporter": "python",
   "pygments_lexer": "ipython3",
   "version": "3.9.13"
  }
 },
 "nbformat": 4,
 "nbformat_minor": 5
}
