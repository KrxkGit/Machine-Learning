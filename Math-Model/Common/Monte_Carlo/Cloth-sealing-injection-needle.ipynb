{
 "cells": [
  {
   "cell_type": "code",
   "execution_count": 1,
   "id": "5759d06f",
   "metadata": {},
   "outputs": [],
   "source": [
    "import torch\n",
    "from d2l import torch as d2l\n",
    "import math\n",
    "import os\n",
    "os.environ['KMP_DUPLICATE_LIB_OK']='True'\n",
    "import matplotlib.pyplot as plt"
   ]
  },
  {
   "cell_type": "markdown",
   "id": "2c07872f",
   "metadata": {},
   "source": [
    "# 相交条件: $x\\le\\frac{l}{2}sin\\varphi$\n",
    "# 其中 $x$ 为针中点到最近平行线的距离，$l$ 为针的长度, $\\varphi$ 为 [0,$\\pi$] 的角\n",
    "# 要求平行线之间距离 $d \\gt$ 针的长度 $l$\n",
    "# 针中点到最近平行线的距离为 $[0, \\frac{d}{2}]$"
   ]
  },
  {
   "cell_type": "code",
   "execution_count": 2,
   "id": "a4b40f42",
   "metadata": {},
   "outputs": [],
   "source": [
    "device = d2l.try_gpu()\n",
    "# device = 'cpu'\n",
    "d = 4\n",
    "l = 2"
   ]
  },
  {
   "cell_type": "code",
   "execution_count": 3,
   "id": "574dce0b",
   "metadata": {},
   "outputs": [],
   "source": [
    "def Simulate(n):\n",
    "    x = torch.rand((n), device=device) * (d / 2)\n",
    "    varphi = torch.rand((n), device=device) * math.pi\n",
    "    right = torch.sin(varphi) * l / 2\n",
    "    result = x < right\n",
    "    result *= torch.ones_like(result, device=device) # 通过乘法提升并行度，比逐个元素比较快\n",
    "    return result.sum()/n"
   ]
  },
  {
   "cell_type": "code",
   "execution_count": 13,
   "id": "dfe1047b",
   "metadata": {},
   "outputs": [],
   "source": [
    "def Test():\n",
    "    n = 50000000\n",
    "    p = Simulate(n)\n",
    "#     print(f\"概率为：{p}\")\n",
    "    my_pi =(2 * l) / (d * p)\n",
    "    return my_pi"
   ]
  },
  {
   "cell_type": "code",
   "execution_count": 14,
   "id": "31334034",
   "metadata": {},
   "outputs": [
    {
     "name": "stdout",
     "output_type": "stream",
     "text": [
      "tensor(3.1416)\n"
     ]
    }
   ],
   "source": [
    "nTest = 1000\n",
    "avg_array = []\n",
    "for _ in range(nTest):\n",
    "    avg_array.append(Test())\n",
    "print(torch.tensor(avg_array).mean())"
   ]
  }
 ],
 "metadata": {
  "kernelspec": {
   "display_name": "Python 3 (ipykernel)",
   "language": "python",
   "name": "python3"
  },
  "language_info": {
   "codemirror_mode": {
    "name": "ipython",
    "version": 3
   },
   "file_extension": ".py",
   "mimetype": "text/x-python",
   "name": "python",
   "nbconvert_exporter": "python",
   "pygments_lexer": "ipython3",
   "version": "3.9.13"
  }
 },
 "nbformat": 4,
 "nbformat_minor": 5
}
