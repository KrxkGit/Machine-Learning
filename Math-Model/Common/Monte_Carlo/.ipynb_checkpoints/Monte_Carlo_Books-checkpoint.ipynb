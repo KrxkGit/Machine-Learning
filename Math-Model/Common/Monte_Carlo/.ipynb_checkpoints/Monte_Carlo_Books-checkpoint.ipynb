{
 "cells": [
  {
   "cell_type": "code",
   "execution_count": 1,
   "id": "b640c648",
   "metadata": {},
   "outputs": [],
   "source": [
    "import torch\n",
    "import random\n",
    "from d2l import torch as d2l"
   ]
  },
  {
   "cell_type": "code",
   "execution_count": 2,
   "id": "3aa92f52",
   "metadata": {},
   "outputs": [],
   "source": [
    "# 横坐标代表书 & 运费，纵坐标代表商店\n",
    "# device = d2l.try_gpu()\n",
    "device = 'cpu'\n",
    "\n",
    "# 价格矩阵\n",
    "Price = torch.tensor([\n",
    "        [18,39,29,48,59],\n",
    "        [24,45,23,54,44],\n",
    "        [22,45,23,53,53],\n",
    "        [28,47,17,57,47],\n",
    "        [24,42,24,47,59],\n",
    "        [27,48,20,55,53]],device=device)\n",
    "\n",
    "freight = torch.tensor([10,15,15,10,10,15],device=device); # 运费向量"
   ]
  },
  {
   "cell_type": "code",
   "execution_count": 3,
   "id": "6b7e2538",
   "metadata": {},
   "outputs": [
    {
     "data": {
      "text/plain": [
       "(tensor([[18, 39, 29, 48, 59],\n",
       "         [24, 45, 23, 54, 44],\n",
       "         [22, 45, 23, 53, 53],\n",
       "         [28, 47, 17, 57, 47],\n",
       "         [24, 42, 24, 47, 59],\n",
       "         [27, 48, 20, 55, 53]]),\n",
       " tensor([10, 15, 15, 10, 10, 15]))"
      ]
     },
     "execution_count": 3,
     "metadata": {},
     "output_type": "execute_result"
    }
   ],
   "source": [
    "Price,freight"
   ]
  },
  {
   "cell_type": "code",
   "execution_count": 4,
   "id": "692a6738",
   "metadata": {},
   "outputs": [],
   "source": [
    "def Caculate(n, shops, books):\n",
    "    # n 为模拟规模\n",
    "    # buy 表示每本书在哪家商店购买\n",
    "    \n",
    "    # 用于保存结果\n",
    "    min_Total = float(\"inf\")\n",
    "    max_Total = 0.\n",
    "    solve = torch.zeros((shops ,books))\n",
    "    for i in range(n):\n",
    "        buy = torch.zeros((shops, books), device=device)\n",
    "        for i in range(buy.shape[1]):\n",
    "            buy[random.randint(0, shops - 1),i] = 1 # random.randint包含末尾，需要 -1\n",
    "        \n",
    "        Cost = buy * Price\n",
    "        Total = torch.tensor([Cost.sum()],device=device)\n",
    "        have_buy = torch.zeros((books), device=device)\n",
    "        \n",
    "        for j in range(shops):\n",
    "            if not torch.equal(buy[j], have_buy): # 在此家买过书\n",
    "                Total += freight[j]\n",
    "        \n",
    "        if min_Total > Total:\n",
    "            min_Total = Total\n",
    "            solve = buy\n",
    "            \n",
    "        if max_Total < Total:\n",
    "            max_Total = Total\n",
    "    \n",
    "    return (min_Total, max_Total, solve)"
   ]
  },
  {
   "cell_type": "code",
   "execution_count": 5,
   "id": "2bb1e9e7",
   "metadata": {},
   "outputs": [
    {
     "data": {
      "text/plain": [
       "(tensor([189.]),\n",
       " tensor([279.]),\n",
       " tensor([[1., 1., 0., 1., 0.],\n",
       "         [0., 0., 0., 0., 0.],\n",
       "         [0., 0., 0., 0., 0.],\n",
       "         [0., 0., 1., 0., 1.],\n",
       "         [0., 0., 0., 0., 0.],\n",
       "         [0., 0., 0., 0., 0.]]))"
      ]
     },
     "execution_count": 5,
     "metadata": {},
     "output_type": "execute_result"
    }
   ],
   "source": [
    "n, shops, books = 100000, 6, 5\n",
    "result = Caculate(n, shops, books)\n",
    "result"
   ]
  }
 ],
 "metadata": {
  "kernelspec": {
   "display_name": "Python 3 (ipykernel)",
   "language": "python",
   "name": "python3"
  },
  "language_info": {
   "codemirror_mode": {
    "name": "ipython",
    "version": 3
   },
   "file_extension": ".py",
   "mimetype": "text/x-python",
   "name": "python",
   "nbconvert_exporter": "python",
   "pygments_lexer": "ipython3",
   "version": "3.9.13"
  }
 },
 "nbformat": 4,
 "nbformat_minor": 5
}
