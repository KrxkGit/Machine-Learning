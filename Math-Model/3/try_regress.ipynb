{
 "cells": [
  {
   "cell_type": "code",
   "execution_count": 21,
   "id": "6cfe229a",
   "metadata": {},
   "outputs": [],
   "source": [
    "import pandas as pd\n",
    "import numpy as np\n",
    "import matplotlib.pyplot as plt\n",
    "import os\n",
    "os.environ['KMP_DUPLICATE_LIB_OK']='True'"
   ]
  },
  {
   "cell_type": "code",
   "execution_count": 22,
   "id": "09e84e68",
   "metadata": {},
   "outputs": [
    {
     "data": {
      "text/html": [
       "<div>\n",
       "<style scoped>\n",
       "    .dataframe tbody tr th:only-of-type {\n",
       "        vertical-align: middle;\n",
       "    }\n",
       "\n",
       "    .dataframe tbody tr th {\n",
       "        vertical-align: top;\n",
       "    }\n",
       "\n",
       "    .dataframe thead th {\n",
       "        text-align: right;\n",
       "    }\n",
       "</style>\n",
       "<table border=\"1\" class=\"dataframe\">\n",
       "  <thead>\n",
       "    <tr style=\"text-align: right;\">\n",
       "      <th></th>\n",
       "      <th>销量(kg)</th>\n",
       "      <th>毛利率</th>\n",
       "    </tr>\n",
       "  </thead>\n",
       "  <tbody>\n",
       "    <tr>\n",
       "      <th>0</th>\n",
       "      <td>35.365</td>\n",
       "      <td>0.603026</td>\n",
       "    </tr>\n",
       "    <tr>\n",
       "      <th>1</th>\n",
       "      <td>48.510</td>\n",
       "      <td>0.708050</td>\n",
       "    </tr>\n",
       "    <tr>\n",
       "      <th>2</th>\n",
       "      <td>42.442</td>\n",
       "      <td>0.749383</td>\n",
       "    </tr>\n",
       "    <tr>\n",
       "      <th>3</th>\n",
       "      <td>47.262</td>\n",
       "      <td>0.669301</td>\n",
       "    </tr>\n",
       "    <tr>\n",
       "      <th>4</th>\n",
       "      <td>73.213</td>\n",
       "      <td>0.700236</td>\n",
       "    </tr>\n",
       "    <tr>\n",
       "      <th>5</th>\n",
       "      <td>40.578</td>\n",
       "      <td>0.673983</td>\n",
       "    </tr>\n",
       "    <tr>\n",
       "      <th>6</th>\n",
       "      <td>52.560</td>\n",
       "      <td>0.700026</td>\n",
       "    </tr>\n",
       "    <tr>\n",
       "      <th>7</th>\n",
       "      <td>43.968</td>\n",
       "      <td>0.690346</td>\n",
       "    </tr>\n",
       "    <tr>\n",
       "      <th>8</th>\n",
       "      <td>37.837</td>\n",
       "      <td>0.701466</td>\n",
       "    </tr>\n",
       "    <tr>\n",
       "      <th>9</th>\n",
       "      <td>41.429</td>\n",
       "      <td>0.678761</td>\n",
       "    </tr>\n",
       "  </tbody>\n",
       "</table>\n",
       "</div>"
      ],
      "text/plain": [
       "   销量(kg)       毛利率\n",
       "0  35.365  0.603026\n",
       "1  48.510  0.708050\n",
       "2  42.442  0.749383\n",
       "3  47.262  0.669301\n",
       "4  73.213  0.700236\n",
       "5  40.578  0.673983\n",
       "6  52.560  0.700026\n",
       "7  43.968  0.690346\n",
       "8  37.837  0.701466\n",
       "9  41.429  0.678761"
      ]
     },
     "execution_count": 22,
     "metadata": {},
     "output_type": "execute_result"
    }
   ],
   "source": [
    "file_path = 'C:/Users/12469/Desktop/try_regress.xlsx'\n",
    "data = pd.read_excel(file_path)\n",
    "data.iloc[:10]"
   ]
  },
  {
   "cell_type": "code",
   "execution_count": 23,
   "id": "9f00b7e6",
   "metadata": {},
   "outputs": [],
   "source": [
    "data.insert(data.shape[1],'毛利率分位值',0)\n",
    "data.insert(data.shape[1],'销量分位值',0)"
   ]
  },
  {
   "cell_type": "code",
   "execution_count": 24,
   "id": "1d0d658d",
   "metadata": {},
   "outputs": [
    {
     "data": {
      "text/plain": [
       "(1.7435150927670349, 0.20574090631166086, 3.012, 511.1360000000001)"
      ]
     },
     "execution_count": 24,
     "metadata": {},
     "output_type": "execute_result"
    }
   ],
   "source": [
    "price = np.array(data['毛利率'])\n",
    "sales_vol = np.array(data['销量(kg)'])\n",
    "\n",
    "max_price = price.max()\n",
    "min_price = price.min()\n",
    "max_sales = sales_vol.max()\n",
    "min_sales = sales_vol.min()\n",
    "\n",
    "max_price,min_price,min_sales,max_sales,"
   ]
  },
  {
   "cell_type": "code",
   "execution_count": 25,
   "id": "a3580579",
   "metadata": {},
   "outputs": [],
   "source": [
    "def cal_price(x):\n",
    "    return (x - min_price) /(max_price - min_price)\n",
    "def cal_sales(x):\n",
    "    return (x - min_sales) /(max_price - max_sales)\n",
    "data['毛利率分位值'] =data['毛利率']   \n",
    "data['销量分位值'] =data['销量(kg)']   \n",
    "data['毛利率分位值'] = data['毛利率分位值'].map(cal_price)\n",
    "data['销量分位值'] = data['销量分位值'].map(cal_sales)"
   ]
  },
  {
   "cell_type": "code",
   "execution_count": 26,
   "id": "0c077a60",
   "metadata": {},
   "outputs": [
    {
     "data": {
      "text/html": [
       "<div>\n",
       "<style scoped>\n",
       "    .dataframe tbody tr th:only-of-type {\n",
       "        vertical-align: middle;\n",
       "    }\n",
       "\n",
       "    .dataframe tbody tr th {\n",
       "        vertical-align: top;\n",
       "    }\n",
       "\n",
       "    .dataframe thead th {\n",
       "        text-align: right;\n",
       "    }\n",
       "</style>\n",
       "<table border=\"1\" class=\"dataframe\">\n",
       "  <thead>\n",
       "    <tr style=\"text-align: right;\">\n",
       "      <th></th>\n",
       "      <th>销量(kg)</th>\n",
       "      <th>毛利率</th>\n",
       "      <th>毛利率分位值</th>\n",
       "      <th>销量分位值</th>\n",
       "    </tr>\n",
       "  </thead>\n",
       "  <tbody>\n",
       "    <tr>\n",
       "      <th>0</th>\n",
       "      <td>35.365</td>\n",
       "      <td>0.603026</td>\n",
       "      <td>0.258351</td>\n",
       "      <td>-0.063513</td>\n",
       "    </tr>\n",
       "    <tr>\n",
       "      <th>1</th>\n",
       "      <td>48.510</td>\n",
       "      <td>0.708050</td>\n",
       "      <td>0.326647</td>\n",
       "      <td>-0.089318</td>\n",
       "    </tr>\n",
       "    <tr>\n",
       "      <th>2</th>\n",
       "      <td>42.442</td>\n",
       "      <td>0.749383</td>\n",
       "      <td>0.353525</td>\n",
       "      <td>-0.077406</td>\n",
       "    </tr>\n",
       "    <tr>\n",
       "      <th>3</th>\n",
       "      <td>47.262</td>\n",
       "      <td>0.669301</td>\n",
       "      <td>0.301449</td>\n",
       "      <td>-0.086868</td>\n",
       "    </tr>\n",
       "    <tr>\n",
       "      <th>4</th>\n",
       "      <td>73.213</td>\n",
       "      <td>0.700236</td>\n",
       "      <td>0.321565</td>\n",
       "      <td>-0.137813</td>\n",
       "    </tr>\n",
       "    <tr>\n",
       "      <th>5</th>\n",
       "      <td>40.578</td>\n",
       "      <td>0.673983</td>\n",
       "      <td>0.304493</td>\n",
       "      <td>-0.073747</td>\n",
       "    </tr>\n",
       "    <tr>\n",
       "      <th>6</th>\n",
       "      <td>52.560</td>\n",
       "      <td>0.700026</td>\n",
       "      <td>0.321429</td>\n",
       "      <td>-0.097269</td>\n",
       "    </tr>\n",
       "    <tr>\n",
       "      <th>7</th>\n",
       "      <td>43.968</td>\n",
       "      <td>0.690346</td>\n",
       "      <td>0.315134</td>\n",
       "      <td>-0.080402</td>\n",
       "    </tr>\n",
       "    <tr>\n",
       "      <th>8</th>\n",
       "      <td>37.837</td>\n",
       "      <td>0.701466</td>\n",
       "      <td>0.322366</td>\n",
       "      <td>-0.068366</td>\n",
       "    </tr>\n",
       "    <tr>\n",
       "      <th>9</th>\n",
       "      <td>41.429</td>\n",
       "      <td>0.678761</td>\n",
       "      <td>0.307600</td>\n",
       "      <td>-0.075417</td>\n",
       "    </tr>\n",
       "  </tbody>\n",
       "</table>\n",
       "</div>"
      ],
      "text/plain": [
       "   销量(kg)       毛利率    毛利率分位值     销量分位值\n",
       "0  35.365  0.603026  0.258351 -0.063513\n",
       "1  48.510  0.708050  0.326647 -0.089318\n",
       "2  42.442  0.749383  0.353525 -0.077406\n",
       "3  47.262  0.669301  0.301449 -0.086868\n",
       "4  73.213  0.700236  0.321565 -0.137813\n",
       "5  40.578  0.673983  0.304493 -0.073747\n",
       "6  52.560  0.700026  0.321429 -0.097269\n",
       "7  43.968  0.690346  0.315134 -0.080402\n",
       "8  37.837  0.701466  0.322366 -0.068366\n",
       "9  41.429  0.678761  0.307600 -0.075417"
      ]
     },
     "execution_count": 26,
     "metadata": {},
     "output_type": "execute_result"
    }
   ],
   "source": [
    "data.iloc[:10]"
   ]
  },
  {
   "cell_type": "code",
   "execution_count": 27,
   "id": "3791174c",
   "metadata": {},
   "outputs": [
    {
     "data": {
      "image/png": "[encoded data removed]",
      "text/plain": [
       "<Figure size 640x480 with 1 Axes>"
      ]
     },
     "metadata": {},
     "output_type": "display_data"
    }
   ],
   "source": [
    "quar_price = np.array(data['毛利率分位值'])\n",
    "quar_sales = np.array(data['销量分位值'])\n",
    "plt.scatter(quar_price, quar_sales, s=1,label='(毛利率,销量)')\n",
    "\n",
    "plt.rcParams['font.sans-serif']=['SimHei'] #用来正常显示中文标签\n",
    "plt.rcParams['axes.unicode_minus'] = False #用来正常显示负号\n",
    "\n",
    "plt.xlabel('毛利率分位值')\n",
    "plt.ylabel('销量分位值')\n",
    "plt.legend()\n",
    "plt.title('毛利率-销量 分位值对应关系')\n",
    "plt.savefig('d:/try_regress.png')"
   ]
  },
  {
   "cell_type": "code",
   "execution_count": 28,
   "id": "79a407d1",
   "metadata": {},
   "outputs": [],
   "source": [
    "write_path = 'd:/1.xlsx'\n",
    "data.to_excel(write_path)"
   ]
  }
 ],
 "metadata": {
  "kernelspec": {
   "display_name": "Python 3 (ipykernel)",
   "language": "python",
   "name": "python3"
  },
  "language_info": {
   "codemirror_mode": {
    "name": "ipython",
    "version": 3
   },
   "file_extension": ".py",
   "mimetype": "text/x-python",
   "name": "python",
   "nbconvert_exporter": "python",
   "pygments_lexer": "ipython3",
   "version": "3.9.13"
  }
 },
 "nbformat": 4,
 "nbformat_minor": 5
}
