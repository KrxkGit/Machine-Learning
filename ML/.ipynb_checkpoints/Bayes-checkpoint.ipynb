{
 "cells": [
  {
   "cell_type": "code",
   "execution_count": 1,
   "id": "140e6ea4",
   "metadata": {},
   "outputs": [],
   "source": [
    "class NaiveBayesClassifier:\n",
    "    def __init__(self):\n",
    "        self.prior = {}\n",
    "        self.likelihood = {}\n",
    "        self.classes = []\n",
    "\n",
    "    def train(self, X, y):\n",
    "        self.classes = list(set(y))\n",
    "        for c in self.classes:\n",
    "            self.prior[c] = sum([y_item == c for y_item in y]) / len(y)\n",
    "            self.likelihood[c] = {}\n",
    "            for i in range(len(X[0])):\n",
    "                self.likelihood[c][i] = {}\n",
    "                for val in set([x[i] for x, label in zip(X, y) if label == c]):\n",
    "                    self.likelihood[c][i][val] = sum([(x[i] == val) for x, label in zip(X, y) if label == c]) / sum([y_item == c for y_item in y])\n",
    "\n",
    "    def predict(self, X):\n",
    "        predictions = []\n",
    "        for x in X:\n",
    "            max_prob = -1\n",
    "            pred_class = None\n",
    "            for c in self.classes:\n",
    "                prob = self.prior[c]\n",
    "                for i in range(len(x)):\n",
    "                    if x[i] in self.likelihood[c][i]:\n",
    "                        prob *= self.likelihood[c][i][x[i]]\n",
    "                    else:\n",
    "                        prob = 0\n",
    "                if prob > max_prob:\n",
    "                    max_prob = prob\n",
    "                    pred_class = c\n",
    "            predictions.append(pred_class)\n",
    "        return predictions"
   ]
  },
  {
   "cell_type": "code",
   "execution_count": 2,
   "id": "e4162e37",
   "metadata": {},
   "outputs": [
    {
     "name": "stdout",
     "output_type": "stream",
     "text": [
      "['N', 'Y', 'Y']\n"
     ]
    }
   ],
   "source": [
    "# 示例用法\n",
    "X_train = [[1, 'S'], [1, 'M'], [1, 'M'], [1, 'S'], [1, 'S'], [2, 'S'], [2, 'M'], [2, 'M'], [2, 'L'], [2, 'L'], [3, 'L'], [3, 'M'], [3, 'M'], [3, 'L'], [3, 'L']]\n",
    "y_train = ['N', 'N', 'Y', 'Y', 'N', 'N', 'N', 'Y', 'Y', 'Y', 'Y', 'Y', 'Y', 'Y', 'N']\n",
    "\n",
    "X_test = [[2, 'S'], [3, 'M'], [1, 'L']]\n",
    "\n",
    "nb_classifier = NaiveBayesClassifier()\n",
    "nb_classifier.train(X_train, y_train)\n",
    "predictions = nb_classifier.predict(X_test)\n",
    "\n",
    "print(predictions)"
   ]
  }
 ],
 "metadata": {
  "kernelspec": {
   "display_name": "Python 3 (ipykernel)",
   "language": "python",
   "name": "python3"
  },
  "language_info": {
   "codemirror_mode": {
    "name": "ipython",
    "version": 3
   },
   "file_extension": ".py",
   "mimetype": "text/x-python",
   "name": "python",
   "nbconvert_exporter": "python",
   "pygments_lexer": "ipython3",
   "version": "3.9.13"
  }
 },
 "nbformat": 4,
 "nbformat_minor": 5
}
