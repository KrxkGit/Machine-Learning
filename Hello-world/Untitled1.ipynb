{
 "cells": [
  {
   "cell_type": "code",
   "execution_count": null,
   "id": "3377bc74",
   "metadata": {},
   "outputs": [],
   "source": [
    "import random"
   ]
  },
  {
   "cell_type": "code",
   "execution_count": 7,
   "id": "7d73cf9a",
   "metadata": {},
   "outputs": [
    {
     "name": "stdout",
     "output_type": "stream",
     "text": [
      "['张焙翔', '王子力', '邓娉霓']\n",
      "['邓娉霓', '王子力', '吴硕']\n",
      "['王子力', '邓娉霓', '吴硕']\n",
      "['张焙翔', '吴硕', '邓娉霓']\n",
      "['邓娉霓', '王子力', '张焙翔']\n"
     ]
    },
    {
     "name": "stderr",
     "output_type": "stream",
     "text": [
      "C:\\Users\\12469\\AppData\\Local\\Temp\\ipykernel_13084\\1478266624.py:3: DeprecationWarning: Sampling from a set deprecated\n",
      "since Python 3.9 and will be removed in a subsequent version.\n",
      "  print(random.sample(name_list , 3))\n"
     ]
    }
   ],
   "source": [
    "for _ in range(5):\n",
    "    name_list = {'吴硕','张焙翔','邓娉霓','王子力'}\n",
    "    print(random.sample(name_list , 3))"
   ]
  },
  {
   "cell_type": "code",
   "execution_count": 8,
   "id": "c5229b55",
   "metadata": {},
   "outputs": [
    {
     "name": "stdout",
     "output_type": "stream",
     "text": [
      "['吴硕']\n",
      "['张焙翔']\n",
      "['吴硕']\n",
      "['张焙翔']\n",
      "['吴硕']\n"
     ]
    },
    {
     "name": "stderr",
     "output_type": "stream",
     "text": [
      "C:\\Users\\12469\\AppData\\Local\\Temp\\ipykernel_13084\\3540167792.py:3: DeprecationWarning: Sampling from a set deprecated\n",
      "since Python 3.9 and will be removed in a subsequent version.\n",
      "  print(random.sample(name_list , 1))\n"
     ]
    }
   ],
   "source": [
    "for _ in range(5):\n",
    "    name_list = {'吴硕','张焙翔'}\n",
    "    print(random.sample(name_list , 1))"
   ]
  }
 ],
 "metadata": {
  "kernelspec": {
   "display_name": "Python 3 (ipykernel)",
   "language": "python",
   "name": "python3"
  },
  "language_info": {
   "codemirror_mode": {
    "name": "ipython",
    "version": 3
   },
   "file_extension": ".py",
   "mimetype": "text/x-python",
   "name": "python",
   "nbconvert_exporter": "python",
   "pygments_lexer": "ipython3",
   "version": "3.9.13"
  }
 },
 "nbformat": 4,
 "nbformat_minor": 5
}
