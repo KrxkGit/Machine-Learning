{
 "cells": [
  {
   "cell_type": "code",
   "execution_count": 1,
   "id": "8fe85415",
   "metadata": {},
   "outputs": [],
   "source": [
    "import pandas as pd\n",
    "import torch\n",
    "from torch import nn\n",
    "import os\n",
    "os.environ['KMP_DUPLICATE_LIB_OK']='True'\n",
    "import matplotlib.pyplot as plt\n",
    "from d2l import torch as d2l"
   ]
  },
  {
   "cell_type": "code",
   "execution_count": 2,
   "id": "ac82c953",
   "metadata": {},
   "outputs": [
    {
     "data": {
      "text/html": [
       "<div>\n",
       "<style scoped>\n",
       "    .dataframe tbody tr th:only-of-type {\n",
       "        vertical-align: middle;\n",
       "    }\n",
       "\n",
       "    .dataframe tbody tr th {\n",
       "        vertical-align: top;\n",
       "    }\n",
       "\n",
       "    .dataframe thead th {\n",
       "        text-align: right;\n",
       "    }\n",
       "</style>\n",
       "<table border=\"1\" class=\"dataframe\">\n",
       "  <thead>\n",
       "    <tr style=\"text-align: right;\">\n",
       "      <th></th>\n",
       "      <th>X</th>\n",
       "      <th>X2</th>\n",
       "      <th>Y</th>\n",
       "    </tr>\n",
       "  </thead>\n",
       "  <tbody>\n",
       "    <tr>\n",
       "      <th>0</th>\n",
       "      <td>-561</td>\n",
       "      <td>463</td>\n",
       "      <td>-1075.238150</td>\n",
       "    </tr>\n",
       "    <tr>\n",
       "      <th>1</th>\n",
       "      <td>-766</td>\n",
       "      <td>-686</td>\n",
       "      <td>-1486.941761</td>\n",
       "    </tr>\n",
       "    <tr>\n",
       "      <th>2</th>\n",
       "      <td>-2</td>\n",
       "      <td>935</td>\n",
       "      <td>25.561988</td>\n",
       "    </tr>\n",
       "    <tr>\n",
       "      <th>3</th>\n",
       "      <td>-285</td>\n",
       "      <td>913</td>\n",
       "      <td>-512.430260</td>\n",
       "    </tr>\n",
       "    <tr>\n",
       "      <th>4</th>\n",
       "      <td>194</td>\n",
       "      <td>712</td>\n",
       "      <td>424.538556</td>\n",
       "    </tr>\n",
       "    <tr>\n",
       "      <th>...</th>\n",
       "      <td>...</td>\n",
       "      <td>...</td>\n",
       "      <td>...</td>\n",
       "    </tr>\n",
       "    <tr>\n",
       "      <th>912</th>\n",
       "      <td>928</td>\n",
       "      <td>930</td>\n",
       "      <td>1910.053004</td>\n",
       "    </tr>\n",
       "    <tr>\n",
       "      <th>913</th>\n",
       "      <td>60</td>\n",
       "      <td>524</td>\n",
       "      <td>184.764627</td>\n",
       "    </tr>\n",
       "    <tr>\n",
       "      <th>914</th>\n",
       "      <td>640</td>\n",
       "      <td>720</td>\n",
       "      <td>1358.404397</td>\n",
       "    </tr>\n",
       "    <tr>\n",
       "      <th>915</th>\n",
       "      <td>367</td>\n",
       "      <td>887</td>\n",
       "      <td>748.358786</td>\n",
       "    </tr>\n",
       "    <tr>\n",
       "      <th>916</th>\n",
       "      <td>-139</td>\n",
       "      <td>945</td>\n",
       "      <td>-226.620811</td>\n",
       "    </tr>\n",
       "  </tbody>\n",
       "</table>\n",
       "<p>917 rows × 3 columns</p>\n",
       "</div>"
      ],
      "text/plain": [
       "       X   X2            Y\n",
       "0   -561  463 -1075.238150\n",
       "1   -766 -686 -1486.941761\n",
       "2     -2  935    25.561988\n",
       "3   -285  913  -512.430260\n",
       "4    194  712   424.538556\n",
       "..   ...  ...          ...\n",
       "912  928  930  1910.053004\n",
       "913   60  524   184.764627\n",
       "914  640  720  1358.404397\n",
       "915  367  887   748.358786\n",
       "916 -139  945  -226.620811\n",
       "\n",
       "[917 rows x 3 columns]"
      ]
     },
     "execution_count": 2,
     "metadata": {},
     "output_type": "execute_result"
    }
   ],
   "source": [
    "excel_path = './1.xlsx'\n",
    "data = pd.read_excel(excel_path)\n",
    "data"
   ]
  },
  {
   "cell_type": "code",
   "execution_count": 3,
   "id": "027aab23",
   "metadata": {},
   "outputs": [
    {
     "data": {
      "text/html": [
       "<div>\n",
       "<style scoped>\n",
       "    .dataframe tbody tr th:only-of-type {\n",
       "        vertical-align: middle;\n",
       "    }\n",
       "\n",
       "    .dataframe tbody tr th {\n",
       "        vertical-align: top;\n",
       "    }\n",
       "\n",
       "    .dataframe thead th {\n",
       "        text-align: right;\n",
       "    }\n",
       "</style>\n",
       "<table border=\"1\" class=\"dataframe\">\n",
       "  <thead>\n",
       "    <tr style=\"text-align: right;\">\n",
       "      <th></th>\n",
       "      <th>X</th>\n",
       "      <th>X2</th>\n",
       "      <th>Y</th>\n",
       "    </tr>\n",
       "  </thead>\n",
       "  <tbody>\n",
       "    <tr>\n",
       "      <th>0</th>\n",
       "      <td>-0.949964</td>\n",
       "      <td>-0.143678</td>\n",
       "      <td>-0.956662</td>\n",
       "    </tr>\n",
       "    <tr>\n",
       "      <th>1</th>\n",
       "      <td>-1.296074</td>\n",
       "      <td>-2.864551</td>\n",
       "      <td>-1.304017</td>\n",
       "    </tr>\n",
       "    <tr>\n",
       "      <th>2</th>\n",
       "      <td>-0.006183</td>\n",
       "      <td>0.974035</td>\n",
       "      <td>-0.027915</td>\n",
       "    </tr>\n",
       "    <tr>\n",
       "      <th>3</th>\n",
       "      <td>-0.483983</td>\n",
       "      <td>0.921938</td>\n",
       "      <td>-0.481820</td>\n",
       "    </tr>\n",
       "    <tr>\n",
       "      <th>4</th>\n",
       "      <td>0.324732</td>\n",
       "      <td>0.445963</td>\n",
       "      <td>0.308702</td>\n",
       "    </tr>\n",
       "    <tr>\n",
       "      <th>...</th>\n",
       "      <td>...</td>\n",
       "      <td>...</td>\n",
       "      <td>...</td>\n",
       "    </tr>\n",
       "    <tr>\n",
       "      <th>912</th>\n",
       "      <td>1.563973</td>\n",
       "      <td>0.962195</td>\n",
       "      <td>1.562032</td>\n",
       "    </tr>\n",
       "    <tr>\n",
       "      <th>913</th>\n",
       "      <td>0.098494</td>\n",
       "      <td>0.000772</td>\n",
       "      <td>0.106404</td>\n",
       "    </tr>\n",
       "    <tr>\n",
       "      <th>914</th>\n",
       "      <td>1.077731</td>\n",
       "      <td>0.464907</td>\n",
       "      <td>1.096606</td>\n",
       "    </tr>\n",
       "    <tr>\n",
       "      <th>915</th>\n",
       "      <td>0.616815</td>\n",
       "      <td>0.860369</td>\n",
       "      <td>0.581909</td>\n",
       "    </tr>\n",
       "    <tr>\n",
       "      <th>916</th>\n",
       "      <td>-0.237485</td>\n",
       "      <td>0.997715</td>\n",
       "      <td>-0.240682</td>\n",
       "    </tr>\n",
       "  </tbody>\n",
       "</table>\n",
       "<p>917 rows × 3 columns</p>\n",
       "</div>"
      ],
      "text/plain": [
       "            X        X2         Y\n",
       "0   -0.949964 -0.143678 -0.956662\n",
       "1   -1.296074 -2.864551 -1.304017\n",
       "2   -0.006183  0.974035 -0.027915\n",
       "3   -0.483983  0.921938 -0.481820\n",
       "4    0.324732  0.445963  0.308702\n",
       "..        ...       ...       ...\n",
       "912  1.563973  0.962195  1.562032\n",
       "913  0.098494  0.000772  0.106404\n",
       "914  1.077731  0.464907  1.096606\n",
       "915  0.616815  0.860369  0.581909\n",
       "916 -0.237485  0.997715 -0.240682\n",
       "\n",
       "[917 rows x 3 columns]"
      ]
     },
     "execution_count": 3,
     "metadata": {},
     "output_type": "execute_result"
    }
   ],
   "source": [
    "# 进行标准化\n",
    "features = data.columns\n",
    "data[features] = data[features].apply(lambda x: (x - x.mean())/x.std())\n",
    "data"
   ]
  },
  {
   "cell_type": "code",
   "execution_count": 4,
   "id": "94994d17",
   "metadata": {},
   "outputs": [
    {
     "data": {
      "text/plain": [
       "[tensor([-0.9500, -1.2961, -0.0062, -0.4840,  0.3247, -1.6472,  0.1475, -1.0107,\n",
       "          0.5172, -0.3050], device='cuda:0'),\n",
       " tensor([-0.1437, -2.8646,  0.9740,  0.9219,  0.4460, -2.1612,  0.0813, -1.2945,\n",
       "          0.1784,  0.1973], device='cuda:0'),\n",
       " tensor([-0.9567, -1.3040, -0.0279, -0.4818,  0.3087, -1.6793,  0.1324, -0.9713,\n",
       "          0.5333, -0.2787], device='cuda:0')]"
      ]
     },
     "execution_count": 4,
     "metadata": {},
     "output_type": "execute_result"
    }
   ],
   "source": [
    "device = d2l.try_gpu()\n",
    "X = torch.tensor((data['X']), dtype=torch.float32, device=device)\n",
    "X2 = torch.tensor((data['X2']), dtype=torch.float32, device=device)\n",
    "Y = torch.tensor(data['Y'], dtype=torch.float32, device=device)\n",
    "# net = nn.Sequential(nn.Linear())\n",
    "[t[:10] for t in (X, X2, Y)]"
   ]
  },
  {
   "cell_type": "code",
   "execution_count": 5,
   "id": "7417fea9",
   "metadata": {},
   "outputs": [],
   "source": [
    "X = torch.cat((X.unsqueeze(1), X2.unsqueeze(1)), 1)"
   ]
  },
  {
   "cell_type": "code",
   "execution_count": 6,
   "id": "2bd5375d",
   "metadata": {},
   "outputs": [],
   "source": [
    "Y = Y.unsqueeze(1)"
   ]
  },
  {
   "cell_type": "code",
   "execution_count": 7,
   "id": "76f9bf0c",
   "metadata": {},
   "outputs": [
    {
     "data": {
      "text/plain": [
       "(torch.Size([917, 2]), torch.Size([917, 1]))"
      ]
     },
     "execution_count": 7,
     "metadata": {},
     "output_type": "execute_result"
    }
   ],
   "source": [
    "X.shape, Y.shape"
   ]
  },
  {
   "cell_type": "code",
   "execution_count": 8,
   "id": "0e665f1d",
   "metadata": {},
   "outputs": [],
   "source": [
    "num_hiddens = 256\n",
    "net = nn.Sequential(nn.Linear(X.shape[1], num_hiddens), nn.ReLU(),\n",
    "                   nn.Linear(num_hiddens, 1))\n",
    "net = net.to(device)"
   ]
  },
  {
   "cell_type": "code",
   "execution_count": 9,
   "id": "3aef3033",
   "metadata": {},
   "outputs": [],
   "source": [
    "optimizer = torch.optim.SGD(net.parameters(), lr=0.01)\n",
    "loss = nn.MSELoss()"
   ]
  },
  {
   "cell_type": "code",
   "execution_count": 10,
   "id": "f3c3f319",
   "metadata": {},
   "outputs": [
    {
     "name": "stdout",
     "output_type": "stream",
     "text": [
      "epoch: 0 loss: 1.5820088386535645\n",
      "epoch: 1 loss: 0.5571433901786804\n",
      "epoch: 2 loss: 0.26413771510124207\n",
      "epoch: 3 loss: 0.15787138044834137\n",
      "epoch: 4 loss: 0.1105872392654419\n",
      "epoch: 5 loss: 0.084320567548275\n",
      "epoch: 6 loss: 0.06688709557056427\n",
      "epoch: 7 loss: 0.054060447961091995\n",
      "epoch: 8 loss: 0.04415633901953697\n",
      "epoch: 9 loss: 0.036350373178720474\n",
      "epoch: 10 loss: 0.03014494478702545\n",
      "epoch: 11 loss: 0.025192642584443092\n",
      "epoch: 12 loss: 0.021231815218925476\n",
      "epoch: 13 loss: 0.01805877313017845\n",
      "epoch: 14 loss: 0.015512736514210701\n",
      "epoch: 15 loss: 0.013466138392686844\n",
      "epoch: 16 loss: 0.011817553080618382\n",
      "epoch: 17 loss: 0.010486274026334286\n",
      "epoch: 18 loss: 0.009408057667315006\n",
      "epoch: 19 loss: 0.008531762287020683\n"
     ]
    }
   ],
   "source": [
    "num_epochs = 20\n",
    "for epoh in range(num_epochs):\n",
    "    optimizer.zero_grad()\n",
    "    l = loss(net(X), Y)\n",
    "    l.sum().backward()\n",
    "    optimizer.step()\n",
    "    print(f'epoch: {epoh} loss: {l}')"
   ]
  },
  {
   "cell_type": "code",
   "execution_count": 11,
   "id": "c2f86a9f",
   "metadata": {},
   "outputs": [],
   "source": [
    "torch.save(net.state_dict(), 'linear_model.params')"
   ]
  },
  {
   "cell_type": "code",
   "execution_count": 12,
   "id": "cc1c012c",
   "metadata": {},
   "outputs": [
    {
     "data": {
      "text/plain": [
       "tensor([[10.4673,  9.9575],\n",
       "        [ 8.9302, 10.7883],\n",
       "        [10.1586, 10.3671],\n",
       "        [ 9.9816, 10.6398],\n",
       "        [ 9.4420, 11.4105],\n",
       "        [10.1687, 10.7729],\n",
       "        [ 9.2914,  9.7375],\n",
       "        [11.1346, 10.0341],\n",
       "        [ 9.4917, 10.1754],\n",
       "        [ 9.4869, 10.1888]], device='cuda:0')"
      ]
     },
     "execution_count": 12,
     "metadata": {},
     "output_type": "execute_result"
    }
   ],
   "source": [
    "test_X = torch.randn((30, 2), device=device) + 10\n",
    "test_X[:10]"
   ]
  },
  {
   "cell_type": "code",
   "execution_count": 13,
   "id": "bc2e33a1",
   "metadata": {},
   "outputs": [],
   "source": [
    "test_Y = net(test_X)"
   ]
  },
  {
   "cell_type": "code",
   "execution_count": 14,
   "id": "d2fe0d09",
   "metadata": {},
   "outputs": [
    {
     "data": {
      "text/html": [
       "<div>\n",
       "<style scoped>\n",
       "    .dataframe tbody tr th:only-of-type {\n",
       "        vertical-align: middle;\n",
       "    }\n",
       "\n",
       "    .dataframe tbody tr th {\n",
       "        vertical-align: top;\n",
       "    }\n",
       "\n",
       "    .dataframe thead th {\n",
       "        text-align: right;\n",
       "    }\n",
       "</style>\n",
       "<table border=\"1\" class=\"dataframe\">\n",
       "  <thead>\n",
       "    <tr style=\"text-align: right;\">\n",
       "      <th></th>\n",
       "      <th>X1</th>\n",
       "      <th>X2</th>\n",
       "      <th>Y</th>\n",
       "    </tr>\n",
       "  </thead>\n",
       "  <tbody>\n",
       "    <tr>\n",
       "      <th>0</th>\n",
       "      <td>10.467271</td>\n",
       "      <td>9.957463</td>\n",
       "      <td>7.761021</td>\n",
       "    </tr>\n",
       "    <tr>\n",
       "      <th>1</th>\n",
       "      <td>8.930247</td>\n",
       "      <td>10.788275</td>\n",
       "      <td>6.901815</td>\n",
       "    </tr>\n",
       "    <tr>\n",
       "      <th>2</th>\n",
       "      <td>10.158595</td>\n",
       "      <td>10.367094</td>\n",
       "      <td>7.611139</td>\n",
       "    </tr>\n",
       "    <tr>\n",
       "      <th>3</th>\n",
       "      <td>9.981553</td>\n",
       "      <td>10.639771</td>\n",
       "      <td>7.522140</td>\n",
       "    </tr>\n",
       "    <tr>\n",
       "      <th>4</th>\n",
       "      <td>9.442006</td>\n",
       "      <td>11.410488</td>\n",
       "      <td>7.272474</td>\n",
       "    </tr>\n",
       "    <tr>\n",
       "      <th>5</th>\n",
       "      <td>10.168675</td>\n",
       "      <td>10.772909</td>\n",
       "      <td>7.647848</td>\n",
       "    </tr>\n",
       "    <tr>\n",
       "      <th>6</th>\n",
       "      <td>9.291363</td>\n",
       "      <td>9.737516</td>\n",
       "      <td>7.020576</td>\n",
       "    </tr>\n",
       "    <tr>\n",
       "      <th>7</th>\n",
       "      <td>11.134564</td>\n",
       "      <td>10.034095</td>\n",
       "      <td>8.160399</td>\n",
       "    </tr>\n",
       "    <tr>\n",
       "      <th>8</th>\n",
       "      <td>9.491737</td>\n",
       "      <td>10.175425</td>\n",
       "      <td>7.183087</td>\n",
       "    </tr>\n",
       "    <tr>\n",
       "      <th>9</th>\n",
       "      <td>9.486907</td>\n",
       "      <td>10.188770</td>\n",
       "      <td>7.181641</td>\n",
       "    </tr>\n",
       "  </tbody>\n",
       "</table>\n",
       "</div>"
      ],
      "text/plain": [
       "          X1         X2         Y\n",
       "0  10.467271   9.957463  7.761021\n",
       "1   8.930247  10.788275  6.901815\n",
       "2  10.158595  10.367094  7.611139\n",
       "3   9.981553  10.639771  7.522140\n",
       "4   9.442006  11.410488  7.272474\n",
       "5  10.168675  10.772909  7.647848\n",
       "6   9.291363   9.737516  7.020576\n",
       "7  11.134564  10.034095  8.160399\n",
       "8   9.491737  10.175425  7.183087\n",
       "9   9.486907  10.188770  7.181641"
      ]
     },
     "execution_count": 14,
     "metadata": {},
     "output_type": "execute_result"
    }
   ],
   "source": [
    "test_data = pd.DataFrame(columns=['X1', 'X2', 'Y'])\n",
    "test_data['X1'] = test_X[:, 0].to('cpu').detach().numpy()\n",
    "test_data['X2'] = test_X[:, 1].to('cpu').detach().numpy()\n",
    "test_data['Y'] = test_Y.to('cpu').detach().numpy()\n",
    "test_data[:10]"
   ]
  },
  {
   "cell_type": "code",
   "execution_count": 15,
   "id": "ec90c943",
   "metadata": {},
   "outputs": [],
   "source": [
    "test_data.to_excel('1_副本.xlsx', index=None)"
   ]
  },
  {
   "cell_type": "code",
   "execution_count": 16,
   "id": "3f0dccef",
   "metadata": {},
   "outputs": [
    {
     "data": {
      "image/png": "[encoded data removed]",
      "text/plain": [
       "<Figure size 640x480 with 2 Axes>"
      ]
     },
     "metadata": {},
     "output_type": "display_data"
    }
   ],
   "source": [
    "fig = plt.figure()\n",
    "ax = fig.add_subplot(121,projection='3d')\n",
    "ax.scatter(*[data[col] for col in data.columns], c='b', label='Train')\n",
    "ax.legend()\n",
    "\n",
    "ax = fig.add_subplot(122,projection='3d')\n",
    "ax.scatter(*[test_data[col] for col in test_data.columns], c='g', label='Test')\n",
    "ax.legend()\n",
    "\n",
    "fig.subplots_adjust(wspace=0.2)\n",
    "fig.suptitle('Neural Net')\n",
    "\n",
    "plt.show()"
   ]
  }
 ],
 "metadata": {
  "kernelspec": {
   "display_name": "Python 3 (ipykernel)",
   "language": "python",
   "name": "python3"
  },
  "language_info": {
   "codemirror_mode": {
    "name": "ipython",
    "version": 3
   },
   "file_extension": ".py",
   "mimetype": "text/x-python",
   "name": "python",
   "nbconvert_exporter": "python",
   "pygments_lexer": "ipython3",
   "version": "3.9.13"
  }
 },
 "nbformat": 4,
 "nbformat_minor": 5
}
