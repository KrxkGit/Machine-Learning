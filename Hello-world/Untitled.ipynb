{
 "cells": [
  {
   "cell_type": "code",
   "execution_count": 1,
   "id": "ff86ac1e",
   "metadata": {},
   "outputs": [],
   "source": [
    "import torch"
   ]
  },
  {
   "cell_type": "code",
   "execution_count": 37,
   "id": "eaee85b1",
   "metadata": {},
   "outputs": [
    {
     "name": "stdout",
     "output_type": "stream",
     "text": [
      "tensor([[1, 2],\n",
      "        [3, 4]])\n",
      "tensor([[5, 6],\n",
      "        [7, 8]])\n",
      "tensor(10)\n"
     ]
    }
   ],
   "source": [
    "x=torch.tensor([[1,2],[3,4]])\n",
    "y=torch.tensor([[5,6],[7,8]])\n",
    "print(x)\n",
    "print(y)\n",
    "# print(x**y\n",
    "# print(torch.exp(x))\n",
    "# print(torch.cat((x,y),0))\n",
    "# print(x==y)\n",
    "print(x.sum())"
   ]
  },
  {
   "cell_type": "code",
   "execution_count": 42,
   "id": "475fbc26",
   "metadata": {},
   "outputs": [
    {
     "name": "stdout",
     "output_type": "stream",
     "text": [
      "tensor([[1, 2],\n",
      "        [2, 3],\n",
      "        [5, 6]])\n",
      "tensor([[1, 2]])\n",
      "tensor([[ 1,  4],\n",
      "        [ 2,  6],\n",
      "        [ 5, 12]])\n"
     ]
    }
   ],
   "source": [
    "# Broadcast\n",
    "x=torch.tensor([[1,2],[2,3],[5,6]])\n",
    "y=torch.tensor([[1,2]])\n",
    "print(x)\n",
    "print(y)\n",
    "print(x*y)"
   ]
  },
  {
   "cell_type": "code",
   "execution_count": 48,
   "id": "d142f9b1",
   "metadata": {},
   "outputs": [
    {
     "name": "stdout",
     "output_type": "stream",
     "text": [
      "tensor([1, 2, 3, 4, 5, 6])\n",
      "tensor([2, 2])\n"
     ]
    }
   ],
   "source": [
    "# pos\n",
    "x=torch.arange(1,7)\n",
    "print(x)\n",
    "x[2]=2\n",
    "print(x[1:3])"
   ]
  },
  {
   "cell_type": "code",
   "execution_count": 55,
   "id": "98c6cad9",
   "metadata": {},
   "outputs": [
    {
     "name": "stdout",
     "output_type": "stream",
     "text": [
      "2159999861680\n",
      "tensor([[2, 2, 2, 2, 2, 2],\n",
      "        [2, 2, 2, 2, 2, 2],\n",
      "        [2, 2, 2, 2, 2, 2],\n",
      "        [2, 2, 2, 2, 2, 2],\n",
      "        [2, 2, 2, 2, 2, 2]], dtype=torch.int32)\n",
      "2159999861680\n"
     ]
    }
   ],
   "source": [
    "# memory layout\n",
    "x=torch.ones(5,6,dtype=torch.int)\n",
    "y=torch.ones(5,6,dtype=torch.int)\n",
    "before=id(x)\n",
    "print(before)\n",
    "x+=y\n",
    "print(x)\n",
    "print(before==id(x))"
   ]
  },
  {
   "cell_type": "code",
   "execution_count": 60,
   "id": "6d823109",
   "metadata": {},
   "outputs": [
    {
     "name": "stdout",
     "output_type": "stream",
     "text": [
      "[[5.41896226e-186 7.18105582e+032]]\n",
      "<class 'numpy.ndarray'>\n",
      "tensor([[5.4190e-186,  7.1811e+32]], dtype=torch.float64)\n",
      "<class 'torch.Tensor'>\n"
     ]
    }
   ],
   "source": [
    "import numpy as np\n",
    "x=np.ndarray([1,2])\n",
    "print(x)\n",
    "print(type(x))\n",
    "y=torch.tensor(x)\n",
    "print(y)\n",
    "print(type(y))"
   ]
  },
  {
   "cell_type": "code",
   "execution_count": 75,
   "id": "7bb24492",
   "metadata": {},
   "outputs": [],
   "source": [
    "# 数据预处理\n",
    "import os\n",
    "\n",
    "os.makedirs(os.path.join('.', 'data'), exist_ok=True)\n",
    "data_file = os.path.join('.', 'data', 'house_tiny.csv')\n",
    "with open(data_file, 'w') as f:\n",
    "    f.write('NumRooms,Alley,Price\\n')  # 列名\n",
    "    f.write('NA,Pave,127500\\n')  # 每行表示一个数据样本\n",
    "    f.write('2,Bill,106000\\n')\n",
    "    f.write('4,NA,178100\\n')\n",
    "    f.write('NA,NA,140000\\n')"
   ]
  },
  {
   "cell_type": "code",
   "execution_count": 76,
   "id": "fe143925",
   "metadata": {},
   "outputs": [
    {
     "name": "stdout",
     "output_type": "stream",
     "text": [
      "   NumRooms Alley   Price\n",
      "0       NaN  Pave  127500\n",
      "1       2.0  Bill  106000\n",
      "2       4.0   NaN  178100\n",
      "3       NaN   NaN  140000\n"
     ]
    }
   ],
   "source": [
    "import pandas as pd\n",
    "\n",
    "data = pd.read_csv(data_file)\n",
    "print(data)"
   ]
  },
  {
   "cell_type": "code",
   "execution_count": 79,
   "id": "cc98338c",
   "metadata": {},
   "outputs": [
    {
     "name": "stdout",
     "output_type": "stream",
     "text": [
      "   NumRooms Alley\n",
      "0       NaN  Pave\n",
      "1       2.0  Bill\n",
      "2       4.0   NaN\n",
      "3       NaN   NaN\n",
      "\n",
      "\n",
      "0    127500\n",
      "1    106000\n",
      "2    178100\n",
      "3    140000\n",
      "Name: Price, dtype: int64\n",
      "\n",
      "\n"
     ]
    },
    {
     "data": {
      "text/html": [
       "<div>\n",
       "<style scoped>\n",
       "    .dataframe tbody tr th:only-of-type {\n",
       "        vertical-align: middle;\n",
       "    }\n",
       "\n",
       "    .dataframe tbody tr th {\n",
       "        vertical-align: top;\n",
       "    }\n",
       "\n",
       "    .dataframe thead th {\n",
       "        text-align: right;\n",
       "    }\n",
       "</style>\n",
       "<table border=\"1\" class=\"dataframe\">\n",
       "  <thead>\n",
       "    <tr style=\"text-align: right;\">\n",
       "      <th></th>\n",
       "      <th>NumRooms</th>\n",
       "      <th>Alley_Bill</th>\n",
       "      <th>Alley_Pave</th>\n",
       "      <th>Alley_nan</th>\n",
       "    </tr>\n",
       "  </thead>\n",
       "  <tbody>\n",
       "    <tr>\n",
       "      <th>0</th>\n",
       "      <td>3.0</td>\n",
       "      <td>0</td>\n",
       "      <td>1</td>\n",
       "      <td>0</td>\n",
       "    </tr>\n",
       "    <tr>\n",
       "      <th>1</th>\n",
       "      <td>2.0</td>\n",
       "      <td>1</td>\n",
       "      <td>0</td>\n",
       "      <td>0</td>\n",
       "    </tr>\n",
       "    <tr>\n",
       "      <th>2</th>\n",
       "      <td>4.0</td>\n",
       "      <td>0</td>\n",
       "      <td>0</td>\n",
       "      <td>1</td>\n",
       "    </tr>\n",
       "    <tr>\n",
       "      <th>3</th>\n",
       "      <td>3.0</td>\n",
       "      <td>0</td>\n",
       "      <td>0</td>\n",
       "      <td>1</td>\n",
       "    </tr>\n",
       "  </tbody>\n",
       "</table>\n",
       "</div>"
      ],
      "text/plain": [
       "   NumRooms  Alley_Bill  Alley_Pave  Alley_nan\n",
       "0       3.0           0           1          0\n",
       "1       2.0           1           0          0\n",
       "2       4.0           0           0          1\n",
       "3       3.0           0           0          1"
      ]
     },
     "execution_count": 79,
     "metadata": {},
     "output_type": "execute_result"
    }
   ],
   "source": [
    "inputs,outputs=data.iloc[:,0:2],data.iloc[:,2]\n",
    "print(inputs)\n",
    "print('\\n')\n",
    "print(outputs)\n",
    "print('\\n')\n",
    "inputs=pd.get_dummies(inputs,dummy_na=True)\n",
    "inputs=inputs.fillna(inputs.mean())\n",
    "inputs"
   ]
  },
  {
   "cell_type": "code",
   "execution_count": 85,
   "id": "0a0f9d25",
   "metadata": {},
   "outputs": [
    {
     "data": {
      "text/plain": [
       "torch.Size([4, 4])"
      ]
     },
     "execution_count": 85,
     "metadata": {},
     "output_type": "execute_result"
    }
   ],
   "source": [
    "x, y = torch.tensor(inputs.values), torch.tensor(outputs.values)\n",
    "x, y\n",
    "x.shape"
   ]
  },
  {
   "cell_type": "code",
   "execution_count": 139,
   "id": "c0092f94",
   "metadata": {},
   "outputs": [
    {
     "data": {
      "text/plain": [
       "(tensor([1., 1., 1., 1.]), tensor([2., 2., 2., 2.]), tensor(8.))"
      ]
     },
     "execution_count": 139,
     "metadata": {},
     "output_type": "execute_result"
    }
   ],
   "source": [
    "x=torch.arange(20).reshape(5,4)\n",
    "# 按轴压扁求和\n",
    "s=x.sum(axis=1)\n",
    "x,s\n",
    "s1=x.sum(axis=1,keepdims=True)\n",
    "# x=x/s1\n",
    "# x\n",
    "y=torch.arange(20).reshape(4,5)\n",
    "# x,torch.mv(x,torch.tensor([1,2,3,4])) # 向量会转成先转置\n",
    "# x,y,torch.mm(x,y) # 矩阵将遵照矩阵乘法\n",
    "# 以下为向量点积\n",
    "# x=torch.ones(4)\n",
    "# y=x*2\n",
    "# x,y,torch.dot(x,y)"
   ]
  },
  {
   "cell_type": "code",
   "execution_count": 143,
   "id": "1e64ef01",
   "metadata": {},
   "outputs": [
    {
     "data": {
      "text/plain": [
       "tensor(5.)"
      ]
     },
     "execution_count": 143,
     "metadata": {},
     "output_type": "execute_result"
    }
   ],
   "source": [
    "# 向量范数\n",
    "u=torch.tensor([3.0,4])\n",
    "# u.norm()\n",
    "torch.norm(u)"
   ]
  },
  {
   "cell_type": "code",
   "execution_count": 146,
   "id": "20d2a85e",
   "metadata": {},
   "outputs": [
    {
     "data": {
      "text/plain": [
       "(tensor([[1., 1., 1., 1.],\n",
       "         [1., 1., 1., 1.],\n",
       "         [1., 1., 1., 1.],\n",
       "         [1., 1., 1., 1.],\n",
       "         [1., 1., 1., 1.],\n",
       "         [1., 1., 1., 1.],\n",
       "         [1., 1., 1., 1.],\n",
       "         [1., 1., 1., 1.],\n",
       "         [1., 1., 1., 1.]]),\n",
       " tensor(6.))"
      ]
     },
     "execution_count": 146,
     "metadata": {},
     "output_type": "execute_result"
    }
   ],
   "source": [
    "# 矩阵范数\n",
    "u = torch.ones(9,4)\n",
    "u,torch.norm(u)"
   ]
  },
  {
   "cell_type": "code",
   "execution_count": 165,
   "id": "f9e8f6f8",
   "metadata": {},
   "outputs": [
    {
     "data": {
      "text/plain": [
       "(tensor([[[ 2,  3,  4],\n",
       "          [ 1,  2,  3]],\n",
       " \n",
       "         [[ 5,  6,  7],\n",
       "          [ 8,  9, 12]]]),\n",
       " torch.Size([2, 2, 3]),\n",
       " tensor([[[15]],\n",
       " \n",
       "         [[47]]]))"
      ]
     },
     "execution_count": 165,
     "metadata": {},
     "output_type": "execute_result"
    }
   ],
   "source": [
    "# 沿轴求和(方括号越深，所在维度越高！！)\n",
    "x=torch.tensor([[[2,3,4],[1,2,3]],[[5,6,7],[8,9,12]]])\n",
    "x,x.shape,x.sum(axis=[1,2],keepdims=True)"
   ]
  },
  {
   "cell_type": "code",
   "execution_count": 166,
   "id": "31ec9c93",
   "metadata": {},
   "outputs": [
    {
     "data": {
      "text/plain": [
       "(tensor([[ 0,  1,  2,  3],\n",
       "         [ 4,  5,  6,  7],\n",
       "         [ 8,  9, 10, 11],\n",
       "         [12, 13, 14, 15],\n",
       "         [16, 17, 18, 19]]),\n",
       " tensor([[ 0,  2],\n",
       "         [ 8, 10],\n",
       "         [16, 18]]))"
      ]
     },
     "execution_count": 166,
     "metadata": {},
     "output_type": "execute_result"
    }
   ],
   "source": [
    "u=torch.arange(20).reshape(5,4)\n",
    "u,u[::2,::2]"
   ]
  },
  {
   "cell_type": "code",
   "execution_count": 170,
   "id": "c03cf5bb",
   "metadata": {},
   "outputs": [
    {
     "data": {
      "text/plain": [
       "False"
      ]
     },
     "execution_count": 170,
     "metadata": {},
     "output_type": "execute_result"
    }
   ],
   "source": [
    "x=torch.arange(20)\n",
    "before=id(x)\n",
    "y=torch.arange(20)*2\n",
    "x=x+y # 实际上x=x+y使id改变，而x+=y不会使x的id改变，即实际上前者是生成新对象用于保存结果，后者直接修改本对象\n",
    "id(x)==before"
   ]
  },
  {
   "cell_type": "code",
   "execution_count": 33,
   "id": "5704576d",
   "metadata": {},
   "outputs": [
    {
     "data": {
      "text/plain": [
       "tensor([[ 0.,  2.,  4.,  6.],\n",
       "        [ 8., 10., 12., 14.],\n",
       "        [16., 18., 20., 22.],\n",
       "        [24., 26., 28., 30.],\n",
       "        [32., 34., 36., 38.]])"
      ]
     },
     "execution_count": 33,
     "metadata": {},
     "output_type": "execute_result"
    }
   ],
   "source": [
    "x=torch.arange(20.0).reshape(5,4)\n",
    "x.requires_grad_(True)\n",
    "y=x**2\n",
    "# y.backward()\n",
    "# y.sum().backward()\n",
    "# print(x.grad)\n",
    "c=y+2\n",
    "# x.grad.zero_()\n",
    "c.sum().backward()\n",
    "x.grad"
   ]
  }
 ],
 "metadata": {
  "kernelspec": {
   "display_name": "Python 3 (ipykernel)",
   "language": "python",
   "name": "python3"
  },
  "language_info": {
   "codemirror_mode": {
    "name": "ipython",
    "version": 3
   },
   "file_extension": ".py",
   "mimetype": "text/x-python",
   "name": "python",
   "nbconvert_exporter": "python",
   "pygments_lexer": "ipython3",
   "version": "3.9.13"
  }
 },
 "nbformat": 4,
 "nbformat_minor": 5
}
