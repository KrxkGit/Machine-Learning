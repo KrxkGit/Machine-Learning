{
 "cells": [
  {
   "cell_type": "code",
   "execution_count": 1,
   "id": "ef6a7d60",
   "metadata": {},
   "outputs": [],
   "source": [
    "import random\n",
    "import numpy\n",
    "import torch\n",
    "import matplotlib.pyplot as plt\n",
    "import os\n",
    "os.environ[\"KMP_DUPLICATE_LIB_OK\"]=\"TRUE\""
   ]
  },
  {
   "cell_type": "code",
   "execution_count": 2,
   "id": "dc1271ec",
   "metadata": {},
   "outputs": [],
   "source": [
    "# 生成数据集\n",
    "def synthetic_data(w,b,num_examples):\n",
    "    \"\"\"生成y=Xw+b+噪声\"\"\"\n",
    "    X=torch.normal(0,1,(num_examples,len(w)))\n",
    "    y=torch.matmul(X,w)+b\n",
    "    y+=torch.normal(0.,0.01,y.shape)\n",
    "    return X,y.reshape((-1,1))"
   ]
  },
  {
   "cell_type": "code",
   "execution_count": 3,
   "id": "39a12e5d",
   "metadata": {},
   "outputs": [],
   "source": [
    "true_w=torch.tensor([2,-3.4])\n",
    "true_b=4.2\n",
    "features,labels=synthetic_data(true_w,true_b,1000)"
   ]
  },
  {
   "cell_type": "code",
   "execution_count": 7,
   "id": "d8af89fa",
   "metadata": {},
   "outputs": [
    {
     "name": "stdout",
     "output_type": "stream",
     "text": [
      "features: tensor([ 0.7905, -1.1540]) \n",
      "labels: tensor([9.7072])\n"
     ]
    }
   ],
   "source": [
    "print('features:',features[0],'\\nlabels:',labels[0])"
   ]
  },
  {
   "cell_type": "code",
   "execution_count": 10,
   "id": "c5b1f0f2",
   "metadata": {},
   "outputs": [
    {
     "data": {
      "image/png": "[encoded data removed]",
      "text/plain": [
       "<Figure size 640x480 with 1 Axes>"
      ]
     },
     "metadata": {},
     "output_type": "display_data"
    }
   ],
   "source": [
    "# 画图（数据集）\n",
    "# plt.plot(features[:,1].detach().numpy(),labels[:,0].detach().numpy())\n",
    "plt.scatter(features[:,1].detach().numpy(),labels[:,0].detach().numpy(),1)\n",
    "plt.xlabel('x1')\n",
    "plt.ylabel('y')\n",
    "plt.show()"
   ]
  },
  {
   "cell_type": "code",
   "execution_count": 11,
   "id": "5c05999c",
   "metadata": {},
   "outputs": [],
   "source": [
    "# 读取训练集,将数据集分成多个小数据集并返回\n",
    "def data_iter(batch_size,features,labels):\n",
    "    num_examples=len(features)\n",
    "    indices=list(range(num_examples))\n",
    "    random.shuffle(indices)\n",
    "    for i in range(0,num_examples,batch_size):\n",
    "        batch_indices=torch.tensor(indices[i:min(i+batch_size,num_examples)])\n",
    "        yield features[batch_indices],labels[batch_indices]"
   ]
  },
  {
   "cell_type": "code",
   "execution_count": 13,
   "id": "32b4ec8d",
   "metadata": {},
   "outputs": [
    {
     "name": "stdout",
     "output_type": "stream",
     "text": [
      "tensor([[-0.4498, -1.1330],\n",
      "        [ 0.2455, -0.9950],\n",
      "        [ 0.4708,  0.6285],\n",
      "        [-1.4692, -0.1341],\n",
      "        [-0.3722,  1.2687],\n",
      "        [ 1.4415,  0.0842],\n",
      "        [-0.0128, -0.2498],\n",
      "        [ 0.2361, -1.7227],\n",
      "        [-1.9502,  0.3511],\n",
      "        [ 0.0910,  0.2177]]) \n",
      " tensor([[ 7.1474],\n",
      "        [ 8.0773],\n",
      "        [ 3.0150],\n",
      "        [ 1.7363],\n",
      "        [-0.8519],\n",
      "        [ 6.7905],\n",
      "        [ 5.0057],\n",
      "        [10.5206],\n",
      "        [-0.8903],\n",
      "        [ 3.6426]])\n"
     ]
    }
   ],
   "source": [
    "# 展示读取效果(打印第一个小数据集)\n",
    "batch_size=10\n",
    "for X,y in data_iter(batch_size,features,labels):\n",
    "    print(X,'\\n',y)\n",
    "    break"
   ]
  },
  {
   "cell_type": "code",
   "execution_count": 75,
   "id": "2452bc13",
   "metadata": {},
   "outputs": [],
   "source": [
    "# 初始化模型参数\n",
    "w=torch.normal(0,0.01,size=(2,1),requires_grad=True)\n",
    "# w=torch.zeros(2,1,requires_grad=True)\n",
    "b=torch.zeros(1,requires_grad=True)"
   ]
  },
  {
   "cell_type": "code",
   "execution_count": 27,
   "id": "2ccccce8",
   "metadata": {},
   "outputs": [],
   "source": [
    "# 定义模型\n",
    "def linreg(X,w,b):\n",
    "    return torch.matmul(X,w)+b"
   ]
  },
  {
   "cell_type": "code",
   "execution_count": 28,
   "id": "f5970e3c",
   "metadata": {},
   "outputs": [],
   "source": [
    "# 定义损失函数\n",
    "def squared_loss(y_hat,y):\n",
    "    return (y_hat-y.reshape(y_hat.shape))**2/2"
   ]
  },
  {
   "cell_type": "code",
   "execution_count": 29,
   "id": "b08149e9",
   "metadata": {},
   "outputs": [],
   "source": [
    "# 定义优化算法\n",
    "def sgd(params,lr,batch_size):\n",
    "    '''小批量样本随机梯度下降'''\n",
    "    with torch.no_grad():\n",
    "        for param in params:\n",
    "            param-=lr*param.grad/batch_size\n",
    "            param.grad.zero_()\n",
    "    "
   ]
  },
  {
   "cell_type": "code",
   "execution_count": 76,
   "id": "5f6564d2",
   "metadata": {},
   "outputs": [
    {
     "name": "stdout",
     "output_type": "stream",
     "text": [
      "epoch 1,loss 0.034641\n",
      "epoch 2,loss 0.000126\n",
      "epoch 3,loss 0.000049\n",
      "w:(2.000338554382324, -3.39959979057312) \n",
      " b:4.200116157531738\n"
     ]
    }
   ],
   "source": [
    "# 训练\n",
    "lr=0.03\n",
    "num_epochs=3\n",
    "net=linreg\n",
    "loss=squared_loss\n",
    "for epoch in range(num_epochs):\n",
    "    for X,y in data_iter(batch_size,features,labels):\n",
    "        l=loss(linreg(X,w,b),y)\n",
    "        l.sum().backward()\n",
    "        sgd([w,b],lr,batch_size)\n",
    "    with torch.no_grad():\n",
    "        train_l=loss(net(features,w,b),labels)\n",
    "        print(f'epoch {epoch+1},loss {float(train_l.mean()):f}')\n",
    "print(f'w:{w[0].item(),w[1].item()} \\n b:{b.item()}') # 输出训练后的模型参数"
   ]
  },
  {
   "cell_type": "code",
   "execution_count": 34,
   "id": "aecb27fb",
   "metadata": {},
   "outputs": [
    {
     "name": "stdout",
     "output_type": "stream",
     "text": [
      "w的估计误差: tensor([-0.0003,  0.0004], grad_fn=<SubBackward0>)\n",
      "b的估计误差: tensor([-0.0009], grad_fn=<RsubBackward1>)\n"
     ]
    }
   ],
   "source": [
    "# 由于我们知道真实参数，评估\n",
    "print(f'w的估计误差: {true_w - w.reshape(true_w.shape)}')\n",
    "print(f'b的估计误差: {true_b - b}')"
   ]
  }
 ],
 "metadata": {
  "kernelspec": {
   "display_name": "Python 3 (ipykernel)",
   "language": "python",
   "name": "python3"
  },
  "language_info": {
   "codemirror_mode": {
    "name": "ipython",
    "version": 3
   },
   "file_extension": ".py",
   "mimetype": "text/x-python",
   "name": "python",
   "nbconvert_exporter": "python",
   "pygments_lexer": "ipython3",
   "version": "3.9.13"
  }
 },
 "nbformat": 4,
 "nbformat_minor": 5
}
