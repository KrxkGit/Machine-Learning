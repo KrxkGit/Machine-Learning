{
 "cells": [
  {
   "cell_type": "code",
   "execution_count": 2,
   "id": "0fe46e50",
   "metadata": {},
   "outputs": [],
   "source": [
    "import numpy as np\n",
    "import torch\n",
    "from torch.utils import data"
   ]
  },
  {
   "cell_type": "code",
   "execution_count": 3,
   "id": "cf5b9e22",
   "metadata": {},
   "outputs": [],
   "source": [
    "# 生成数据集\n",
    "def synthetic_data(w,b,num_examples):\n",
    "    \"\"\"生成y=Xw+b+噪声\"\"\"\n",
    "    X=torch.normal(0,1,(num_examples,len(w)))\n",
    "    y=torch.matmul(X,w)+b\n",
    "    y+=torch.normal(0.,0.01,y.shape)\n",
    "    return X,y.reshape((-1,1))"
   ]
  },
  {
   "cell_type": "code",
   "execution_count": 4,
   "id": "46fe4bc7",
   "metadata": {},
   "outputs": [],
   "source": [
    "# 生成数据集\n",
    "true_w=torch.tensor([2,-3.4])\n",
    "true_b=4.2\n",
    "features,labels=synthetic_data(true_w,true_b,1000)"
   ]
  },
  {
   "cell_type": "code",
   "execution_count": 14,
   "id": "34f097ac",
   "metadata": {},
   "outputs": [],
   "source": [
    "# 读取数据集函数辅助函数\n",
    "def load_array(data_arrays,batch_size,is_train=True):\n",
    "    data_set=data.TensorDataset(*data_arrays)\n",
    "    return data.DataLoader(data_set,batch_size,shuffle=is_train)"
   ]
  },
  {
   "cell_type": "code",
   "execution_count": 15,
   "id": "8e4bb2eb",
   "metadata": {},
   "outputs": [],
   "source": [
    "# 读取数据集函数\n",
    "batch_size = 10\n",
    "data_iter = load_array((features, labels), batch_size)"
   ]
  },
  {
   "cell_type": "code",
   "execution_count": 16,
   "id": "f9b036c3",
   "metadata": {},
   "outputs": [
    {
     "data": {
      "text/plain": [
       "[tensor([[-0.1601, -0.1097],\n",
       "         [ 0.9072, -1.6647],\n",
       "         [-0.2021,  0.8017],\n",
       "         [-0.5531,  2.0111],\n",
       "         [-0.6952, -0.1091],\n",
       "         [-1.2654,  0.4534],\n",
       "         [-0.1396, -0.7584],\n",
       "         [ 1.3793, -0.3433],\n",
       "         [-0.4209,  1.1107],\n",
       "         [-0.7390, -0.7944]]),\n",
       " tensor([[ 4.2379],\n",
       "         [11.6620],\n",
       "         [ 1.0595],\n",
       "         [-3.7474],\n",
       "         [ 3.1883],\n",
       "         [ 0.1127],\n",
       "         [ 6.4805],\n",
       "         [ 8.1260],\n",
       "         [-0.4088],\n",
       "         [ 5.4214]])]"
      ]
     },
     "execution_count": 16,
     "metadata": {},
     "output_type": "execute_result"
    }
   ],
   "source": [
    "# 输出读取数据示例\n",
    "next(iter(data_iter))"
   ]
  },
  {
   "cell_type": "code",
   "execution_count": 17,
   "id": "7f303f66",
   "metadata": {},
   "outputs": [],
   "source": [
    "from torch import nn"
   ]
  },
  {
   "cell_type": "code",
   "execution_count": 18,
   "id": "f9e51e6e",
   "metadata": {},
   "outputs": [],
   "source": [
    "# 定义只有一层的神经网络，该层为线性层\n",
    "net=nn.Sequential(nn.Linear(2,1))"
   ]
  },
  {
   "cell_type": "code",
   "execution_count": 19,
   "id": "ba695a6c",
   "metadata": {},
   "outputs": [
    {
     "data": {
      "text/plain": [
       "tensor([0.])"
      ]
     },
     "execution_count": 19,
     "metadata": {},
     "output_type": "execute_result"
    }
   ],
   "source": [
    "# 取第一层，初始化参数\n",
    "net[0].weight.data.normal_(0,0.01)\n",
    "net[0].bias.data.fill_(0)"
   ]
  },
  {
   "cell_type": "code",
   "execution_count": 20,
   "id": "f21f1267",
   "metadata": {},
   "outputs": [],
   "source": [
    "# 定义损失函数\n",
    "loss=nn.MSELoss()"
   ]
  },
  {
   "cell_type": "code",
   "execution_count": 21,
   "id": "942549f6",
   "metadata": {},
   "outputs": [],
   "source": [
    "# 定义优化函数与学习率\n",
    "trainer=torch.optim.SGD(net.parameters(),lr=0.03)"
   ]
  },
  {
   "cell_type": "code",
   "execution_count": 22,
   "id": "ed65b4a0",
   "metadata": {},
   "outputs": [],
   "source": [
    "import time"
   ]
  },
  {
   "cell_type": "code",
   "execution_count": 38,
   "id": "65bce9d8",
   "metadata": {},
   "outputs": [
    {
     "name": "stdout",
     "output_type": "stream",
     "text": [
      "epoch 1, loss 0.000094\n",
      "epoch 2, loss 0.000095\n",
      "epoch 3, loss 0.000095\n",
      "epoch 4, loss 0.000094\n",
      "epoch 5, loss 0.000094\n",
      "epoch 6, loss 0.000095\n",
      "epoch 7, loss 0.000096\n",
      "epoch 8, loss 0.000094\n",
      "epoch 9, loss 0.000095\n",
      "epoch 10, loss 0.000096\n",
      "epoch 11, loss 0.000094\n",
      "epoch 12, loss 0.000095\n",
      "epoch 13, loss 0.000094\n",
      "epoch 14, loss 0.000094\n",
      "epoch 15, loss 0.000094\n",
      "epoch 16, loss 0.000094\n",
      "epoch 17, loss 0.000094\n",
      "epoch 18, loss 0.000094\n",
      "epoch 19, loss 0.000096\n",
      "epoch 20, loss 0.000095\n",
      "w:tensor([[ 1.9992, -3.4012]], device='cuda:0') \n",
      " b:tensor([4.1990], device='cuda:0')\n",
      "Cost Time: 2068.03297996521 ms\n"
     ]
    }
   ],
   "source": [
    "# 训练\n",
    "start_time = time.time()\n",
    "num_epochs=20\n",
    "\n",
    "use_gpu = True\n",
    "if use_gpu:\n",
    "    device = 'cuda:0'\n",
    "else:\n",
    "    device = 'cpu'\n",
    "    \n",
    "features = features.to(device)\n",
    "labels = labels.to(device)\n",
    "net = net.to(device)\n",
    "\n",
    "\n",
    "for epoch in range(num_epochs):\n",
    "    for X,y in data_iter:\n",
    "        if use_gpu:\n",
    "            X = X.cuda(0)\n",
    "            y = y.cuda(0)\n",
    "        l=loss(net(X),y)\n",
    "        trainer.zero_grad()\n",
    "        l.backward()\n",
    "        trainer.step()\n",
    "    l = loss(net(features), labels)\n",
    "    print(f'epoch {epoch + 1}, loss {l:f}')\n",
    "print(f'w:{net[0].weight.data} \\n b:{net[0].bias.data}')\n",
    "end_time = time.time()\n",
    "print(f'Cost Time: {(end_time-start_time)*1000} ms')"
   ]
  },
  {
   "cell_type": "code",
   "execution_count": 43,
   "id": "ab23e344",
   "metadata": {},
   "outputs": [
    {
     "name": "stdout",
     "output_type": "stream",
     "text": [
      "w的估计误差： tensor([-0.0008, -0.0003])\n",
      "b的估计误差： tensor([0.0008])\n"
     ]
    }
   ],
   "source": [
    "w = net[0].weight.data\n",
    "print('w的估计误差：', true_w - w.reshape(true_w.shape))\n",
    "b = net[0].bias.data\n",
    "print('b的估计误差：', true_b - b)"
   ]
  }
 ],
 "metadata": {
  "kernelspec": {
   "display_name": "Python 3 (ipykernel)",
   "language": "python",
   "name": "python3"
  },
  "language_info": {
   "codemirror_mode": {
    "name": "ipython",
    "version": 3
   },
   "file_extension": ".py",
   "mimetype": "text/x-python",
   "name": "python",
   "nbconvert_exporter": "python",
   "pygments_lexer": "ipython3",
   "version": "3.9.13"
  }
 },
 "nbformat": 4,
 "nbformat_minor": 5
}
