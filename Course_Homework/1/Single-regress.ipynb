{
 "cells": [
  {
   "cell_type": "code",
   "execution_count": 1,
   "id": "bf14367c",
   "metadata": {},
   "outputs": [],
   "source": [
    "import numpy as np\n",
    "import torch\n",
    "import os\n",
    "os.environ['KMP_DUPLICATE_LIB_OK']='True'\n",
    "import matplotlib.pyplot as plt\n",
    "from IPython import display"
   ]
  },
  {
   "cell_type": "code",
   "execution_count": 2,
   "id": "f6691cba",
   "metadata": {},
   "outputs": [
    {
     "data": {
      "text/plain": [
       "(numpy.ndarray, (3,), 4)"
      ]
     },
     "execution_count": 2,
     "metadata": {},
     "output_type": "execute_result"
    }
   ],
   "source": [
    "# 一.2\n",
    "a = np.array([4 ,5, 6])\n",
    "type(a), a.shape, a[0]"
   ]
  },
  {
   "cell_type": "code",
   "execution_count": 3,
   "id": "7687bae3",
   "metadata": {},
   "outputs": [
    {
     "name": "stdout",
     "output_type": "stream",
     "text": [
      "2\n",
      "3\n"
     ]
    },
    {
     "data": {
      "text/plain": [
       "(4, 5, 2)"
      ]
     },
     "execution_count": 3,
     "metadata": {},
     "output_type": "execute_result"
    }
   ],
   "source": [
    "b = np.array([[4,5,6], [1,2,3]])\n",
    "for r in range(b.shape[0]):\n",
    "    print(b.shape[r])\n",
    "    \n",
    "b[0,0], b[0,1], b[1,1]"
   ]
  },
  {
   "cell_type": "code",
   "execution_count": 4,
   "id": "7a73b884",
   "metadata": {},
   "outputs": [
    {
     "data": {
      "text/plain": [
       "(array([[0., 0., 0.],\n",
       "        [0., 0., 0.],\n",
       "        [0., 0., 0.]]),\n",
       " array([[1., 1., 1., 1., 1.],\n",
       "        [1., 1., 1., 1., 1.],\n",
       "        [1., 1., 1., 1., 1.],\n",
       "        [1., 1., 1., 1., 1.]]),\n",
       " array([[1., 0., 0., 0.],\n",
       "        [0., 1., 0., 0.],\n",
       "        [0., 0., 1., 0.],\n",
       "        [0., 0., 0., 1.]]))"
      ]
     },
     "execution_count": 4,
     "metadata": {},
     "output_type": "execute_result"
    }
   ],
   "source": [
    "# 一.4\n",
    "c = np.zeros((3, 3))\n",
    "d = np.ones((4, 5))\n",
    "e = np.eye(4)\n",
    "c, d , e"
   ]
  },
  {
   "cell_type": "code",
   "execution_count": 5,
   "id": "f45eb422",
   "metadata": {},
   "outputs": [
    {
     "name": "stdout",
     "output_type": "stream",
     "text": [
      "[ 0  1  2  3  4  5  6  7  8  9 10 11]\n",
      "[[ 0  1  2  3]\n",
      " [ 4  5  6  7]\n",
      " [ 8  9 10 11]] (3, 4)\n",
      "[[ 4  5  6  7]\n",
      " [ 8  9 10 11]] [[ 2  3]\n",
      " [ 6  7]\n",
      " [10 11]] 11\n"
     ]
    }
   ],
   "source": [
    "# 一.5\n",
    "f = np.arange(12)\n",
    "print(f)\n",
    "f = np.reshape(f, (3, 4))\n",
    "print(f, f.shape)\n",
    "print(f[1:], f[:,2:], f[2,-1])"
   ]
  },
  {
   "cell_type": "code",
   "execution_count": 6,
   "id": "edccdb7d",
   "metadata": {},
   "outputs": [
    {
     "data": {
      "text/plain": [
       "<matplotlib.collections.PathCollection at 0x1ce5f4eafd0>"
      ]
     },
     "execution_count": 6,
     "metadata": {},
     "output_type": "execute_result"
    },
    {
     "data": {
      "image/png": "[encoded data removed]",
      "text/plain": [
       "<Figure size 640x480 with 1 Axes>"
      ]
     },
     "metadata": {},
     "output_type": "display_data"
    }
   ],
   "source": [
    "# 第二大题第1题\n",
    "# 生成带噪音训练数据\n",
    "num_observations = 100\n",
    "x = torch.linspace(-3, 3, num_observations)\n",
    "y = torch.sin(x) + torch.rand((num_observations))*0.5\n",
    "plt.scatter(x, y, s=2, c='r', label='True')"
   ]
  },
  {
   "cell_type": "code",
   "execution_count": 7,
   "id": "2d5c83ba",
   "metadata": {},
   "outputs": [],
   "source": [
    "# 建立模型，为了练习效果，此处不套用nn.Linear与MSELoss，采取手写模型与损失函数，仅使用torch的自动求梯度功能\n",
    "def caculate_loss(y, y_hat):\n",
    "    l = torch.pow(y_hat - y, 2)/100\n",
    "    return l\n",
    "\n",
    "class Krxk_model():\n",
    "    # 不继承 nn.Module,采用原始手写\n",
    "    def __init__(self, x, lr=0.1):\n",
    "        self.x = x\n",
    "        self.w = torch.randn((1), requires_grad=True)\n",
    "        self.b = torch.randn((1), requires_grad=True)\n",
    "        self.lr = lr\n",
    "    def forward(self):\n",
    "        y_hat = self.x*self.w + self.b\n",
    "        return y_hat\n",
    "    def zero_grad(self):\n",
    "        self.w.grad.zero_()\n",
    "        self.b.grad.zero_()\n",
    "    def step(self):\n",
    "        with torch.no_grad():\n",
    "            self.w -= self.w.grad*self.lr\n",
    "            self.b -= self.b.grad*self.lr"
   ]
  },
  {
   "cell_type": "code",
   "execution_count": 8,
   "id": "7a25f76b",
   "metadata": {},
   "outputs": [],
   "source": [
    "# 定义模型与超参数\n",
    "lr = 0.3\n",
    "model = Krxk_model(x, lr=lr)"
   ]
  },
  {
   "cell_type": "code",
   "execution_count": 9,
   "id": "890e8a85",
   "metadata": {},
   "outputs": [
    {
     "data": {
      "image/png": "[encoded data removed]",
      "text/plain": [
       "<Figure size 640x480 with 1 Axes>"
      ]
     },
     "metadata": {},
     "output_type": "display_data"
    },
    {
     "name": "stdout",
     "output_type": "stream",
     "text": [
      "最终损失： 0.18336977064609528\n"
     ]
    }
   ],
   "source": [
    "%time\n",
    "epochs = 50\n",
    "# 训练并画图显示损失\n",
    "y_hat = None\n",
    "l_arr = np.array([])\n",
    "\n",
    "fig, ax = plt.subplots()\n",
    "for epoch in range(epochs):\n",
    "    if epoch > 20:\n",
    "        model.lr = 0.005\n",
    "    y_hat = model.forward()\n",
    "    l = caculate_loss(y, y_hat).sum()\n",
    "    \n",
    "    # 简单画图\n",
    "    ax.cla()\n",
    "    ax.grid()\n",
    "    l_arr = np.append(l_arr, l.detach().numpy())\n",
    "    display.clear_output(wait=True)\n",
    "    ax.plot(range(l_arr.shape[0]), l_arr, 'g',label='loss') # 此行在ax对象释放时执行输出，故需保证ax不被释放\n",
    "    ax.set_title('Loss')\n",
    "    ax.legend()\n",
    "    display.display(fig)\n",
    "    plt.pause(0.1)\n",
    "#     print(f'第{epoch}代：损失: {l}')\n",
    "    l.backward()\n",
    "    model.step()\n",
    "    model.zero_grad()\n",
    "\n",
    "print('最终损失：', l_arr[-1])"
   ]
  },
  {
   "cell_type": "code",
   "execution_count": 10,
   "id": "c72de525",
   "metadata": {},
   "outputs": [
    {
     "name": "stdout",
     "output_type": "stream",
     "text": [
      "w tensor([0.3484], requires_grad=True)\n",
      "b tensor([0.2454], requires_grad=True)\n"
     ]
    }
   ],
   "source": [
    "print('w', model.w)\n",
    "print('b', model.b)"
   ]
  },
  {
   "cell_type": "code",
   "execution_count": 11,
   "id": "81f615ff",
   "metadata": {},
   "outputs": [],
   "source": [
    "torch.save({'w':model.w, 'b':model.b},'./hw_1-single.bin')"
   ]
  },
  {
   "cell_type": "code",
   "execution_count": 12,
   "id": "1e79cc9f",
   "metadata": {},
   "outputs": [
    {
     "data": {
      "image/png": "[encoded data removed]",
      "text/plain": [
       "<Figure size 640x480 with 1 Axes>"
      ]
     },
     "metadata": {},
     "output_type": "display_data"
    }
   ],
   "source": [
    "plt.scatter(x.detach().numpy(), y.detach().numpy(), s=2, c='r', label='True')\n",
    "plt.plot(x.detach().numpy(), y_hat.detach().numpy(), 'b--', label='Predict')\n",
    "plt.legend()\n",
    "plt.show()"
   ]
  }
 ],
 "metadata": {
  "kernelspec": {
   "display_name": "Python 3 (ipykernel)",
   "language": "python",
   "name": "python3"
  },
  "language_info": {
   "codemirror_mode": {
    "name": "ipython",
    "version": 3
   },
   "file_extension": ".py",
   "mimetype": "text/x-python",
   "name": "python",
   "nbconvert_exporter": "python",
   "pygments_lexer": "ipython3",
   "version": "3.9.13"
  }
 },
 "nbformat": 4,
 "nbformat_minor": 5
}
