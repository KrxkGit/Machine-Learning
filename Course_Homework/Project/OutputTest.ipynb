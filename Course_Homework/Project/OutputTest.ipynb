{
 "cells": [
  {
   "cell_type": "code",
   "execution_count": 1,
   "id": "04078d4a",
   "metadata": {},
   "outputs": [],
   "source": [
    "import os\n",
    "import pickle"
   ]
  },
  {
   "cell_type": "code",
   "execution_count": 2,
   "id": "b4aa884a",
   "metadata": {},
   "outputs": [],
   "source": [
    "root_path = 'E:/我的下载/DP/success/formula-text/result/'\n",
    "output_path = root_path + 'Output'\n",
    "img_list_path = root_path + 'img_list.bin'\n",
    "predictions_path = root_path + 'test_end_output.txt'"
   ]
  },
  {
   "cell_type": "code",
   "execution_count": 3,
   "id": "328eac04",
   "metadata": {},
   "outputs": [],
   "source": [
    "if not os.path.exists(output_path):\n",
    "    os.mkdir(output_path)"
   ]
  },
  {
   "cell_type": "code",
   "execution_count": 4,
   "id": "f60f9890",
   "metadata": {},
   "outputs": [],
   "source": [
    "with open(img_list_path, 'rb') as f:\n",
    "    img_list = pickle.load(f)"
   ]
  },
  {
   "cell_type": "code",
   "execution_count": 5,
   "id": "2d0f93b1",
   "metadata": {},
   "outputs": [],
   "source": [
    "with open(predictions_path, 'r', encoding='utf-8') as pf:\n",
    "    predictions = pf.readlines()"
   ]
  },
  {
   "cell_type": "code",
   "execution_count": 6,
   "id": "2be07bae",
   "metadata": {},
   "outputs": [
    {
     "data": {
      "text/plain": [
       "'10.png'"
      ]
     },
     "execution_count": 6,
     "metadata": {},
     "output_type": "execute_result"
    }
   ],
   "source": [
    "img_list[0]"
   ]
  },
  {
   "cell_type": "code",
   "execution_count": 7,
   "id": "6454da1b",
   "metadata": {},
   "outputs": [
    {
     "name": "stdout",
     "output_type": "stream",
     "text": [
      "finish\n"
     ]
    }
   ],
   "source": [
    "save_cwd = os.getcwd()\n",
    "os.chdir(output_path)\n",
    "for img, pre in zip(img_list, predictions):\n",
    "    with open(img.replace('png','txt') , 'w', encoding='utf-8') as of:\n",
    "        of.write(pre)\n",
    "print('finish')"
   ]
  }
 ],
 "metadata": {
  "kernelspec": {
   "display_name": "Python 3 (ipykernel)",
   "language": "python",
   "name": "python3"
  },
  "language_info": {
   "codemirror_mode": {
    "name": "ipython",
    "version": 3
   },
   "file_extension": ".py",
   "mimetype": "text/x-python",
   "name": "python",
   "nbconvert_exporter": "python",
   "pygments_lexer": "ipython3",
   "version": "3.9.13"
  }
 },
 "nbformat": 4,
 "nbformat_minor": 5
}
