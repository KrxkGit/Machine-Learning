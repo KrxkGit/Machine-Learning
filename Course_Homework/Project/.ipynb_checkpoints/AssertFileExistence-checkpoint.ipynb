{
 "cells": [
  {
   "cell_type": "code",
   "execution_count": 1,
   "id": "bbaba707",
   "metadata": {},
   "outputs": [],
   "source": [
    "import os\n",
    "import pickle"
   ]
  },
  {
   "cell_type": "code",
   "execution_count": 2,
   "id": "c7834bed",
   "metadata": {},
   "outputs": [],
   "source": [
    "root_dir = 'F:/DP-Dataset/dataset-formula/'\n",
    "path_dir = root_dir + 'dev'\n",
    "image_dir = path_dir + 'images'\n",
    "label_dir = path_dir + 'labels'"
   ]
  },
  {
   "cell_type": "code",
   "execution_count": 3,
   "id": "c5ca24e4",
   "metadata": {},
   "outputs": [
    {
     "name": "stdout",
     "output_type": "stream",
     "text": [
      "dev: \n",
      "[]\n",
      "train: \n",
      "[]\n",
      "test: \n",
      "[]\n"
     ]
    }
   ],
   "source": [
    "pat = ['dev', 'train', 'test']\n",
    "for pat_item in pat:\n",
    "    path_dir = root_dir + pat_item\n",
    "    image_dir = path_dir + '/images'\n",
    "    label_dir = path_dir + '/labels'\n",
    "    \n",
    "    fails_list = []\n",
    "\n",
    "    out_file_path = root_dir + root_dir.split('/')[-2].replace('dataset-', '') + '_' + pat_item + '_out'\n",
    "    with open(out_file_path, 'rb') as f:\n",
    "        labels = pickle.load(f)\n",
    "    \n",
    "    image_list = os.listdir(image_dir)\n",
    "    for label in labels['id']:\n",
    "        image_name = label.replace('txt', 'png')\n",
    "        if image_name not in image_list:\n",
    "            fails_list.appendp(image_name)\n",
    "            \n",
    "    print(pat_item + ': ')\n",
    "    print(fails_list)"
   ]
  }
 ],
 "metadata": {
  "kernelspec": {
   "display_name": "Python 3 (ipykernel)",
   "language": "python",
   "name": "python3"
  },
  "language_info": {
   "codemirror_mode": {
    "name": "ipython",
    "version": 3
   },
   "file_extension": ".py",
   "mimetype": "text/x-python",
   "name": "python",
   "nbconvert_exporter": "python",
   "pygments_lexer": "ipython3",
   "version": "3.9.13"
  }
 },
 "nbformat": 4,
 "nbformat_minor": 5
}
