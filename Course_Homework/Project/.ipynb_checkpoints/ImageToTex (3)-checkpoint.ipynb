{
 "cells": [
  {
   "cell_type": "code",
   "execution_count": 1,
   "id": "dd881ce9",
   "metadata": {},
   "outputs": [],
   "source": [
    "from transformers import BertTokenizer,Trainer,TrainingArguments\n",
    "import os\n",
    "os.environ['KMP_DUPLICATE_LIB_OK']='True'\n",
    "from PIL import Image, ImageFile\n",
    "ImageFile.LOAD_TRUNCATED_IMAGES = True\n",
    "import torch\n",
    "from torch import nn\n",
    "import torch.nn.functional as F\n",
    "from torchvision.models.resnet import resnet152, resnet50, resnet18 # 导入 resnet-152\n",
    "import torchvision\n",
    "from torchvision import transforms, datasets\n",
    "import pickle\n",
    "import evaluate\n",
    "import numpy as np\n",
    "import matplotlib.pyplot as plt\n",
    "import math"
   ]
  },
  {
   "cell_type": "code",
   "execution_count": 2,
   "id": "69667db9-7318-44d5-9800-b17b449375a4",
   "metadata": {},
   "outputs": [],
   "source": [
    "# class CNN_K(nn.Module):\n",
    "#     def __init__(self):\n",
    "#         super().__init__()\n",
    "#         padding=2\n",
    "#         self.cnn = nn.Sequential(\n",
    "#             nn.Conv2d(3, 32, kernel_size=5, padding=padding), \n",
    "#             nn.ReLU(),\n",
    "#             nn.MaxPool2d(kernel_size=2, stride=2),\n",
    "#             nn.Conv2d(32, 64, kernel_size=5, padding=padding),\n",
    "#             nn.ReLU(), \n",
    "#             nn.MaxPool2d(kernel_size=2, stride=2),\n",
    "#             nn.Flatten(), \n",
    "#             nn.Linear(9216, 1024), \n",
    "#             nn.ReLU(), \n",
    "#             nn.Dropout(0.25))\n",
    "#         self.fc = nn.Linear(1024, 1000)\n",
    "#     def forward(self, X):\n",
    "#         return self.fc(self.cnn(X))"
   ]
  },
  {
   "cell_type": "code",
   "execution_count": 3,
   "id": "3b8541c8",
   "metadata": {},
   "outputs": [
    {
     "name": "stdout",
     "output_type": "stream",
     "text": [
      "615\n"
     ]
    },
    {
     "name": "stderr",
     "output_type": "stream",
     "text": [
      "/usr/local/miniconda3/lib/python3.8/site-packages/torchvision/models/_utils.py:208: UserWarning: The parameter 'pretrained' is deprecated since 0.13 and may be removed in the future, please use 'weights' instead.\n",
      "  warnings.warn(\n",
      "/usr/local/miniconda3/lib/python3.8/site-packages/torchvision/models/_utils.py:223: UserWarning: Arguments other than a weight enum or `None` for 'weights' are deprecated since 0.13 and may be removed in the future. The current behavior is equivalent to passing `weights=ResNet18_Weights.IMAGENET1K_V1`. You can also use `weights=ResNet18_Weights.DEFAULT` to get the most up-to-date weights.\n",
      "  warnings.warn(msg)\n"
     ]
    }
   ],
   "source": [
    "# tokenizer\n",
    "tokenizer = BertTokenizer('./vocab.txt', do_lower_case=False, do_basic_tokenize=False)\n",
    "vocab_size = tokenizer.vocab_size\n",
    "\n",
    "with open('./vocab-special.txt', encoding='utf-8') as f:\n",
    "    special =  f.readlines()\n",
    "\n",
    "vocab_size = tokenizer.vocab_size\n",
    "for i, item in enumerate(special):\n",
    "    item = item.strip('\\n')\n",
    "    tokenizer.add_tokens(item)\n",
    "    vocab_size += 1\n",
    "print(vocab_size)\n",
    "# encoder\n",
    "# config_encoder = ResNetConfig()\n",
    "k_resnet = resnet18(pretrained=True)\n",
    "model_encoder = nn.Sequential(k_resnet.conv1, k_resnet.bn1, k_resnet.relu, k_resnet.maxpool, k_resnet.layer1, \n",
    "              k_resnet.layer2, k_resnet.layer3, nn.Conv2d(256, 512, 1)) # 512 为 transformer 输入维度，不要使用 fc 层，使用卷积层提取特征\n",
    "# resnet = resnet18(pretrained=True)\n",
    "# modules = list(resnet.children())[:-1] # 删除 fc 层\n",
    "# model_encoder = nn.Sequential(*modules)\n",
    "# model_encoder = CNN_K()\n",
    "# decoder\n",
    "# model_decoder = nn.Transformer(batch_first=True, num_encoder_layers=1, num_decoder_layers=1, dropout=0, norm_first=True)\n",
    "transformer_layer = nn.TransformerDecoderLayer(512, 8)\n",
    "model_decoder = nn.TransformerDecoder(transformer_layer, 1)\n",
    "\n",
    "def ClearSpecialChar(decodings):\n",
    "    return decodings.replace('[CLS]','').replace('[UNK]','').replace('[PAD]','').replace('[SEP]',' ')"
   ]
  },
  {
   "cell_type": "code",
   "execution_count": 4,
   "id": "e1a62eb9",
   "metadata": {},
   "outputs": [
    {
     "name": "stdout",
     "output_type": "stream",
     "text": [
      "tensor([[101, 149, 506, 512, 499, 133, 290, 515, 489, 117, 490, 517, 122, 125,\n",
      "         102],\n",
      "        [101, 149, 506, 512, 499, 133, 290, 515, 489, 117, 490, 517, 122, 125,\n",
      "         102]])\n",
      "torch.Size([2, 15])\n"
     ]
    }
   ],
   "source": [
    "# 测试 tokenizer\n",
    "test_caption = r'Krxk:\\frac{a+b}/2' # 采用原生字符串\n",
    "t = tokenizer.encode(test_caption,return_tensors='pt')\n",
    "t = t.repeat((2, 1))\n",
    "print(t)\n",
    "print(t.shape)"
   ]
  },
  {
   "cell_type": "code",
   "execution_count": 5,
   "id": "9693df8f",
   "metadata": {},
   "outputs": [],
   "source": [
    "# 加载 caption\n",
    "# 纯数学公式\n",
    "save_cwd = os.getcwd()\n",
    "\n",
    "root_dir = '/hy-tmp/dataset-formula/'\n",
    "os.chdir(root_dir)\n",
    "train_dir = root_dir + 'train'\n",
    "val_dir = root_dir + 'dev'\n",
    "\n",
    "out_path_mid = root_dir.split('/')[-2].replace('dataset-', '') + '_'\n",
    "# print(out_path_mid)\n",
    "\n",
    "with open(out_path_mid + 'train_out', 'rb') as f:\n",
    "    train_labels = pickle.load(f)\n",
    "\n",
    "with open(out_path_mid + 'dev_out', 'rb') as f:\n",
    "    val_labels = pickle.load(f)\n",
    "\n",
    "with open(out_path_mid + 'test_out', 'rb') as f:\n",
    "    test_labels = pickle.load(f)\n",
    "\n",
    "os.chdir(save_cwd)"
   ]
  },
  {
   "cell_type": "code",
   "execution_count": 6,
   "id": "588f800f",
   "metadata": {},
   "outputs": [],
   "source": [
    "# 用于整合 Image 与 Caption，构造 Image-Caption 数据集，同时预先对label进行tokenize(tokenize后为二维，压缩0维)\n",
    "max_length = 80\n",
    "class Compose_Dataset(torch.utils.data.dataset.Dataset):\n",
    "    def __init__(self, image_dataset, caption_list, tokenizer):\n",
    "        super().__init__()\n",
    "        self.image_dataset = image_dataset\n",
    "        self.caption_list = caption_list\n",
    "        self.imgs = image_dataset.imgs\n",
    "        self.tokenizer = tokenizer\n",
    "    def __getitem__(self, idx):\n",
    "        index = self.caption_list['id'].index(self.imgs[idx][0].split('/')[-1].replace('png', 'txt'))\n",
    "        label = self.tokenizer(\n",
    "            self.caption_list['label'][index], padding='max_length', truncation=True, max_length=max_length, return_tensors='pt')\n",
    "        return {'X':self.image_dataset[idx][0], 'labels': label['input_ids'].squeeze(), 'attention_mask': torch.tensor(1 - label['attention_mask'].squeeze(), dtype=torch.bool) }\n",
    "    def __len__(self):\n",
    "        return len(self.image_dataset)"
   ]
  },
  {
   "cell_type": "code",
   "execution_count": 7,
   "id": "34c4410c",
   "metadata": {},
   "outputs": [
    {
     "name": "stderr",
     "output_type": "stream",
     "text": [
      "/usr/local/miniconda3/lib/python3.8/site-packages/torchvision/transforms/transforms.py:329: UserWarning: Argument 'interpolation' of type int is deprecated since 0.13 and will be removed in 0.15. Please use InterpolationMode enum.\n",
      "  warnings.warn(\n"
     ]
    }
   ],
   "source": [
    "# 加载数据集\n",
    "# train_dir = '/hy-tmp/dataset-formula/train/images/'\n",
    "train_dir = '/hy-tmp/dataset-formula/small_train/'\n",
    "# val_dir = '/hy-tmp/dataset-formula/dev/images/'\n",
    "val_dir = '/hy-tmp/dataset-formula/small_test/'\n",
    "\n",
    "data_args = transforms.Compose([\n",
    "    transforms.Pad([100, 100]), # 填充\n",
    "    transforms.Resize((200,200), interpolation=Image.Resampling.BICUBIC), # 调整为正方形并统一大小\n",
    "    transforms.ToTensor(),\n",
    "    transforms.Normalize(mean=[0.5, 0.5, 0.5], std=[0.5, 0.5, 0.5])\n",
    "])\n",
    "train_set = datasets.ImageFolder(train_dir, transform=data_args)\n",
    "val_set = datasets.ImageFolder(val_dir, transform=data_args)\n",
    "\n",
    "compose_train_set = Compose_Dataset(train_set, train_labels, tokenizer)\n",
    "compose_val_set = Compose_Dataset(val_set, val_labels, tokenizer)\n",
    "\n",
    "batch_size = 64\n",
    "data_iter = torch.utils.data.DataLoader(compose_train_set, batch_size=batch_size, shuffle=True)"
   ]
  },
  {
   "cell_type": "code",
   "execution_count": 8,
   "id": "1aede667-e75f-4d57-80bd-45b6f62cbf1a",
   "metadata": {},
   "outputs": [
    {
     "name": "stdout",
     "output_type": "stream",
     "text": [
      "[101, 426, 515, 489, 117, 490, 517, 102]\n",
      "615\n"
     ]
    },
    {
     "data": {
      "text/plain": [
       "'[CLS] \\\\sin { a + b } [SEP]'"
      ]
     },
     "execution_count": 8,
     "metadata": {},
     "output_type": "execute_result"
    }
   ],
   "source": [
    "# tokenizer 测试\n",
    "s = tokenizer.encode('\\sin{a+b}')\n",
    "print(s)\n",
    "print(vocab_size)\n",
    "tokenizer.decode((s))"
   ]
  },
  {
   "cell_type": "code",
   "execution_count": 9,
   "id": "fc8163ed",
   "metadata": {},
   "outputs": [
    {
     "name": "stderr",
     "output_type": "stream",
     "text": [
      "/tmp/ipykernel_12723/695400450.py:14: UserWarning: To copy construct from a tensor, it is recommended to use sourceTensor.clone().detach() or sourceTensor.clone().detach().requires_grad_(True), rather than torch.tensor(sourceTensor).\n",
      "  return {'X':self.image_dataset[idx][0], 'labels': label['input_ids'].squeeze(), 'attention_mask': torch.tensor(1 - label['attention_mask'].squeeze(), dtype=torch.bool) }\n"
     ]
    },
    {
     "name": "stdout",
     "output_type": "stream",
     "text": [
      "torch.Size([64, 3, 200, 200])\n",
      "tensor([101, 489, 490, 491, 102,   0,   0,   0,   0,   0,   0,   0,   0,   0,\n",
      "          0,   0,   0,   0,   0,   0,   0,   0,   0,   0,   0,   0,   0,   0,\n",
      "          0,   0,   0,   0,   0,   0,   0,   0,   0,   0,   0,   0,   0,   0,\n",
      "          0,   0,   0,   0,   0,   0,   0,   0,   0,   0,   0,   0,   0,   0,\n",
      "          0,   0,   0,   0,   0,   0,   0,   0,   0,   0,   0,   0,   0,   0,\n",
      "          0,   0,   0,   0,   0,   0,   0,   0,   0,   0])\n",
      " a b c                                                                             \n",
      "tensor([False, False, False, False, False,  True,  True,  True,  True,  True,\n",
      "         True,  True,  True,  True,  True,  True,  True,  True,  True,  True,\n",
      "         True,  True,  True,  True,  True,  True,  True,  True,  True,  True,\n",
      "         True,  True,  True,  True,  True,  True,  True,  True,  True,  True,\n",
      "         True,  True,  True,  True,  True,  True,  True,  True,  True,  True,\n",
      "         True,  True,  True,  True,  True,  True,  True,  True,  True,  True,\n",
      "         True,  True,  True,  True,  True,  True,  True,  True,  True,  True,\n",
      "         True,  True,  True,  True,  True,  True,  True,  True,  True,  True])\n"
     ]
    },
    {
     "data": {
      "image/png": "[encoded data removed]",
      "text/plain": [
       "<Figure size 640x480 with 1 Axes>"
      ]
     },
     "metadata": {},
     "output_type": "display_data"
    }
   ],
   "source": [
    "# 测试数据集\n",
    "for dic in data_iter:\n",
    "    X = dic['X']\n",
    "    label = dic['labels']\n",
    "    attention = dic['attention_mask']\n",
    "    # X 是一个 batch\n",
    "    print(X.shape)\n",
    "    test_id = 0\n",
    "    print(label[test_id])\n",
    "    # print(tokenizer.decode(label[test_id]))\n",
    "    print(ClearSpecialChar(tokenizer.decode(label[test_id])))\n",
    "    print(attention[test_id])\n",
    "    plt.imshow(X[test_id][0]) # 查看 R 通道\n",
    "    break"
   ]
  },
  {
   "cell_type": "code",
   "execution_count": 10,
   "id": "4dd464f3-c7cd-44cb-9fdc-26a22cde063e",
   "metadata": {},
   "outputs": [],
   "source": [
    "class PositionalEncoding(nn.Module):\n",
    "    def __init__(self, dim, dropout, max_len=5000):\n",
    "        super(PositionalEncoding, self).__init__()\n",
    "        if dim % 2 != 0:\n",
    "            raise ValueError(\"Cannot use sin/cos positional encoding with \"\n",
    "                             \"odd dim (got dim={:d})\".format(dim))\n",
    "        \"\"\"\n",
    "        构建位置编码 pe\n",
    "        pe 公式为：\n",
    "        PE(pos,2i/2i+1) = sin/cos(pos/10000^{2i/d_{model}})\n",
    "        \"\"\"\n",
    "        pe = torch.zeros(max_len, dim)  # max_len 是解码器生成句子的最长的长度，假设是 10\n",
    "        position = torch.arange(0, max_len).unsqueeze(1)\n",
    "        div_term = torch.exp((torch.arange(0, dim, 2, dtype=torch.float) *\n",
    "                              -(math.log(10000.0) / dim)))\n",
    "        pe[:, 0::2] = torch.sin(position.float() * div_term)\n",
    "        pe[:, 1::2] = torch.cos(position.float() * div_term)\n",
    "        pe = pe.unsqueeze(1)\n",
    "        self.register_buffer('pe', pe)\n",
    "        self.drop_out = nn.Dropout(p=dropout)\n",
    "        self.dim = dim\n",
    "\n",
    "    def forward(self, emb, step=None):\n",
    "        emb = emb * math.sqrt(self.dim)\n",
    "        if step is None:\n",
    "            emb = emb + self.pe[:emb.size(0)]\n",
    "        else:\n",
    "            emb = emb + self.pe[step]\n",
    "        emb = self.drop_out(emb)\n",
    "        return emb"
   ]
  },
  {
   "cell_type": "code",
   "execution_count": 3,
   "id": "33e47be5",
   "metadata": {},
   "outputs": [
    {
     "data": {
      "text/plain": [
       "TransformerDecoder(\n",
       "  (layers): ModuleList(\n",
       "    (0): TransformerDecoderLayer(\n",
       "      (self_attn): MultiheadAttention(\n",
       "        (out_proj): NonDynamicallyQuantizableLinear(in_features=512, out_features=512, bias=True)\n",
       "      )\n",
       "      (multihead_attn): MultiheadAttention(\n",
       "        (out_proj): NonDynamicallyQuantizableLinear(in_features=512, out_features=512, bias=True)\n",
       "      )\n",
       "      (linear1): Linear(in_features=512, out_features=2048, bias=True)\n",
       "      (dropout): Dropout(p=0.1, inplace=False)\n",
       "      (linear2): Linear(in_features=2048, out_features=512, bias=True)\n",
       "      (norm1): LayerNorm((512,), eps=1e-05, elementwise_affine=True)\n",
       "      (norm2): LayerNorm((512,), eps=1e-05, elementwise_affine=True)\n",
       "      (norm3): LayerNorm((512,), eps=1e-05, elementwise_affine=True)\n",
       "      (dropout1): Dropout(p=0.1, inplace=False)\n",
       "      (dropout2): Dropout(p=0.1, inplace=False)\n",
       "      (dropout3): Dropout(p=0.1, inplace=False)\n",
       "    )\n",
       "  )\n",
       ")"
      ]
     },
     "execution_count": 3,
     "metadata": {},
     "output_type": "execute_result"
    }
   ],
   "source": [
    "transformer_layer = nn.TransformerDecoderLayer(512, 8)\n",
    "s = nn.TransformerDecoder(transformer_layer, 1)\n",
    "s"
   ]
  },
  {
   "cell_type": "code",
   "execution_count": 2,
   "id": "2682db82",
   "metadata": {},
   "outputs": [],
   "source": [
    "# model\n",
    "def Loss(src, tgt):\n",
    "    nTokens = torch.nonzero(tgt==102)[:,1].sum()\n",
    "    # print('loss is called')\n",
    "    # print(src)\n",
    "    # print(tgt)\n",
    "    # src = torch.permute(src, dims=(0, 2, 1)) # 根据官方文档，分类必须在 1 维度\n",
    "    # 展平前两个维度\n",
    "    src = src.contiguous().view(-1, src.shape[-1])\n",
    "    # print(src)\n",
    "    tgt = tgt.contiguous().view(-1)\n",
    "    l = F.cross_entropy(src, tgt) / nTokens\n",
    "    # print('loss', l)\n",
    "    return l\n",
    "\n",
    "class Krxk_model(nn.Module):\n",
    "    def __init__(self, tokenizer, encoder, decoder):\n",
    "        super().__init__()\n",
    "        print('Vocab_size: ', vocab_size)\n",
    "        # self.dev = next(decoder.parameters()).device # 获得 decoder device\n",
    "        self.tokenizer = tokenizer\n",
    "        self.encoder = encoder\n",
    "        self.embed_size = vocab_size\n",
    "        self.transformer_encoder_in_nums = 512\n",
    "        # d_mid = 10\n",
    "        # self.split = nn.Sequential(nn.Linear(self.encoder.fc.out_features, max_length * d_mid), nn.ReLU()) # 用于分割图片特征为序列\n",
    "        # self.fc = nn.Sequential(nn.Linear(d_mid, self.transformer_encoder_in_nums)) # 将 resnet 转化为 全连接\n",
    "        self.embed = nn.Embedding(self.embed_size, self.transformer_encoder_in_nums, padding_idx=self.tokenizer.pad_token_id) # 嵌入为 transformer的in_features维度\n",
    "        # self.bn = nn.BatchNorm1d(self.transformer_encoder_in_nums)\n",
    "        self.decoder = decoder\n",
    "        self.positional_encoding = PositionalEncoding(self.transformer_encoder_in_nums, dropout=0)\n",
    "        self.fc_vocab = nn.Linear(self.transformer_encoder_in_nums, self.embed_size) # transformer 输出映射回词表\n",
    "        \n",
    "        \n",
    "        # 用作临时 caption 测试案例\n",
    "#         test_caption = 'Krxk is a great developer.' \n",
    "#         print(test_caption)\n",
    "#         self.test_caption_tokenized = self.tokenizer.encode(test_caption, return_tensors='pt').repeat(6, 1) # 临时案例中有6张图片\n",
    "#         print(self.test_caption_tokenized.shape)\n",
    "#         print(self.embed(self.test_caption_tokenized).shape)\n",
    "        \n",
    "    def forward(self, X, labels, attention_mask):\n",
    "        encode = self.encoder(X)\n",
    "        # encode_split = self.split(encode)\n",
    "        # encode_split = encode_split.reshape(encode_split.shape[0], max_length, -1)\n",
    "        # print('encode: ',encode.shape)\n",
    "        features = encode.flatten(start_dim=2).permute((0, 2, 1)) # 将图片特征映射为词表特征\n",
    "        # features = self.bn(features)\n",
    "\n",
    "        # print(features) # 测试 Encoder 是否合理\n",
    "        \n",
    "        # 此处将 embeddings 与 resnet 提取的特征进行concat 输入 transformer\n",
    "#         embeddings = torch.concat((embeddings, embeddings), dim=1)\n",
    "        embeddings = self.embed(labels)\n",
    "        # print('embeddings\\n', embeddings)\n",
    "        # f = features.unsqueeze(1)\n",
    "#         print(embeddings.shape, f.shape)\n",
    "        # embeddings_attach = torch.concat((embeddings, features.unsqueeze(1)), dim=1)\n",
    "        # embeddings_attach = features.unsqueeze(1)\n",
    "        embeddings_attach = features\n",
    "        # print(embeddings_attach)\n",
    "        # print('features: ',features.shape)\n",
    "        # print('features\\n', embeddings_attach)\n",
    "\n",
    "        # decode 需要输入 src 与 tgt，分别用作 Transformer 编码器与解码器（输入正确的caption）的输入\n",
    "        dev = next(self.decoder.parameters()).device # 获得 decoder device\n",
    "        tgt_mask = nn.Transformer.generate_square_subsequent_mask(max_length, device=dev)\n",
    "        \n",
    "        embeddings_attach = self.positional_encoding(embeddings_attach)\n",
    "        embeddings = self.positional_encoding(embeddings)\n",
    "        # print(attention_mask.shape, tgt_mask.shape)\n",
    "\n",
    "        embeddings_attach = torch.permute(embeddings_attach, (1, 0, 2))\n",
    "        embeddings = torch.permute(embeddings, (1, 0, 2))\n",
    "        attention_mask = None # 暂时去掉\n",
    "        decode = self.decoder(embeddings, embeddings_attach, tgt_key_padding_mask=attention_mask, tgt_mask=tgt_mask)\n",
    "\n",
    "        decode = torch.permute(decode, (1, 0, 2))\n",
    "        decode_ids = self.fc_vocab(decode)\n",
    "        \n",
    "        return Loss(decode_ids, labels),decode # 损失放在第一返回位置\n",
    "    def predictor(self, out):\n",
    "        return self.fc_vocab(out)"
   ]
  },
  {
   "cell_type": "code",
   "execution_count": 12,
   "id": "000b112e",
   "metadata": {},
   "outputs": [
    {
     "name": "stdout",
     "output_type": "stream",
     "text": [
      "Vocab_size:  615\n"
     ]
    }
   ],
   "source": [
    "# 定义 model\n",
    "model = Krxk_model(tokenizer ,model_encoder, model_decoder)"
   ]
  },
  {
   "cell_type": "code",
   "execution_count": 13,
   "id": "2db612ad",
   "metadata": {},
   "outputs": [],
   "source": [
    "# 加载 model 保存的参数\n",
    "res_path = '/hy-tmp/Params/'\n",
    "Model_path = res_path + 'Model.bin'\n",
    "\n",
    "if os.path.exists(Model_path):\n",
    "    # tokenizer.from_pretrained(res_path)\n",
    "    model.load_state_dict(torch.load(Model_path))\n",
    "    # model = torch.load(Model_path)\n",
    "    # model.encoder.from_pretrained(res_path)"
   ]
  },
  {
   "cell_type": "code",
   "execution_count": 14,
   "id": "32d0d4d4",
   "metadata": {},
   "outputs": [
    {
     "name": "stderr",
     "output_type": "stream",
     "text": [
      "/tmp/ipykernel_12723/695400450.py:14: UserWarning: To copy construct from a tensor, it is recommended to use sourceTensor.clone().detach() or sourceTensor.clone().detach().requires_grad_(True), rather than torch.tensor(sourceTensor).\n",
      "  return {'X':self.image_dataset[idx][0], 'labels': label['input_ids'].squeeze(), 'attention_mask': torch.tensor(1 - label['attention_mask'].squeeze(), dtype=torch.bool) }\n"
     ]
    },
    {
     "name": "stdout",
     "output_type": "stream",
     "text": [
      "torch.Size([64, 3, 200, 200])\n",
      "torch.Size([64, 80])\n",
      "tensor([[False, False, False,  ...,  True,  True,  True],\n",
      "        [False, False, False,  ...,  True,  True,  True],\n",
      "        [False, False, False,  ...,  True,  True,  True],\n",
      "        ...,\n",
      "        [False, False, False,  ...,  True,  True,  True],\n",
      "        [False, False, False,  ...,  True,  True,  True],\n",
      "        [False, False, False,  ...,  True,  True,  True]])\n",
      "tensor(0.0011, grad_fn=<DivBackward0>) torch.Size([64, 80, 512])\n"
     ]
    }
   ],
   "source": [
    "# 模型测试\n",
    "model.eval() # 评估模式\n",
    "for dic in data_iter:\n",
    "    X = dic['X']\n",
    "    label = dic['labels']\n",
    "    attention_mask = dic['attention_mask']\n",
    "    print(X.shape)\n",
    "    print(label.shape)\n",
    "    print(attention_mask)\n",
    "    l, generated_ids = model.forward(X, label, attention_mask)\n",
    "    print(l, generated_ids.shape)\n",
    "    break"
   ]
  },
  {
   "cell_type": "code",
   "execution_count": 15,
   "id": "4cbd16e0",
   "metadata": {},
   "outputs": [],
   "source": [
    "# 计算 metric\n",
    "# import evaluate.metrics.bleu.bleu\n",
    "# from bleu import Bleu\n",
    "\n",
    "evaluate_path = '/hy-tmp/evaluate/metrics/'\n",
    "bleu_path = evaluate_path + 'glue/glue.py'\n",
    "wer_path = evaluate_path + 'wer/wer.py'\n",
    "accuracy_path = evaluate_path + 'accuracy/accuracy.py'\n",
    "\n",
    "# bleu = evaluate.load(bleu_path, 'mrpc') # 采用 glue 替代\n",
    "wer = evaluate.load(wer_path)\n",
    "accuracy = evaluate.load(accuracy_path)\n",
    "\n",
    "\n",
    "def compute_metrics(eval_pred):\n",
    "    predictions, label_ids = eval_pred\n",
    "    predictions = np.argmax(predictions, axis=2)\n",
    "    items_num = len(predictions)\n",
    "    total_accuracy = 0.0\n",
    "    total_bleu = 0.0\n",
    "    total_wer = 0.0\n",
    "    total_summary = 0.0\n",
    "    \n",
    "    \n",
    "    for i in range(items_num):\n",
    "        params_accuracy = {'predictions':predictions[i], 'references':label_ids[i]}\n",
    "        total_accuracy += accuracy.compute(**params_accuracy)['accuracy']\n",
    "        \n",
    "        de_prediction = tokenizer.decode(predictions[i])\n",
    "        de_label = tokenizer.decode(label_ids[i])\n",
    "        # 截断为共同长度\n",
    "        spec_len = min(len(de_prediction), len(de_label))\n",
    "        de_prediction = de_prediction[:spec_len]\n",
    "        de_label = de_label[:spec_len]\n",
    "#         print('de_predition',len(de_prediction))\n",
    "#         print('de_label',len(de_label))\n",
    "        \n",
    "        params_bleu = {'predictions':de_prediction, 'references':de_label}\n",
    "        params_wer = {'predictions':[de_prediction], 'references':[de_label]}\n",
    "        \n",
    "        # total_bleu += bleu.compute(**params_bleu)['bleu']\n",
    "        # total_bleu += bleu.compute(**params_bleu)\n",
    "        total_wer += wer.compute(**params_wer)\n",
    "    \n",
    "    total_summary = (total_accuracy + total_bleu + total_wer) / 2\n",
    "    return {'wer' : total_wer / items_num ,\n",
    "            'accuracy' : total_accuracy / items_num , 'summary' : total_summary / items_num}"
   ]
  },
  {
   "cell_type": "code",
   "execution_count": 16,
   "id": "010f5749",
   "metadata": {},
   "outputs": [
    {
     "name": "stderr",
     "output_type": "stream",
     "text": [
      "Detected kernel version 5.4.0, which is below the recommended minimum of 5.5.0; this can cause the process to hang. It is recommended to upgrade the kernel to the minimum version or higher.\n"
     ]
    }
   ],
   "source": [
    "# 训练参数\n",
    "model.train()\n",
    "training_args = TrainingArguments('/hy-tmp/output',evaluation_strategy='epoch',save_strategy='epoch', learning_rate=5e-2, \n",
    "                                    load_best_model_at_end=False, per_device_train_batch_size=32, num_train_epochs=15)\n",
    "trainer = Trainer(model, args=training_args, train_dataset=compose_train_set, eval_dataset=compose_val_set, \n",
    "                  compute_metrics=None)"
   ]
  },
  {
   "cell_type": "code",
   "execution_count": 17,
   "id": "b82b8371",
   "metadata": {},
   "outputs": [
    {
     "name": "stderr",
     "output_type": "stream",
     "text": [
      "/tmp/ipykernel_12723/695400450.py:14: UserWarning: To copy construct from a tensor, it is recommended to use sourceTensor.clone().detach() or sourceTensor.clone().detach().requires_grad_(True), rather than torch.tensor(sourceTensor).\n",
      "  return {'X':self.image_dataset[idx][0], 'labels': label['input_ids'].squeeze(), 'attention_mask': torch.tensor(1 - label['attention_mask'].squeeze(), dtype=torch.bool) }\n"
     ]
    },
    {
     "data": {
      "text/html": [
       "\n",
       "    <div>\n",
       "      \n",
       "      <progress value='45' max='45' style='width:300px; height:20px; vertical-align: middle;'></progress>\n",
       "      [45/45 00:14, Epoch 15/15]\n",
       "    </div>\n",
       "    <table border=\"1\" class=\"dataframe\">\n",
       "  <thead>\n",
       " <tr style=\"text-align: left;\">\n",
       "      <th>Epoch</th>\n",
       "      <th>Training Loss</th>\n",
       "      <th>Validation Loss</th>\n",
       "    </tr>\n",
       "  </thead>\n",
       "  <tbody>\n",
       "    <tr>\n",
       "      <td>1</td>\n",
       "      <td>No log</td>\n",
       "      <td>0.020072</td>\n",
       "    </tr>\n",
       "    <tr>\n",
       "      <td>2</td>\n",
       "      <td>No log</td>\n",
       "      <td>0.025274</td>\n",
       "    </tr>\n",
       "    <tr>\n",
       "      <td>3</td>\n",
       "      <td>No log</td>\n",
       "      <td>0.029305</td>\n",
       "    </tr>\n",
       "    <tr>\n",
       "      <td>4</td>\n",
       "      <td>No log</td>\n",
       "      <td>0.022011</td>\n",
       "    </tr>\n",
       "    <tr>\n",
       "      <td>5</td>\n",
       "      <td>No log</td>\n",
       "      <td>0.023776</td>\n",
       "    </tr>\n",
       "    <tr>\n",
       "      <td>6</td>\n",
       "      <td>No log</td>\n",
       "      <td>0.021656</td>\n",
       "    </tr>\n",
       "    <tr>\n",
       "      <td>7</td>\n",
       "      <td>No log</td>\n",
       "      <td>0.022161</td>\n",
       "    </tr>\n",
       "    <tr>\n",
       "      <td>8</td>\n",
       "      <td>No log</td>\n",
       "      <td>0.022152</td>\n",
       "    </tr>\n",
       "    <tr>\n",
       "      <td>9</td>\n",
       "      <td>No log</td>\n",
       "      <td>0.021610</td>\n",
       "    </tr>\n",
       "    <tr>\n",
       "      <td>10</td>\n",
       "      <td>No log</td>\n",
       "      <td>0.021102</td>\n",
       "    </tr>\n",
       "    <tr>\n",
       "      <td>11</td>\n",
       "      <td>No log</td>\n",
       "      <td>0.021066</td>\n",
       "    </tr>\n",
       "    <tr>\n",
       "      <td>12</td>\n",
       "      <td>No log</td>\n",
       "      <td>0.020902</td>\n",
       "    </tr>\n",
       "    <tr>\n",
       "      <td>13</td>\n",
       "      <td>No log</td>\n",
       "      <td>0.020674</td>\n",
       "    </tr>\n",
       "    <tr>\n",
       "      <td>14</td>\n",
       "      <td>No log</td>\n",
       "      <td>0.020724</td>\n",
       "    </tr>\n",
       "    <tr>\n",
       "      <td>15</td>\n",
       "      <td>No log</td>\n",
       "      <td>0.020565</td>\n",
       "    </tr>\n",
       "  </tbody>\n",
       "</table><p>"
      ],
      "text/plain": [
       "<IPython.core.display.HTML object>"
      ]
     },
     "metadata": {},
     "output_type": "display_data"
    },
    {
     "name": "stderr",
     "output_type": "stream",
     "text": [
      "/tmp/ipykernel_12723/695400450.py:14: UserWarning: To copy construct from a tensor, it is recommended to use sourceTensor.clone().detach() or sourceTensor.clone().detach().requires_grad_(True), rather than torch.tensor(sourceTensor).\n",
      "  return {'X':self.image_dataset[idx][0], 'labels': label['input_ids'].squeeze(), 'attention_mask': torch.tensor(1 - label['attention_mask'].squeeze(), dtype=torch.bool) }\n",
      "/tmp/ipykernel_12723/695400450.py:14: UserWarning: To copy construct from a tensor, it is recommended to use sourceTensor.clone().detach() or sourceTensor.clone().detach().requires_grad_(True), rather than torch.tensor(sourceTensor).\n",
      "  return {'X':self.image_dataset[idx][0], 'labels': label['input_ids'].squeeze(), 'attention_mask': torch.tensor(1 - label['attention_mask'].squeeze(), dtype=torch.bool) }\n",
      "/tmp/ipykernel_12723/695400450.py:14: UserWarning: To copy construct from a tensor, it is recommended to use sourceTensor.clone().detach() or sourceTensor.clone().detach().requires_grad_(True), rather than torch.tensor(sourceTensor).\n",
      "  return {'X':self.image_dataset[idx][0], 'labels': label['input_ids'].squeeze(), 'attention_mask': torch.tensor(1 - label['attention_mask'].squeeze(), dtype=torch.bool) }\n",
      "/tmp/ipykernel_12723/695400450.py:14: UserWarning: To copy construct from a tensor, it is recommended to use sourceTensor.clone().detach() or sourceTensor.clone().detach().requires_grad_(True), rather than torch.tensor(sourceTensor).\n",
      "  return {'X':self.image_dataset[idx][0], 'labels': label['input_ids'].squeeze(), 'attention_mask': torch.tensor(1 - label['attention_mask'].squeeze(), dtype=torch.bool) }\n",
      "/tmp/ipykernel_12723/695400450.py:14: UserWarning: To copy construct from a tensor, it is recommended to use sourceTensor.clone().detach() or sourceTensor.clone().detach().requires_grad_(True), rather than torch.tensor(sourceTensor).\n",
      "  return {'X':self.image_dataset[idx][0], 'labels': label['input_ids'].squeeze(), 'attention_mask': torch.tensor(1 - label['attention_mask'].squeeze(), dtype=torch.bool) }\n",
      "/tmp/ipykernel_12723/695400450.py:14: UserWarning: To copy construct from a tensor, it is recommended to use sourceTensor.clone().detach() or sourceTensor.clone().detach().requires_grad_(True), rather than torch.tensor(sourceTensor).\n",
      "  return {'X':self.image_dataset[idx][0], 'labels': label['input_ids'].squeeze(), 'attention_mask': torch.tensor(1 - label['attention_mask'].squeeze(), dtype=torch.bool) }\n",
      "/tmp/ipykernel_12723/695400450.py:14: UserWarning: To copy construct from a tensor, it is recommended to use sourceTensor.clone().detach() or sourceTensor.clone().detach().requires_grad_(True), rather than torch.tensor(sourceTensor).\n",
      "  return {'X':self.image_dataset[idx][0], 'labels': label['input_ids'].squeeze(), 'attention_mask': torch.tensor(1 - label['attention_mask'].squeeze(), dtype=torch.bool) }\n",
      "/tmp/ipykernel_12723/695400450.py:14: UserWarning: To copy construct from a tensor, it is recommended to use sourceTensor.clone().detach() or sourceTensor.clone().detach().requires_grad_(True), rather than torch.tensor(sourceTensor).\n",
      "  return {'X':self.image_dataset[idx][0], 'labels': label['input_ids'].squeeze(), 'attention_mask': torch.tensor(1 - label['attention_mask'].squeeze(), dtype=torch.bool) }\n",
      "/tmp/ipykernel_12723/695400450.py:14: UserWarning: To copy construct from a tensor, it is recommended to use sourceTensor.clone().detach() or sourceTensor.clone().detach().requires_grad_(True), rather than torch.tensor(sourceTensor).\n",
      "  return {'X':self.image_dataset[idx][0], 'labels': label['input_ids'].squeeze(), 'attention_mask': torch.tensor(1 - label['attention_mask'].squeeze(), dtype=torch.bool) }\n",
      "/tmp/ipykernel_12723/695400450.py:14: UserWarning: To copy construct from a tensor, it is recommended to use sourceTensor.clone().detach() or sourceTensor.clone().detach().requires_grad_(True), rather than torch.tensor(sourceTensor).\n",
      "  return {'X':self.image_dataset[idx][0], 'labels': label['input_ids'].squeeze(), 'attention_mask': torch.tensor(1 - label['attention_mask'].squeeze(), dtype=torch.bool) }\n",
      "/tmp/ipykernel_12723/695400450.py:14: UserWarning: To copy construct from a tensor, it is recommended to use sourceTensor.clone().detach() or sourceTensor.clone().detach().requires_grad_(True), rather than torch.tensor(sourceTensor).\n",
      "  return {'X':self.image_dataset[idx][0], 'labels': label['input_ids'].squeeze(), 'attention_mask': torch.tensor(1 - label['attention_mask'].squeeze(), dtype=torch.bool) }\n",
      "/tmp/ipykernel_12723/695400450.py:14: UserWarning: To copy construct from a tensor, it is recommended to use sourceTensor.clone().detach() or sourceTensor.clone().detach().requires_grad_(True), rather than torch.tensor(sourceTensor).\n",
      "  return {'X':self.image_dataset[idx][0], 'labels': label['input_ids'].squeeze(), 'attention_mask': torch.tensor(1 - label['attention_mask'].squeeze(), dtype=torch.bool) }\n",
      "/tmp/ipykernel_12723/695400450.py:14: UserWarning: To copy construct from a tensor, it is recommended to use sourceTensor.clone().detach() or sourceTensor.clone().detach().requires_grad_(True), rather than torch.tensor(sourceTensor).\n",
      "  return {'X':self.image_dataset[idx][0], 'labels': label['input_ids'].squeeze(), 'attention_mask': torch.tensor(1 - label['attention_mask'].squeeze(), dtype=torch.bool) }\n",
      "/tmp/ipykernel_12723/695400450.py:14: UserWarning: To copy construct from a tensor, it is recommended to use sourceTensor.clone().detach() or sourceTensor.clone().detach().requires_grad_(True), rather than torch.tensor(sourceTensor).\n",
      "  return {'X':self.image_dataset[idx][0], 'labels': label['input_ids'].squeeze(), 'attention_mask': torch.tensor(1 - label['attention_mask'].squeeze(), dtype=torch.bool) }\n"
     ]
    },
    {
     "name": "stdout",
     "output_type": "stream",
     "text": [
      "CPU times: user 2min 59s, sys: 4.33 s, total: 3min 3s\n",
      "Wall time: 20.2 s\n"
     ]
    },
    {
     "data": {
      "text/plain": [
       "TrainOutput(global_step=45, training_loss=0.00424988137351142, metrics={'train_runtime': 19.8762, 'train_samples_per_second': 57.355, 'train_steps_per_second': 2.264, 'total_flos': 0.0, 'train_loss': 0.00424988137351142, 'epoch': 15.0})"
      ]
     },
     "execution_count": 17,
     "metadata": {},
     "output_type": "execute_result"
    }
   ],
   "source": [
    "%%time\n",
    "# 训练\n",
    "trainer.train(resume_from_checkpoint=False)"
   ]
  },
  {
   "cell_type": "code",
   "execution_count": 18,
   "id": "761f1798",
   "metadata": {},
   "outputs": [],
   "source": [
    "# # 预测代码测试\n",
    "# eval_pred =  trainer.predict(test_dataset=compose_train_set)\n",
    "# predictions = eval_pred.predictions\n",
    "# for i, item in enumerate(predictions):\n",
    "#     item_like = np.random.randn(*item.shape) # 随机对照\n",
    "#     decodings = tokenizer.decode(np.argmax(item, axis=-1))\n",
    "#     decodings_like = tokenizer.decode(np.argmax(item_like, axis=-1))\n",
    "#     print(f'{i} Gen: ', decodings)\n",
    "#     print(f'{i} Rand: ', decodings_like)\n",
    "#     break"
   ]
  },
  {
   "cell_type": "code",
   "execution_count": 19,
   "id": "ba255440",
   "metadata": {},
   "outputs": [],
   "source": [
    "# 保存模型\n",
    "tokenizer.save_pretrained(res_path)\n",
    "torch.save(model.state_dict(), Model_path)\n",
    "# torch.save(model, Model_path)\n",
    "# model.encoder.save_pretrained(res_path)"
   ]
  },
  {
   "cell_type": "code",
   "execution_count": 20,
   "id": "1377a9a7",
   "metadata": {},
   "outputs": [
    {
     "name": "stdout",
     "output_type": "stream",
     "text": [
      "('/hy-tmp/dataset-formula/test/images/0/10000.png', 0)\n"
     ]
    }
   ],
   "source": [
    "# 进行最终预测\n",
    "\n",
    "test_pic = '/hy-tmp/dataset-formula/test/images'\n",
    "# test_pic = '/hy-tmp/dataset-formula/small_train/'\n",
    "# id_file_path = 'E:\\DP-Krxk\\dataset-formula\\test\\images'\n",
    "test_end_set = datasets.ImageFolder(test_pic, transform=data_args)\n",
    "\n",
    "# 观察路径形式，若不符合，需要修改img_seq加载代码\n",
    "print(test_end_set.imgs[0])"
   ]
  },
  {
   "cell_type": "code",
   "execution_count": 21,
   "id": "a1986528-aaa7-44c8-8787-307abf6bb19f",
   "metadata": {},
   "outputs": [
    {
     "name": "stdout",
     "output_type": "stream",
     "text": [
      "tensor([[101, 124, 124, 124, 124, 124, 124, 124, 124, 124, 124, 124, 124, 124,\n",
      "         124, 124, 124, 124, 124, 124, 124, 124, 124, 124, 124, 124, 124, 124,\n",
      "         124, 124, 124, 124, 124, 124, 124, 124, 124, 124, 124, 124, 124, 124,\n",
      "         124, 124, 124, 124, 124, 124, 124, 124, 124, 124, 124, 124, 124, 124,\n",
      "         124, 124, 124, 124, 124, 124, 124, 124, 124, 124, 124, 124, 124, 124,\n",
      "         124, 124, 124, 124, 124, 124, 124, 124, 124, 124]], device='cuda:0')\n",
      "LateX: 1 1 1 1 1 1 1 1 1 1 1 1 1 1 1 1 1 1 1 1 1 1 1 1 1 1 1 1 1 1 1 1 1 1 1 1 1 1 1 1 1 1 1 1 1 1 1 1 1 1 1 1 1 1 1 1 1 1 1 1 1 1 1 1 1 1 1 1 1 1 1 1 1 1 1 1 1 1 1\n",
      "\n"
     ]
    },
    {
     "data": {
      "image/png": "[encoded data removed]",
      "text/plain": [
       "<Figure size 640x480 with 1 Axes>"
      ]
     },
     "metadata": {},
     "output_type": "display_data"
    }
   ],
   "source": [
    "# 预测测试\n",
    "# model.eval()\n",
    "device = 'cuda'\n",
    "# model.to(device)\n",
    "test_end_iter = torch.utils.data.DataLoader(test_end_set, batch_size=batch_size, shuffle=False)\n",
    "\n",
    "def Predict(model, X):\n",
    "    attention_mask = torch.ones((X.shape[0],80),dtype=torch.bool, device=device)\n",
    "    tgt = torch.zeros((X.shape[0], 80),dtype=torch.int64, device=device)\n",
    "    tgt[0][0] = 101 # [CLS] 开头\n",
    "    for i in range(max_length):\n",
    "        if i + 1 >= max_length:\n",
    "            break\n",
    "        attention_mask[0][i] = False\n",
    "        # print(attention_mask)\n",
    "        # tgt = torch.ones((X.shape[0], 1),dtype=torch.int64, device=device) * 101 # [CLS] 开头\n",
    "        # attention_mask = None\n",
    "        # print(tgt)\n",
    "        _, pre_end = model(X, tgt, attention_mask)\n",
    "        # print(pre_end[:,-1])\n",
    "        out = model.predictor(pre_end[:-1]) # 只看最后一个词\n",
    "        # print(out)\n",
    "        out = pre_end[:,-1]\n",
    "        # print(out)\n",
    "        content = torch.argmax(out, dim=1)\n",
    "        # print(content)\n",
    "        s = torch.argmax(out, dim=1)\n",
    "        # print(s)\n",
    "        tgt[0][i + 1] = s\n",
    "        # print(tgt)\n",
    "        if s == 102: # 结束符\n",
    "            break\n",
    "    print(tgt)\n",
    "    decodings = ClearSpecialChar(tokenizer.decode(tgt[0]))\n",
    "    print('LateX:' + decodings + '\\n')\n",
    "        \n",
    "with torch.no_grad():\n",
    "    for X, _  in test_end_iter:\n",
    "        plt.imshow(X[4][1])\n",
    "        X = X.to(device)\n",
    "        X = X[0].unsqueeze(0) #预测第一个\n",
    "        Predict(model, X)\n",
    "        break"
   ]
  },
  {
   "cell_type": "code",
   "execution_count": 22,
   "id": "2f88785e",
   "metadata": {},
   "outputs": [
    {
     "name": "stdout",
     "output_type": "stream",
     "text": [
      "Finish\n"
     ]
    }
   ],
   "source": [
    "img_seq = []\n",
    "for item in test_end_set.imgs:\n",
    "    name = item[0]\n",
    "    name = name.split('/')[-1]\n",
    "    img_seq.append(name)\n",
    "    \n",
    "tgt = torch.zeros((batch_size, 80),dtype=torch.int64)\n",
    "\n",
    "out_atttach_path = '/hy-tmp/out_attach'\n",
    "if not os.path.exists(out_atttach_path):\n",
    "    os.mkdir(out_atttach_path)\n",
    "\n",
    "with open('/hy-tmp/out_attach/img_list.bin', 'wb') as f_img_list:\n",
    "    pickle.dump(img_seq, f_img_list) # 保存图片加载顺序\n",
    "    \n",
    "with open('/hy-tmp/out_attach/test_end_output.txt', 'w', encoding='utf-8') as f_test_out:\n",
    "    with torch.no_grad():\n",
    "        for X, _ in test_end_iter:\n",
    "            X = X.to(device)\n",
    "            attention_mask = torch.ones((X.shape[0],80), device=device, dtype=torch.bool)\n",
    "            tgt = torch.ones((X.shape[0], 80),dtype=torch.int64, device=device) * 101 # [CLS] 开头\n",
    "#             print(X.shape, tgt.shape)\n",
    "            _, pre_end = model(X, tgt, attention_mask)\n",
    "#             print(pre_end)\n",
    "            for item in pre_end:\n",
    "                decodings = tokenizer.decode(np.argmax(item.cpu(), axis=-1))\n",
    "                f_test_out.write('Gen:' + ClearSpecialChar(decodings) + '\\n')\n",
    "print('Finish')"
   ]
  }
 ],
 "metadata": {
  "kernelspec": {
   "display_name": "Python 3 (ipykernel)",
   "language": "python",
   "name": "python3"
  },
  "language_info": {
   "codemirror_mode": {
    "name": "ipython",
    "version": 3
   },
   "file_extension": ".py",
   "mimetype": "text/x-python",
   "name": "python",
   "nbconvert_exporter": "python",
   "pygments_lexer": "ipython3",
   "version": "3.9.13"
  }
 },
 "nbformat": 4,
 "nbformat_minor": 5
}
