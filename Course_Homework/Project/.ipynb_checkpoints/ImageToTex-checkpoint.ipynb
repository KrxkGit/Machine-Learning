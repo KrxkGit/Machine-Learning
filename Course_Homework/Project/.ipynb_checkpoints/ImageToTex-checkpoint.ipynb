{
 "cells": [
  {
   "cell_type": "code",
   "execution_count": 1,
   "id": "6b7959a3",
   "metadata": {},
   "outputs": [],
   "source": [
    "from transformers import ResNetConfig,ResNetModel,BertTokenizer,Trainer,TrainingArguments\n",
    "import os\n",
    "os.environ['KMP_DUPLICATE_LIB_OK']='True'\n",
    "from PIL import Image, ImageFile\n",
    "ImageFile.LOAD_TRUNCATED_IMAGES = True\n",
    "import torch\n",
    "from torch import nn\n",
    "import torch.nn.functional as F\n",
    "import torchvision\n",
    "from torchvision import transforms, datasets\n",
    "import pickle\n",
    "import evaluate\n",
    "import numpy as np\n",
    "import matplotlib.pyplot as plt"
   ]
  },
  {
   "cell_type": "code",
   "execution_count": 2,
   "id": "f52a37f5",
   "metadata": {},
   "outputs": [],
   "source": [
    "# tokenizer\n",
    "tokenizer = BertTokenizer('./vocab.txt')\n",
    "vocab_size = tokenizer.vocab_size\n",
    "# encoder\n",
    "config_encoder = ResNetConfig()\n",
    "model_encoder = ResNetModel(config=config_encoder)\n",
    "# decoder\n",
    "model_decoder = nn.Transformer(batch_first=True)\n",
    "\n",
    "def ClearSpecialChar(decodings):\n",
    "    return ''.replace('[CLS]','').replace('[UNK]','').replace('[PAD]','').replace('[SEP]',' ')"
   ]
  },
  {
   "cell_type": "code",
   "execution_count": 3,
   "id": "26b3d525",
   "metadata": {},
   "outputs": [
    {
     "name": "stdout",
     "output_type": "stream",
     "text": [
      "tensor([[101, 100, 133, 166, 100, 515, 489, 117, 490, 517, 122, 125, 102],\n",
      "        [101, 100, 133, 166, 100, 515, 489, 117, 490, 517, 122, 125, 102]])\n",
      "torch.Size([2, 13])\n"
     ]
    }
   ],
   "source": [
    "# 测试 tokenizer\n",
    "test_caption = r'Krxk:\\frac{a+b}/2' # 采用原生字符串\n",
    "t = tokenizer.encode(test_caption,return_tensors='pt')\n",
    "t = t.repeat((2, 1))\n",
    "print(t)\n",
    "print(t.shape)"
   ]
  },
  {
   "cell_type": "code",
   "execution_count": 4,
   "id": "f3255465",
   "metadata": {},
   "outputs": [],
   "source": [
    "# 加载 caption\n",
    "# 纯数学公式\n",
    "save_cwd = os.getcwd()\n",
    "\n",
    "root_dir = 'F:/DP-Dataset/dataset-formula/'\n",
    "os.chdir(root_dir)\n",
    "train_dir = root_dir + 'train'\n",
    "val_dir = root_dir + 'dev'\n",
    "\n",
    "out_path_mid = root_dir.split('/')[-2].replace('dataset-', '') + '_'\n",
    "\n",
    "with open(out_path_mid + 'train_out', 'rb') as f:\n",
    "    train_labels = pickle.load(f)\n",
    "\n",
    "with open(out_path_mid + 'dev_out', 'rb') as f:\n",
    "    val_labels = pickle.load(f)\n",
    "\n",
    "with open(out_path_mid + 'test_out', 'rb') as f:\n",
    "    test_labels = pickle.load(f)\n",
    "\n",
    "os.chdir(save_cwd)"
   ]
  },
  {
   "cell_type": "code",
   "execution_count": 5,
   "id": "97f13734",
   "metadata": {},
   "outputs": [],
   "source": [
    "# 用于整合 Image 与 Caption，构造 Image-Caption 数据集，同时预先对label进行tokenize(tokenize后为二维，压缩0维)\n",
    "max_length = 80\n",
    "class Compose_Dataset(torch.utils.data.dataset.Dataset):\n",
    "    def __init__(self, image_dataset, caption_list, tokenizer):\n",
    "        super().__init__()\n",
    "        self.image_dataset = image_dataset\n",
    "        self.caption_list = caption_list\n",
    "        self.imgs = image_dataset.imgs\n",
    "        self.tokenizer = tokenizer\n",
    "    def __getitem__(self, idx):\n",
    "        index = self.caption_list['id'].index(self.imgs[idx][0].split('\\\\')[-1].replace('png', 'txt'))\n",
    "        return {'X':self.image_dataset[idx][0], 'labels':self.tokenizer.encode(\n",
    "            self.caption_list['label'][index], padding='max_length', truncation=True, max_length=max_length, return_tensors='pt').squeeze()}\n",
    "    def __len__(self):\n",
    "        return len(self.image_dataset)"
   ]
  },
  {
   "cell_type": "code",
   "execution_count": 6,
   "id": "21c1cc65",
   "metadata": {},
   "outputs": [
    {
     "name": "stderr",
     "output_type": "stream",
     "text": [
      "C:\\Users\\12469\\anaconda3\\lib\\site-packages\\torchvision\\transforms\\transforms.py:329: UserWarning: Argument 'interpolation' of type int is deprecated since 0.13 and will be removed in 0.15. Please use InterpolationMode enum.\n",
      "  warnings.warn(\n"
     ]
    }
   ],
   "source": [
    "# 加载数据集\n",
    "train_dir = 'F:/DP-Dataset/s'\n",
    "val_dir = 'F:/DP-Dataset/test/'\n",
    "data_args = transforms.Compose([\n",
    "    transforms.Pad([200, 200]), # 填充\n",
    "    transforms.Resize((200,200), interpolation=Image.Resampling.BICUBIC), # 调整为正方形并统一大小\n",
    "    transforms.ToTensor()\n",
    "])\n",
    "train_set = datasets.ImageFolder(train_dir, transform=data_args)\n",
    "val_set = datasets.ImageFolder(val_dir, transform=data_args)\n",
    "\n",
    "compose_train_set = Compose_Dataset(train_set, train_labels, tokenizer)\n",
    "compose_val_set = Compose_Dataset(val_set, val_labels, tokenizer)\n",
    "\n",
    "batch_size = 32\n",
    "data_iter = torch.utils.data.DataLoader(compose_train_set, batch_size=batch_size, shuffle=True)"
   ]
  },
  {
   "cell_type": "code",
   "execution_count": 7,
   "id": "252c295d",
   "metadata": {},
   "outputs": [
    {
     "name": "stdout",
     "output_type": "stream",
     "text": [
      "torch.Size([4, 3, 200, 200])\n",
      "tensor([101, 166, 100, 166, 515, 489, 487, 515, 502, 517, 166, 100, 166, 517,\n",
      "        102,   0,   0,   0,   0,   0,   0,   0,   0,   0,   0,   0,   0,   0,\n",
      "          0,   0,   0,   0,   0,   0,   0,   0,   0,   0,   0,   0,   0,   0,\n",
      "          0,   0,   0,   0,   0,   0,   0,   0,   0,   0,   0,   0,   0,   0,\n",
      "          0,   0,   0,   0,   0,   0,   0,   0,   0,   0,   0,   0,   0,   0,\n",
      "          0,   0,   0,   0,   0,   0,   0,   0,   0,   0])\n"
     ]
    },
    {
     "data": {
      "image/png": "[encoded data removed]",
      "text/plain": [
       "<Figure size 640x480 with 1 Axes>"
      ]
     },
     "metadata": {},
     "output_type": "display_data"
    }
   ],
   "source": [
    "# 测试数据集\n",
    "for dic in data_iter:\n",
    "    X = dic['X']\n",
    "    label = dic['labels']\n",
    "    # X 是一个 batch\n",
    "    print(X.shape)\n",
    "    test_id = 0\n",
    "    print(label[test_id])\n",
    "    plt.imshow(X[test_id][0]) # 查看 R 通道\n",
    "    break"
   ]
  },
  {
   "cell_type": "code",
   "execution_count": 8,
   "id": "e89f4d75",
   "metadata": {},
   "outputs": [],
   "source": [
    "# model\n",
    "def Loss(src, tgt):\n",
    "    src = torch.permute(src, dims=(0, 2, 1)) # 根据官方文档，分类必须在\n",
    "#     print(src.shape, tgt.shape)\n",
    "    return F.cross_entropy(src, tgt)\n",
    "\n",
    "class Krxk_model(nn.Module):\n",
    "    def __init__(self, tokenizer, encoder, decoder):\n",
    "        super().__init__()\n",
    "        self.tokenizer = tokenizer\n",
    "        self.encoder = encoder\n",
    "        self.embed_size = self.tokenizer.vocab_size\n",
    "        self.transformer_encoder_in_nums = 512\n",
    "        self.fc = nn.Sequential(nn.Flatten(), nn.Linear(2048 * 7 * 7, self.transformer_encoder_in_nums)) # 将 resnet 转化为 全连接\n",
    "        self.embed = nn.Embedding(self.embed_size, self.transformer_encoder_in_nums) # 嵌入为 transformer的in_features维度\n",
    "        self.decoder = decoder\n",
    "        self.fc_vocab = nn.Linear(self.transformer_encoder_in_nums, self.embed_size) # transformer 输出映射回词表\n",
    "        \n",
    "        # 用作临时 caption 测试案例\n",
    "#         test_caption = 'Krxk is a great developer.' \n",
    "#         print(test_caption)\n",
    "#         self.test_caption_tokenized = self.tokenizer.encode(test_caption, return_tensors='pt').repeat(6, 1) # 临时案例中有6张图片\n",
    "#         print(self.test_caption_tokenized.shape)\n",
    "#         print(self.embed(self.test_caption_tokenized).shape)\n",
    "        \n",
    "    def forward(self, X, labels):\n",
    "        encode = self.encoder(X).last_hidden_state\n",
    "        features = self.fc(encode) # 将图片特征映射为词表特征\n",
    "        \n",
    "        # 此处将 embeddings 与 resnet 提取的特征进行concat 输入 transformer\n",
    "#         embeddings = torch.concat((embeddings, embeddings), dim=1)\n",
    "        embeddings = self.embed(labels)\n",
    "        f = features.unsqueeze(1)\n",
    "#         print(embeddings.shape, f.shape)\n",
    "        embeddings_attach = torch.concat((embeddings, features.unsqueeze(1)), dim=1)\n",
    "\n",
    "        # decode 需要输入 src 与 tgt，分别用作 Transformer 编码器与解码器（输入正确的caption）的输入\n",
    "        decode = self.decoder(embeddings_attach, embeddings)\n",
    "        decode_ids = self.fc_vocab(decode)\n",
    "        \n",
    "        \n",
    "        return Loss(decode_ids, labels),decode_ids # 损失放在第一返回位置"
   ]
  },
  {
   "cell_type": "code",
   "execution_count": 9,
   "id": "1feb2d16",
   "metadata": {},
   "outputs": [],
   "source": [
    "# 定义 model\n",
    "model = Krxk_model(tokenizer ,model_encoder, model_decoder)"
   ]
  },
  {
   "cell_type": "code",
   "execution_count": 10,
   "id": "1f4e8eb3",
   "metadata": {},
   "outputs": [],
   "source": [
    "# 加载 model 保存的参数\n",
    "res_path = './Params/'\n",
    "Model_path = res_path + 'Model.bin'\n",
    "\n",
    "if os.path.exists(Model_path):\n",
    "    model.load_state_dict(torch.load(Model_path))"
   ]
  },
  {
   "cell_type": "code",
   "execution_count": 11,
   "id": "ab5c8cb3",
   "metadata": {},
   "outputs": [
    {
     "name": "stdout",
     "output_type": "stream",
     "text": [
      "torch.Size([4, 3, 200, 200])\n",
      "torch.Size([4, 80])\n",
      "tensor(1.6307, grad_fn=<NllLoss2DBackward0>) torch.Size([4, 80, 519])\n"
     ]
    }
   ],
   "source": [
    "# 模型测试\n",
    "model.eval() # 评估模式运行减少计算量\n",
    "for dic in data_iter:\n",
    "    X = dic['X']\n",
    "    label = dic['labels']\n",
    "    print(X.shape)\n",
    "    print(label.shape)\n",
    "    l, generated_ids = model.forward(X, label)\n",
    "    print(l, generated_ids.shape)\n",
    "    break"
   ]
  },
  {
   "cell_type": "code",
   "execution_count": 12,
   "id": "8cb01c18",
   "metadata": {},
   "outputs": [],
   "source": [
    "# 计算 metric\n",
    "evaluate_path = 'F:/DEVELOP/Machine-Learning/SRP/evaluate/metrics/'\n",
    "bleu_path = evaluate_path + 'bleu/bleu.py'\n",
    "wer_path = evaluate_path + 'wer/wer.py'\n",
    "accuracy_path = evaluate_path + 'accuracy/accuracy.py'\n",
    "\n",
    "bleu = evaluate.load(bleu_path)\n",
    "wer = evaluate.load(wer_path)\n",
    "accuracy = evaluate.load(accuracy_path)\n",
    "\n",
    "\n",
    "def compute_metrics(eval_pred): # 修改此处\n",
    "    predictions, label_ids = eval_pred\n",
    "    predictions = np.argmax(predictions, axis=2)\n",
    "    items_num = len(predictions)\n",
    "    total_accuracy = 0.0\n",
    "    total_bleu = 0.0\n",
    "    total_wer = 0.0\n",
    "    total_summary = 0.0\n",
    "    \n",
    "    \n",
    "    for i in range(items_num):\n",
    "        params_accuracy = {'predictions':predictions[i], 'references':label_ids[i]}\n",
    "        total_accuracy += accuracy.compute(**params_accuracy)['accuracy']\n",
    "        \n",
    "        de_prediction = tokenizer.decode(predictions[i])\n",
    "        de_label = tokenizer.decode(label_ids[i])\n",
    "        # 截断为共同长度\n",
    "        spec_len = min(len(de_prediction), len(de_label))\n",
    "        de_prediction = de_prediction[:spec_len]\n",
    "        de_label = de_label[:spec_len]\n",
    "#         print('de_predition',len(de_prediction))\n",
    "#         print('de_label',len(de_label))\n",
    "        \n",
    "        params_bleu = {'predictions':de_prediction, 'references':de_label}\n",
    "        params_wer = {'predictions':[de_prediction], 'references':[de_label]}\n",
    "        \n",
    "        total_bleu += bleu.compute(**params_bleu)['bleu']\n",
    "        total_wer += wer.compute(**params_wer)\n",
    "    \n",
    "    total_summary = (total_accuracy + total_bleu + total_wer) / 3\n",
    "    return {'bleu': total_bleu / items_num, 'wer' : total_wer / items_num ,\n",
    "            'accuracy' : total_accuracy / items_num , 'summary' : total_summary / items_num}"
   ]
  },
  {
   "cell_type": "code",
   "execution_count": 13,
   "id": "ca8bc80b",
   "metadata": {},
   "outputs": [],
   "source": [
    "# 训练参数\n",
    "training_args = TrainingArguments('./output',evaluation_strategy='epoch',save_strategy='epoch', learning_rate=5e-3, \n",
    "                                    load_best_model_at_end=True, num_train_epochs=2, use_cpu=True) # 暂时采用CPU\n",
    "trainer = Trainer(model, args=training_args, train_dataset=compose_train_set, eval_dataset=compose_val_set, \n",
    "                  compute_metrics=compute_metrics) # 修改数据集"
   ]
  },
  {
   "cell_type": "code",
   "execution_count": 14,
   "id": "45417eb8",
   "metadata": {},
   "outputs": [
    {
     "data": {
      "text/html": [
       "\n",
       "    <div>\n",
       "      \n",
       "      <progress value='2' max='2' style='width:300px; height:20px; vertical-align: middle;'></progress>\n",
       "      [2/2 00:10, Epoch 2/2]\n",
       "    </div>\n",
       "    <table border=\"1\" class=\"dataframe\">\n",
       "  <thead>\n",
       " <tr style=\"text-align: left;\">\n",
       "      <th>Epoch</th>\n",
       "      <th>Training Loss</th>\n",
       "      <th>Validation Loss</th>\n",
       "      <th>Bleu</th>\n",
       "      <th>Wer</th>\n",
       "      <th>Accuracy</th>\n",
       "      <th>Summary</th>\n",
       "    </tr>\n",
       "  </thead>\n",
       "  <tbody>\n",
       "    <tr>\n",
       "      <td>1</td>\n",
       "      <td>No log</td>\n",
       "      <td>1.372145</td>\n",
       "      <td>0.000000</td>\n",
       "      <td>0.163331</td>\n",
       "      <td>0.840625</td>\n",
       "      <td>0.334652</td>\n",
       "    </tr>\n",
       "    <tr>\n",
       "      <td>2</td>\n",
       "      <td>No log</td>\n",
       "      <td>1.218642</td>\n",
       "      <td>0.000000</td>\n",
       "      <td>0.163331</td>\n",
       "      <td>0.840625</td>\n",
       "      <td>0.334652</td>\n",
       "    </tr>\n",
       "  </tbody>\n",
       "</table><p>"
      ],
      "text/plain": [
       "<IPython.core.display.HTML object>"
      ]
     },
     "metadata": {},
     "output_type": "display_data"
    },
    {
     "name": "stdout",
     "output_type": "stream",
     "text": [
      "Wall time: 14.8 s\n"
     ]
    },
    {
     "data": {
      "text/plain": [
       "TrainOutput(global_step=2, training_loss=1.2826757431030273, metrics={'train_runtime': 14.6188, 'train_samples_per_second': 0.547, 'train_steps_per_second': 0.137, 'total_flos': 0.0, 'train_loss': 1.2826757431030273, 'epoch': 2.0})"
      ]
     },
     "execution_count": 14,
     "metadata": {},
     "output_type": "execute_result"
    }
   ],
   "source": [
    "%%time\n",
    "# 训练\n",
    "trainer.train(resume_from_checkpoint=False)"
   ]
  },
  {
   "cell_type": "code",
   "execution_count": 15,
   "id": "f9350413",
   "metadata": {},
   "outputs": [
    {
     "data": {
      "text/html": [],
      "text/plain": [
       "<IPython.core.display.HTML object>"
      ]
     },
     "metadata": {},
     "output_type": "display_data"
    },
    {
     "name": "stdout",
     "output_type": "stream",
     "text": [
      "0 Gen:  [PAD] [PAD] [PAD] [PAD] [PAD] [PAD] [PAD] [PAD] [PAD] [PAD] [PAD] [PAD] [PAD] [PAD] [PAD] [PAD] [PAD] [PAD] [PAD] [PAD] [PAD] [PAD] [PAD] [PAD] [PAD] [PAD] [PAD] [PAD] [PAD] [PAD] [PAD] [PAD] [PAD] [PAD] [PAD] [PAD] [PAD] [PAD] [PAD] [PAD] [PAD] [PAD] [PAD] [PAD] [PAD] [PAD] [PAD] [PAD] [PAD] [PAD] [PAD] [PAD] [PAD] [PAD] [PAD] [PAD] [PAD] [PAD] [PAD] [PAD] [PAD] [PAD] [PAD] [PAD] [PAD] [PAD] [PAD] [PAD] [PAD] [PAD] [PAD] [PAD] [PAD] [PAD] [PAD] [PAD] [PAD] [PAD] [PAD] [PAD]\n",
      "0 Rand:  \\arctan \\bmod \\sb [unused58] \\bigoplus \\hspace 4 [unused83] [unused34] \\left\\lbrack [unused34] [unused87] v F [unused64] \\varepsilon \\sharp \\stackrel \\mathrm \\left[ \\\\ \\subseteq [unused46] \\jmath \\cong \\circle \\tilde \\fbox \\perp \\star \\downarrow ( \\i \\kappa ^ \\Upsilon \\! \\flat \\right> Q \\beta \\longleftrightarrow \\scriptstyle \\Rightarrow \\mid [PAD] \\in \" \\Sigma \\begin{array} [unused88] \\tau j [unused34] a [unused7] \\_ \\longmapsto \\varsigma \\mathrm \\enskip \\backslash \\sqrt 0 [unused100] \\big a \\oint \\ell S \\subseteq \\boldmath 1 \\vec \\boldsymbol \\: \\raise [unused25] \\kappa [unused85]\n"
     ]
    }
   ],
   "source": [
    "# 预测代码测试\n",
    "eval_pred =  trainer.predict(test_dataset=compose_train_set)\n",
    "predictions = eval_pred.predictions\n",
    "for i, item in enumerate(predictions):\n",
    "    item_like = np.random.randn(*item.shape) # 随机对照\n",
    "    decodings = tokenizer.decode(np.argmax(item, axis=-1))\n",
    "    decodings_like = tokenizer.decode(np.argmax(item_like, axis=-1))\n",
    "    print(f'{i} Gen: ', decodings)\n",
    "    print(f'{i} Rand: ', decodings_like)\n",
    "    break"
   ]
  },
  {
   "cell_type": "code",
   "execution_count": 16,
   "id": "a85c0086",
   "metadata": {},
   "outputs": [],
   "source": [
    "# 保存模型\n",
    "tokenizer.save_pretrained(res_path)\n",
    "torch.save(model.state_dict(), Model_path)"
   ]
  },
  {
   "cell_type": "code",
   "execution_count": 17,
   "id": "632ccd88",
   "metadata": {},
   "outputs": [
    {
     "name": "stdout",
     "output_type": "stream",
     "text": [
      "('F:/DP-Dataset/test_end/1\\\\16.png', 0)\n"
     ]
    }
   ],
   "source": [
    "# 进行最终预测\n",
    "\n",
    "test_pic = 'F:/DP-Dataset/test_end/' # test 图片路径\n",
    "id_file_path = 'F:/DP-Dataset/test_end_id.txt'\n",
    "test_end_set = datasets.ImageFolder(test_pic, transform=data_args)\n",
    "\n",
    "# 观察路径形式，若不符合，需要修改img_seq加载代码\n",
    "print(test_end_set.imgs[0])"
   ]
  },
  {
   "cell_type": "code",
   "execution_count": 18,
   "id": "df8da22a",
   "metadata": {},
   "outputs": [
    {
     "name": "stdout",
     "output_type": "stream",
     "text": [
      "Finish\n"
     ]
    }
   ],
   "source": [
    "img_seq = []\n",
    "for item in test_end_set.imgs:\n",
    "    name = item[0]\n",
    "    name = name.split('\\\\')[1]\n",
    "    img_seq.append(name)\n",
    "    \n",
    "\n",
    "model.eval()\n",
    "test_end_iter = torch.utils.data.DataLoader(test_end_set, batch_size=batch_size, shuffle=False)\n",
    "tgt = torch.zeros((batch_size, 80),dtype=torch.int64)\n",
    "\n",
    "\n",
    "with open('./img_list.bin', 'wb') as f_img_list:\n",
    "    pickle.dump(img_seq, f_img_list) # 保存图片加载顺序\n",
    "    \n",
    "with open('./test_end_output.txt', 'w', encoding='utf-8') as f_test_out:\n",
    "    with torch.no_grad():\n",
    "        for X, _ in test_end_iter:\n",
    "            tgt = torch.zeros((X.shape[0], 80),dtype=torch.int64)\n",
    "            _, pre_end = model(X, tgt)\n",
    "#             print(pre_end)\n",
    "            for item in pre_end:\n",
    "                decodings = tokenizer.decode(np.argmax(item, axis=-1))\n",
    "                f_test_out.write('Gen:' + ClearSpecialChar(decodings) + '\\n')\n",
    "print('Finish')"
   ]
  }
 ],
 "metadata": {
  "kernelspec": {
   "display_name": "Python 3 (ipykernel)",
   "language": "python",
   "name": "python3"
  },
  "language_info": {
   "codemirror_mode": {
    "name": "ipython",
    "version": 3
   },
   "file_extension": ".py",
   "mimetype": "text/x-python",
   "name": "python",
   "nbconvert_exporter": "python",
   "pygments_lexer": "ipython3",
   "version": "3.9.13"
  }
 },
 "nbformat": 4,
 "nbformat_minor": 5
}
