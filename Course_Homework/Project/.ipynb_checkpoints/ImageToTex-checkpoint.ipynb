{
 "cells": [
  {
   "cell_type": "code",
   "execution_count": 18,
   "id": "6b7959a3",
   "metadata": {},
   "outputs": [],
   "source": [
    "from transformers import ResNetConfig,ResNetModel,BertTokenizer,Trainer,TrainingArguments\n",
    "import os\n",
    "os.environ['KMP_DUPLICATE_LIB_OK']='True'\n",
    "from PIL import Image\n",
    "from PIL import ImageFile\n",
    "ImageFile.LOAD_TRUNCATED_IMAGES = True\n",
    "import torch\n",
    "from torch import nn\n",
    "import torch.nn.functional as F\n",
    "import torchvision\n",
    "from torchvision import transforms, datasets\n",
    "import pickle\n",
    "import evaluate\n",
    "import numpy as np"
   ]
  },
  {
   "cell_type": "code",
   "execution_count": 2,
   "id": "f52a37f5",
   "metadata": {},
   "outputs": [],
   "source": [
    "# tokenizer\n",
    "tokenizer = BertTokenizer('./vocab.txt',)\n",
    "# encoder\n",
    "config_encoder = ResNetConfig()\n",
    "model_encoder = ResNetModel(config=config_encoder)\n",
    "# decoder\n",
    "model_decoder = nn.Transformer(batch_first=True)"
   ]
  },
  {
   "cell_type": "code",
   "execution_count": 3,
   "id": "26b3d525",
   "metadata": {},
   "outputs": [
    {
     "name": "stdout",
     "output_type": "stream",
     "text": [
      "tensor([[ 101,  180, 1197, 1775, 1377, 1110,  170, 1632, 9991,  119,  102],\n",
      "        [ 101,  180, 1197, 1775, 1377, 1110,  170, 1632, 9991,  119,  102]])\n",
      "torch.Size([2, 11])\n"
     ]
    }
   ],
   "source": [
    "# 测试 tokenizer\n",
    "test_caption = 'Krxk is a great developer.'\n",
    "t = tokenizer.encode(test_caption,return_tensors='pt')\n",
    "t = t.repeat((2, 1))\n",
    "print(t)\n",
    "print(t.shape)"
   ]
  },
  {
   "cell_type": "code",
   "execution_count": 4,
   "id": "f3255465",
   "metadata": {},
   "outputs": [],
   "source": [
    "# 加载 caption\n",
    "# 纯数学公式\n",
    "save_cwd = os.getcwd()\n",
    "\n",
    "root_dir = 'F:/DP-Dataset/dataset-formula/'\n",
    "os.chdir(root_dir)\n",
    "train_dir = root_dir + 'train'\n",
    "val_dir = root_dir + 'dev'\n",
    "\n",
    "out_path_mid = root_dir.split('/')[-2].replace('dataset-', '') + '_'\n",
    "\n",
    "with open(out_path_mid + 'train_out', 'rb') as f:\n",
    "    train_labels = pickle.load(f)\n",
    "    \n",
    "with open(out_path_mid + 'dev_out', 'rb') as f:\n",
    "    val_labels = pickle.load(f)\n",
    "    \n",
    "with open(out_path_mid + 'test_out', 'rb') as f:\n",
    "    test_labels = pickle.load(f)\n",
    "    \n",
    "os.chdir(save_cwd)"
   ]
  },
  {
   "cell_type": "code",
   "execution_count": 5,
   "id": "499b1ed8",
   "metadata": {},
   "outputs": [],
   "source": [
    "# train_labels, val_labels"
   ]
  },
  {
   "cell_type": "code",
   "execution_count": 6,
   "id": "97f13734",
   "metadata": {},
   "outputs": [],
   "source": [
    "# 用于整合 Image 与 Caption，构造 Image-Caption 数据集，同时预先对label进行tokenize(tokenize后为二维，压缩0维)\n",
    "class Compose_Dataset(torch.utils.data.dataset.Dataset):\n",
    "    def __init__(self, image_dataset, caption_list, tokenizer):\n",
    "        super().__init__()\n",
    "        self.image_dataset = image_dataset\n",
    "        self.caption_list = caption_list\n",
    "        self.imgs = image_dataset.imgs\n",
    "        self.tokenizer = tokenizer\n",
    "    def __getitem__(self, idx):\n",
    "        index = self.caption_list['id'].index(self.imgs[idx][0].split('\\\\')[-1].replace('png', 'txt'))\n",
    "        return {'X':self.image_dataset[idx][0], 'labels':self.tokenizer.encode(\n",
    "            self.caption_list['label'][index], padding='max_length', truncation=True, max_length=80, return_tensors='pt').squeeze()}\n",
    "    def __len__(self):\n",
    "        return len(self.image_dataset)"
   ]
  },
  {
   "cell_type": "code",
   "execution_count": 7,
   "id": "21c1cc65",
   "metadata": {},
   "outputs": [
    {
     "name": "stderr",
     "output_type": "stream",
     "text": [
      "C:\\Users\\12469\\anaconda3\\lib\\site-packages\\torchvision\\transforms\\transforms.py:329: UserWarning: Argument 'interpolation' of type int is deprecated since 0.13 and will be removed in 0.15. Please use InterpolationMode enum.\n",
      "  warnings.warn(\n"
     ]
    }
   ],
   "source": [
    "pic_dir = 'F:/DP-Dataset/s'\n",
    "data_args = transforms.Compose([\n",
    "    transforms.Pad([200, 200]), # 填充\n",
    "    transforms.Resize((200,200), interpolation=Image.Resampling.BICUBIC), # 调整为正方形并统一大小\n",
    "    transforms.ToTensor()\n",
    "])\n",
    "data_set = datasets.ImageFolder(pic_dir, transform=data_args)\n",
    "\n",
    "with open('F://DP-Dataset//s/formula_dev_out', 'rb') as f: # 打开格式化后的caption二进制文件\n",
    "    label_list = pickle.load(f)\n",
    "compose_dataset = Compose_Dataset(data_set, label_list, tokenizer)\n",
    "\n",
    "batch_size = 32\n",
    "data_iter = torch.utils.data.DataLoader(compose_dataset, batch_size=batch_size, shuffle=True)"
   ]
  },
  {
   "cell_type": "code",
   "execution_count": 24,
   "id": "252c295d",
   "metadata": {},
   "outputs": [
    {
     "name": "stdout",
     "output_type": "stream",
     "text": [
      "torch.Size([2, 3, 200, 200])\n",
      "tensor([ 101,  165, 1286,  165,  196,  165, 3295,  196, 9245,  198,  196,  181,\n",
      "         198,  193,  168,  196,  122,  198,  133,  193,  168,  196,  123,  198,\n",
      "         165,  165,  175,  165, 1286,  113,  193,  168,  196,  122,  198,  165,\n",
      "        1268,  114,  133,  175,  165, 1286,  113,  193,  168,  196,  123,  198,\n",
      "         165, 1268,  114,  165, 1322,  196, 9245,  198,  165, 1268,  119,  102,\n",
      "           0,    0,    0,    0,    0,    0,    0,    0,    0,    0,    0,    0,\n",
      "           0,    0,    0,    0,    0,    0,    0,    0])\n"
     ]
    },
    {
     "data": {
      "image/png": "[encoded data removed]",
      "text/plain": [
       "<Figure size 640x480 with 1 Axes>"
      ]
     },
     "metadata": {},
     "output_type": "display_data"
    }
   ],
   "source": [
    "# 测试数据集\n",
    "import matplotlib.pyplot as plt\n",
    "for dic in data_iter:\n",
    "    X = dic['X']\n",
    "    label = dic['labels']\n",
    "    # X 是一个 batch\n",
    "    print(X.shape)\n",
    "    test_id = 0\n",
    "    print(label[test_id])\n",
    "    plt.imshow(X[test_id][0]) # 查看 R 通道\n",
    "    break"
   ]
  },
  {
   "cell_type": "code",
   "execution_count": 9,
   "id": "e89f4d75",
   "metadata": {},
   "outputs": [],
   "source": [
    "# model\n",
    "def Loss(src, tgt):\n",
    "    return F.cross_entropy(src, tgt)\n",
    "\n",
    "class Krxk_model(nn.Module):\n",
    "    def __init__(self, tokenizer, encoder, decoder):\n",
    "        super().__init__()\n",
    "        self.tokenizer = tokenizer\n",
    "        self.encoder = encoder\n",
    "        self.embed_size = self.tokenizer.vocab_size\n",
    "        self.transformer_encoder_in_nums = 512\n",
    "        self.fc = nn.Sequential(nn.Flatten(), nn.Linear(2048 * 7 * 7, self.transformer_encoder_in_nums)) # 将 resnet 转化为 全连接\n",
    "        self.embed = nn.Embedding(self.embed_size, self.transformer_encoder_in_nums) # 嵌入为 transformer的in_features维度\n",
    "        self.decoder = decoder\n",
    "        \n",
    "        # 用作临时 caption 测试案例\n",
    "#         test_caption = 'Krxk is a great developer.' \n",
    "#         print(test_caption)\n",
    "#         self.test_caption_tokenized = self.tokenizer.encode(test_caption, return_tensors='pt').repeat(6, 1) # 临时案例中有6张图片\n",
    "#         print(self.test_caption_tokenized.shape)\n",
    "#         print(self.embed(self.test_caption_tokenized).shape)\n",
    "        \n",
    "    def forward(self, X, labels):\n",
    "        encode = self.encoder(X).last_hidden_state\n",
    "        features = self.fc(encode) # 将图片特征映射为词表特征\n",
    "        \n",
    "        # 此处将 embeddings 与 resnet 提取的特征进行concat 输入 transformer\n",
    "#         embeddings = torch.concat((embeddings, embeddings), dim=1)\n",
    "        embeddings = self.embed(labels)\n",
    "        f = features.unsqueeze(1)\n",
    "#         print(embeddings.shape, f.shape)\n",
    "        embeddings_attach = torch.concat((embeddings, features.unsqueeze(1)), dim=1)\n",
    "\n",
    "        # decode 需要输入 src 与 tgt，分别用作 Transformer 编码器与解码器（输入正确的caption）的输入\n",
    "        decode = self.decoder(embeddings_attach, embeddings)\n",
    "        return Loss(embeddings,decode),decode # 损失放在第一返回位置"
   ]
  },
  {
   "cell_type": "code",
   "execution_count": 10,
   "id": "1feb2d16",
   "metadata": {},
   "outputs": [],
   "source": [
    "# 定义 model\n",
    "model = Krxk_model(tokenizer ,model_encoder, model_decoder)"
   ]
  },
  {
   "cell_type": "code",
   "execution_count": 11,
   "id": "12dec686",
   "metadata": {},
   "outputs": [],
   "source": [
    "# # 图片测试\n",
    "# pic_dir = './pic/'\n",
    "# data_args = transforms.Compose([\n",
    "#     transforms.Resize((224,224)),\n",
    "#     transforms.ToTensor()\n",
    "# ])\n",
    "# data_set = datasets.ImageFolder(pic_dir, transform=data_args)\n",
    "# batch_size = 32\n",
    "# data_iter = torch.utils.data.DataLoader(data_set, batch_size=batch_size)"
   ]
  },
  {
   "cell_type": "code",
   "execution_count": 12,
   "id": "ab5c8cb3",
   "metadata": {},
   "outputs": [
    {
     "name": "stdout",
     "output_type": "stream",
     "text": [
      "torch.Size([2, 3, 200, 200])\n",
      "torch.Size([2, 80])\n",
      "tensor(-2.7705, grad_fn=<DivBackward1>) torch.Size([2, 80, 512])\n"
     ]
    }
   ],
   "source": [
    "# 模型测试\n",
    "model.eval() # 评估模式运行减少计算量\n",
    "for dic in data_iter:\n",
    "    X = dic['X']\n",
    "    label = dic['labels']\n",
    "    print(X.shape)\n",
    "    print(label.shape)\n",
    "    l, generated_ids = model.forward(X, label)\n",
    "    print(l, generated_ids.shape)\n",
    "    break"
   ]
  },
  {
   "cell_type": "code",
   "execution_count": 19,
   "id": "8cb01c18",
   "metadata": {},
   "outputs": [],
   "source": [
    "# 计算 metric\n",
    "assess_path = 'F:/DEVELOP/Machine-Learning/SRP/evaluate/metrics/accuracy/accuracy.py'\n",
    "accuracy = evaluate.load(assess_path)\n",
    "def compute_metrics(eval_pred): # 修改此处\n",
    "    predictions, labels = eval_pred\n",
    "    predictions = np.argmax(predictions, axis=1)\n",
    "    return accuracy.compute(predictions=predictions, references=labels)"
   ]
  },
  {
   "cell_type": "code",
   "execution_count": 22,
   "id": "ca8bc80b",
   "metadata": {},
   "outputs": [],
   "source": [
    "# 训练参数\n",
    "training_args = TrainingArguments('./output',evaluation_strategy='epoch',save_strategy='epoch', learning_rate=5e-3, \n",
    "                                    load_best_model_at_end=True, num_train_epochs=5, use_cpu=True) # 暂时采用CPU\n",
    "trainer = Trainer(model, args=training_args, train_dataset=compose_dataset, eval_dataset=compose_dataset, compute_metrics=None) # 修改数据集"
   ]
  },
  {
   "cell_type": "code",
   "execution_count": 23,
   "id": "45417eb8",
   "metadata": {},
   "outputs": [
    {
     "data": {
      "text/html": [
       "\n",
       "    <div>\n",
       "      \n",
       "      <progress value='5' max='5' style='width:300px; height:20px; vertical-align: middle;'></progress>\n",
       "      [5/5 02:05, Epoch 5/5]\n",
       "    </div>\n",
       "    <table border=\"1\" class=\"dataframe\">\n",
       "  <thead>\n",
       " <tr style=\"text-align: left;\">\n",
       "      <th>Epoch</th>\n",
       "      <th>Training Loss</th>\n",
       "      <th>Validation Loss</th>\n",
       "    </tr>\n",
       "  </thead>\n",
       "  <tbody>\n",
       "    <tr>\n",
       "      <td>1</td>\n",
       "      <td>No log</td>\n",
       "      <td>-33.175125</td>\n",
       "    </tr>\n",
       "    <tr>\n",
       "      <td>2</td>\n",
       "      <td>No log</td>\n",
       "      <td>-36.971756</td>\n",
       "    </tr>\n",
       "    <tr>\n",
       "      <td>3</td>\n",
       "      <td>No log</td>\n",
       "      <td>-39.589691</td>\n",
       "    </tr>\n",
       "    <tr>\n",
       "      <td>4</td>\n",
       "      <td>No log</td>\n",
       "      <td>-41.063450</td>\n",
       "    </tr>\n",
       "    <tr>\n",
       "      <td>5</td>\n",
       "      <td>No log</td>\n",
       "      <td>-41.779083</td>\n",
       "    </tr>\n",
       "  </tbody>\n",
       "</table><p>"
      ],
      "text/plain": [
       "<IPython.core.display.HTML object>"
      ]
     },
     "metadata": {},
     "output_type": "display_data"
    },
    {
     "name": "stdout",
     "output_type": "stream",
     "text": [
      "Wall time: 2min 7s\n"
     ]
    },
    {
     "data": {
      "text/plain": [
       "TrainOutput(global_step=5, training_loss=-35.177740478515624, metrics={'train_runtime': 127.7952, 'train_samples_per_second': 0.078, 'train_steps_per_second': 0.039, 'total_flos': 0.0, 'train_loss': -35.177740478515624, 'epoch': 5.0})"
      ]
     },
     "execution_count": 23,
     "metadata": {},
     "output_type": "execute_result"
    }
   ],
   "source": [
    "%%time\n",
    "# 训练\n",
    "trainer.train(resume_from_checkpoint=False)"
   ]
  }
 ],
 "metadata": {
  "kernelspec": {
   "display_name": "Python 3 (ipykernel)",
   "language": "python",
   "name": "python3"
  },
  "language_info": {
   "codemirror_mode": {
    "name": "ipython",
    "version": 3
   },
   "file_extension": ".py",
   "mimetype": "text/x-python",
   "name": "python",
   "nbconvert_exporter": "python",
   "pygments_lexer": "ipython3",
   "version": "3.9.13"
  }
 },
 "nbformat": 4,
 "nbformat_minor": 5
}
