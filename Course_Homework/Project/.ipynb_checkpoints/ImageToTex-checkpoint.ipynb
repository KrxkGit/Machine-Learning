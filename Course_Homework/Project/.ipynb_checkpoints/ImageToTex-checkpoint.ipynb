{
 "cells": [
  {
   "cell_type": "code",
   "execution_count": 1,
   "id": "6b7959a3",
   "metadata": {},
   "outputs": [],
   "source": [
    "from transformers import ResNetConfig,ResNetModel,BertTokenizer,Trainer\n",
    "import os\n",
    "os.environ['KMP_DUPLICATE_LIB_OK']='True'\n",
    "from PIL import Image\n",
    "from PIL import ImageFile\n",
    "ImageFile.LOAD_TRUNCATED_IMAGES = True\n",
    "import torch\n",
    "from torch import nn\n",
    "import torchvision\n",
    "from torchvision import transforms, datasets"
   ]
  },
  {
   "cell_type": "code",
   "execution_count": 2,
   "id": "f52a37f5",
   "metadata": {},
   "outputs": [],
   "source": [
    "# tokenizer\n",
    "tokenizer = BertTokenizer('./vocab.txt',)\n",
    "# encoder\n",
    "config_encoder = ResNetConfig()\n",
    "model_encoder = ResNetModel(config=config_encoder)\n",
    "# decoder\n",
    "model_decoder = nn.Transformer(batch_first=True)"
   ]
  },
  {
   "cell_type": "code",
   "execution_count": 3,
   "id": "26b3d525",
   "metadata": {},
   "outputs": [
    {
     "name": "stdout",
     "output_type": "stream",
     "text": [
      "tensor([[ 101,  180, 1197, 1775, 1377, 1110,  170, 1632, 9991,  119,  102],\n",
      "        [ 101,  180, 1197, 1775, 1377, 1110,  170, 1632, 9991,  119,  102]])\n",
      "torch.Size([2, 11])\n"
     ]
    }
   ],
   "source": [
    "# 测试 tokenizer\n",
    "test_caption = 'Krxk is a great developer.'\n",
    "t = tokenizer.encode(test_caption,return_tensors='pt')\n",
    "t = t.repeat((2, 1))\n",
    "print(t)\n",
    "print(t.shape)"
   ]
  },
  {
   "cell_type": "code",
   "execution_count": 4,
   "id": "e89f4d75",
   "metadata": {},
   "outputs": [],
   "source": [
    "# model\n",
    "class Krxk_model(nn.Module):\n",
    "    def __init__(self, tokenizer, encoder, decoder):\n",
    "        super().__init__()\n",
    "        self.tokenizer = tokenizer\n",
    "        self.encoder = encoder\n",
    "        self.embed_size = self.tokenizer.vocab_size\n",
    "        self.transformer_encoder_in_nums = 512\n",
    "        self.fc = nn.Sequential(nn.Flatten(), nn.Linear(2048 * 7 * 7, self.transformer_encoder_in_nums)) # 将 resnet 转化为 全连接\n",
    "        self.embed = nn.Embedding(self.embed_size, self.transformer_encoder_in_nums) # 嵌入为 transformer的in_features维度\n",
    "        self.decoder = decoder\n",
    "        \n",
    "        # 用作临时 caption 测试案例\n",
    "        test_caption = 'Krxk is a great developer.' \n",
    "        print(test_caption)\n",
    "        self.test_caption_tokenized = self.tokenizer.encode(test_caption, return_tensors='pt').repeat(6, 1) # 临时案例中有6张图片\n",
    "        print(self.test_caption_tokenized.shape)\n",
    "        print(self.embed(self.test_caption_tokenized).shape)\n",
    "        \n",
    "    def forward(self, X):\n",
    "        encode = self.encoder(X).last_hidden_state\n",
    "        features = self.fc(encode) # 将图片特征映射为词表特征\n",
    "        \n",
    "        # 此处将 embeddings 与 resnet 提取的特征进行concat 输入 transformer\n",
    "#         embeddings = torch.concat((embeddings, embeddings), dim=1)\n",
    "        embeddings = self.embed(self.test_caption_tokenized)\n",
    "        f = features.unsqueeze(1)\n",
    "        print(embeddings.shape, f.shape)\n",
    "        embeddings = torch.concat((embeddings, features.unsqueeze(1)), dim=1)\n",
    "\n",
    "        # decode 需要输入 src 与 tgt，分别用作 Transformer 编码器与解码器（输入正确的caption）的输入\n",
    "        decode = self.decoder(embeddings, torch.ones_like(embeddings))\n",
    "        return decode"
   ]
  },
  {
   "cell_type": "code",
   "execution_count": 5,
   "id": "1feb2d16",
   "metadata": {},
   "outputs": [
    {
     "name": "stdout",
     "output_type": "stream",
     "text": [
      "Krxk is a great developer.\n",
      "torch.Size([6, 11])\n",
      "torch.Size([6, 11, 512])\n"
     ]
    }
   ],
   "source": [
    "# 定义 model\n",
    "model = Krxk_model(tokenizer ,model_encoder, model_decoder)"
   ]
  },
  {
   "cell_type": "code",
   "execution_count": 6,
   "id": "12dec686",
   "metadata": {},
   "outputs": [],
   "source": [
    "# 图片测试\n",
    "pic_dir = './pic/'\n",
    "data_args = transforms.Compose([\n",
    "    transforms.Resize((224,224)),\n",
    "    transforms.ToTensor()\n",
    "])\n",
    "data_set = datasets.ImageFolder(pic_dir, transform=data_args)\n",
    "batch_size = 32\n",
    "data_iter = torch.utils.data.DataLoader(data_set, batch_size=batch_size)"
   ]
  },
  {
   "cell_type": "code",
   "execution_count": 7,
   "id": "ab5c8cb3",
   "metadata": {},
   "outputs": [
    {
     "name": "stdout",
     "output_type": "stream",
     "text": [
      "torch.Size([6, 3, 224, 224])\n",
      "torch.Size([6, 11, 512]) torch.Size([6, 1, 512])\n",
      "torch.Size([6, 12, 512])\n"
     ]
    }
   ],
   "source": [
    "# 模型测试\n",
    "model.eval() # 评估模式运行减少计算量\n",
    "for X, _ in data_iter:\n",
    "    print(X.shape)\n",
    "    generated_ids = model.forward(X)\n",
    "    print(generated_ids.shape)\n",
    "    break"
   ]
  },
  {
   "cell_type": "code",
   "execution_count": null,
   "id": "ca8bc80b",
   "metadata": {},
   "outputs": [],
   "source": [
    "# 训练"
   ]
  }
 ],
 "metadata": {
  "kernelspec": {
   "display_name": "Python 3 (ipykernel)",
   "language": "python",
   "name": "python3"
  },
  "language_info": {
   "codemirror_mode": {
    "name": "ipython",
    "version": 3
   },
   "file_extension": ".py",
   "mimetype": "text/x-python",
   "name": "python",
   "nbconvert_exporter": "python",
   "pygments_lexer": "ipython3",
   "version": "3.9.13"
  }
 },
 "nbformat": 4,
 "nbformat_minor": 5
}
