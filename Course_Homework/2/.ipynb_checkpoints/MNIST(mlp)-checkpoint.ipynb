{
 "cells": [
  {
   "cell_type": "code",
   "execution_count": 1,
   "id": "5c41f200",
   "metadata": {},
   "outputs": [],
   "source": [
    "import numpy as np\n",
    "import torch\n",
    "import os\n",
    "os.environ['KMP_DUPLICATE_LIB_OK']='True'\n",
    "import matplotlib.pyplot as plt\n",
    "from IPython import display\n",
    "from torch import nn\n",
    "import torchvision"
   ]
  },
  {
   "cell_type": "code",
   "execution_count": 2,
   "id": "a3d97c68",
   "metadata": {},
   "outputs": [],
   "source": [
    "train_dataset = torchvision.datasets.MNIST('../data/', train=True, download=True, transform=torchvision.transforms.ToTensor())"
   ]
  },
  {
   "cell_type": "code",
   "execution_count": 3,
   "id": "f08ad259",
   "metadata": {},
   "outputs": [],
   "source": [
    "batch_size = 32\n",
    "data_loader_train = torch.utils.data.DataLoader(dataset=train_dataset, batch_size=batch_size, shuffle=True)"
   ]
  },
  {
   "cell_type": "code",
   "execution_count": null,
   "id": "85edbfde",
   "metadata": {},
   "outputs": [],
   "source": [
    "class Krxk_model(nn.Module):\n",
    "    def __init__(self):\n",
    "        super().__init__()\n",
    "        self.net = nn.Sequential(nn.Flatten(), nn.Linear(784, 10))\n",
    "        def init_weight(m):\n",
    "            if type(m) == nn.Linear:\n",
    "                nn.init.normal_(m.weight, std=0.01)\n",
    "        self.net.apply(init_weight)\n",
    "\n",
    "    def forward(self, X):\n",
    "        return self.net(X)"
   ]
  },
  {
   "cell_type": "code",
   "execution_count": null,
   "id": "95e71630",
   "metadata": {},
   "outputs": [],
   "source": [
    "loss = nn.CrossEntropyLoss()"
   ]
  },
  {
   "cell_type": "code",
   "execution_count": null,
   "id": "855c10c9",
   "metadata": {},
   "outputs": [],
   "source": [
    "model = Krxk_model()\n",
    "lr = 0.001\n",
    "optimizer = torch.optim.SGD(model.parameters(), lr=lr)"
   ]
  },
  {
   "cell_type": "code",
   "execution_count": null,
   "id": "d2691610",
   "metadata": {},
   "outputs": [],
   "source": [
    "# 测试\n",
    "print(model.net)\n",
    "for X, y in data_loader_train:\n",
    "        print(X.shape, y.shape)\n",
    "        y_hat = model.forward(X)\n",
    "        res = y_hat.argmax(dim=1)\n",
    "        print(y.shape)\n",
    "        print( ((res == y)*torch.ones_like(y)).sum()/(y.shape[0]) )\n",
    "        \n",
    "        break"
   ]
  },
  {
   "cell_type": "code",
   "execution_count": null,
   "id": "f5ada0c9",
   "metadata": {},
   "outputs": [],
   "source": [
    "# 初始化绘图环境\n",
    "fig, axes = plt.subplots(1, 2)"
   ]
  },
  {
   "cell_type": "code",
   "execution_count": null,
   "id": "59c7c8e3",
   "metadata": {},
   "outputs": [],
   "source": [
    "%time\n",
    "epochs = 10\n",
    "device = 'cuda' if torch.cuda.device_count()>0 else 'cpu'\n",
    "\n",
    "epoch_loss = []\n",
    "accuracy = []\n",
    "\n",
    "print('训练设备：', device)\n",
    "\n",
    "model.to(device)\n",
    "for epoch in range(epochs):\n",
    "    pre_true = 0\n",
    "    pre_total = 0\n",
    "    for X, y in data_loader_train:\n",
    "        X, y = X.to(device), y.to(device)\n",
    "        y_hat = model.forward(X)\n",
    "        \n",
    "        # 计算精确度\n",
    "        pre_label = y_hat.argmax(dim=1)\n",
    "        pre_true += ((pre_label == y)* torch.ones_like(y)).sum()\n",
    "        pre_total += y.shape[0]\n",
    "        \n",
    "        l = loss(y_hat, y)/batch_size\n",
    "        l.backward()\n",
    "        optimizer.step()\n",
    "    \n",
    "    epoch_loss.append(l.cpu().detach().numpy())\n",
    "    accuracy.append((pre_true/pre_total).cpu().detach().numpy())\n",
    "    \n",
    "    for ax in axes:\n",
    "        ax.cla() # 清空绘图缓存\n",
    "        \n",
    "    axes[0].plot(range(epoch+1), epoch_loss, 'green',label='loss')\n",
    "    axes[1].plot(range(epoch+1), accuracy, 'orange',label='accuracy')\n",
    "    display.clear_output(wait=True) # 清空上一步输出\n",
    "\n",
    "    axes[0].set_title('Loss')\n",
    "    axes[1].set_title('Accuracy')\n",
    "    for ax in axes:\n",
    "        ax.grid()\n",
    "        ax.legend()\n",
    "\n",
    "    fig.tight_layout()\n",
    "    display.display(fig)\n",
    "    \n",
    "    print(f'Epoch {epoch} Loss: {l}')\n",
    "    print(f'Epoch {epoch} Accuracy: {accuracy[-1]}')\n",
    "\n",
    "print('Finished')"
   ]
  },
  {
   "cell_type": "code",
   "execution_count": null,
   "id": "b63ed17f",
   "metadata": {},
   "outputs": [],
   "source": [
    "# 保存\n",
    "torch.save(model.state_dict(), './hw_2-MINIST.bin')"
   ]
  }
 ],
 "metadata": {
  "kernelspec": {
   "display_name": "Python 3 (ipykernel)",
   "language": "python",
   "name": "python3"
  },
  "language_info": {
   "codemirror_mode": {
    "name": "ipython",
    "version": 3
   },
   "file_extension": ".py",
   "mimetype": "text/x-python",
   "name": "python",
   "nbconvert_exporter": "python",
   "pygments_lexer": "ipython3",
   "version": "3.9.13"
  }
 },
 "nbformat": 4,
 "nbformat_minor": 5
}
